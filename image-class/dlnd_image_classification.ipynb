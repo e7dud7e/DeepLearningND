{
 "cells": [
  {
   "cell_type": "markdown",
   "metadata": {
    "collapsed": true,
    "deletable": true,
    "editable": true
   },
   "source": [
    "# Image Classification\n",
    "In this project, you'll classify images from the [CIFAR-10 dataset](https://www.cs.toronto.edu/~kriz/cifar.html).  The dataset consists of airplanes, dogs, cats, and other objects. You'll preprocess the images, then train a convolutional neural network on all the samples. The images need to be normalized and the labels need to be one-hot encoded.  You'll get to apply what you learned and build a convolutional, max pooling, dropout, and fully connected layers.  At the end, you'll get to see your neural network's predictions on the sample images.\n",
    "## Get the Data\n",
    "Run the following cell to download the [CIFAR-10 dataset for python](https://www.cs.toronto.edu/~kriz/cifar-10-python.tar.gz)."
   ]
  },
  {
   "cell_type": "code",
   "execution_count": 3,
   "metadata": {
    "collapsed": false,
    "deletable": true,
    "editable": true
   },
   "outputs": [
    {
     "name": "stderr",
     "output_type": "stream",
     "text": [
      "CIFAR-10 Dataset: 171MB [00:38, 4.62MB/s]                              \n"
     ]
    },
    {
     "name": "stdout",
     "output_type": "stream",
     "text": [
      "All files found!\n"
     ]
    }
   ],
   "source": [
    "\"\"\"\n",
    "DON'T MODIFY ANYTHING IN THIS CELL THAT IS BELOW THIS LINE\n",
    "\"\"\"\n",
    "from urllib.request import urlretrieve\n",
    "from os.path import isfile, isdir\n",
    "from tqdm import tqdm\n",
    "import problem_unittests as tests\n",
    "import tarfile\n",
    "\n",
    "cifar10_dataset_folder_path = 'cifar-10-batches-py'\n",
    "\n",
    "class DLProgress(tqdm):\n",
    "    last_block = 0\n",
    "\n",
    "    def hook(self, block_num=1, block_size=1, total_size=None):\n",
    "        self.total = total_size\n",
    "        self.update((block_num - self.last_block) * block_size)\n",
    "        self.last_block = block_num\n",
    "\n",
    "if not isfile('cifar-10-python.tar.gz'):\n",
    "    with DLProgress(unit='B', unit_scale=True, miniters=1, desc='CIFAR-10 Dataset') as pbar:\n",
    "        urlretrieve(\n",
    "            'https://www.cs.toronto.edu/~kriz/cifar-10-python.tar.gz',\n",
    "            'cifar-10-python.tar.gz',\n",
    "            pbar.hook)\n",
    "\n",
    "if not isdir(cifar10_dataset_folder_path):\n",
    "    with tarfile.open('cifar-10-python.tar.gz') as tar:\n",
    "        tar.extractall()\n",
    "        tar.close()\n",
    "\n",
    "\n",
    "tests.test_folder_path(cifar10_dataset_folder_path)"
   ]
  },
  {
   "cell_type": "markdown",
   "metadata": {
    "deletable": true,
    "editable": true
   },
   "source": [
    "## Explore the Data\n",
    "The dataset is broken into batches to prevent your machine from running out of memory.  The CIFAR-10 dataset consists of 5 batches, named `data_batch_1`, `data_batch_2`, etc.. Each batch contains the labels and images that are one of the following:\n",
    "* airplane\n",
    "* automobile\n",
    "* bird\n",
    "* cat\n",
    "* deer\n",
    "* dog\n",
    "* frog\n",
    "* horse\n",
    "* ship\n",
    "* truck\n",
    "\n",
    "Understanding a dataset is part of making predictions on the data.  Play around with the code cell below by changing the `batch_id` and `sample_id`. The `batch_id` is the id for a batch (1-5). The `sample_id` is the id for a image and label pair in the batch.\n",
    "\n",
    "Ask yourself \"What are all possible labels?\", \"What is the range of values for the image data?\", \"Are the labels in order or random?\".  Answers to questions like these will help you preprocess the data and end up with better predictions."
   ]
  },
  {
   "cell_type": "markdown",
   "metadata": {
    "deletable": true,
    "editable": true
   },
   "source": [
    "#### Notes on data ranges\n",
    "batches 1 to 5\n",
    "each batch has 10,000 samples (sample 0 to 9,999)\n",
    "\n",
    "image min/max values range from 0 to 255\n",
    "\n",
    "image dimensions are 32 by 32 with depth of 3 (red, green, blue).\n",
    "\n",
    "Samples are not sorted by labels, so they look random."
   ]
  },
  {
   "cell_type": "code",
   "execution_count": 4,
   "metadata": {
    "collapsed": false,
    "deletable": true,
    "editable": true
   },
   "outputs": [
    {
     "name": "stdout",
     "output_type": "stream",
     "text": [
      "\n",
      "Stats of batch 5:\n",
      "Samples: 10000\n",
      "Label Counts: {0: 1014, 1: 1014, 2: 952, 3: 1016, 4: 997, 5: 1025, 6: 980, 7: 977, 8: 1003, 9: 1022}\n",
      "First 20 Labels: [1, 8, 5, 1, 5, 7, 4, 3, 8, 2, 7, 2, 0, 1, 5, 9, 6, 2, 0, 8]\n",
      "\n",
      "Example of Image 9999:\n",
      "Image - Min Value: 4 Max Value: 255\n",
      "Image - Shape: (32, 32, 3)\n",
      "Label - Label Id: 1 Name: automobile\n"
     ]
    },
    {
     "data": {
      "image/png": "[encoded data removed]",
      "text/plain": [
       "<matplotlib.figure.Figure at 0x7fefe9542da0>"
      ]
     },
     "metadata": {
      "image/png": {
       "height": 250,
       "width": 253
      }
     },
     "output_type": "display_data"
    }
   ],
   "source": [
    "%matplotlib inline\n",
    "%config InlineBackend.figure_format = 'retina'\n",
    "\n",
    "import helper\n",
    "import numpy as np\n",
    "\n",
    "# Explore the dataset\n",
    "batch_id = 5\n",
    "sample_id = 9999\n",
    "helper.display_stats(cifar10_dataset_folder_path, batch_id, sample_id)"
   ]
  },
  {
   "cell_type": "markdown",
   "metadata": {
    "deletable": true,
    "editable": true
   },
   "source": [
    "## Implement Preprocess Functions\n",
    "### Normalize\n",
    "In the cell below, implement the `normalize` function to take in image data, `x`, and return it as a normalized Numpy array. The values should be in the range of 0 to 1, inclusive.  The return object should be the same shape as `x`."
   ]
  },
  {
   "cell_type": "markdown",
   "metadata": {
    "deletable": true,
    "editable": true
   },
   "source": [
    "($X'=a+{\\frac {\\left(X-X_{\\min }\\right)\\left(b-a\\right)}{X_{\\max }-X_{\\min }}}$)"
   ]
  },
  {
   "cell_type": "code",
   "execution_count": 5,
   "metadata": {
    "collapsed": false,
    "deletable": true,
    "editable": true
   },
   "outputs": [
    {
     "name": "stdout",
     "output_type": "stream",
     "text": [
      "Tests Passed\n"
     ]
    }
   ],
   "source": [
    "def normalize(x):\n",
    "    \"\"\"\n",
    "    Normalize a list of sample image data in the range of 0 to 1\n",
    "    : x: List of image data.  The image shape is (32, 32, 3)\n",
    "    : return: Numpy array of normalize data\n",
    "    \"\"\"\n",
    "    # TODO: Implement Function\n",
    "    max_x = 255\n",
    "    min_x = 0\n",
    "    range_x = 255\n",
    "    '''\n",
    "    Note that the full formula is:\n",
    "    scaled = a + (x - min_x) * (b - a) / (max_x - min_x)\n",
    "    \n",
    "    Since b = 1, a = 0, min_x = 0, and max_x = 255, this simplifies to:\n",
    "    scaled = 0 + (x - 0) * (1 - 0) / (255 - 0)\n",
    "    scaled = x / 255\n",
    "    '''\n",
    "    scaled = x / range_x\n",
    "    return scaled\n",
    "\n",
    "\"\"\"\n",
    "DON'T MODIFY ANYTHING IN THIS CELL THAT IS BELOW THIS LINE\n",
    "\"\"\"\n",
    "tests.test_normalize(normalize)"
   ]
  },
  {
   "cell_type": "markdown",
   "metadata": {
    "deletable": true,
    "editable": true
   },
   "source": [
    "### One-hot encode\n",
    "Just like the previous code cell, you'll be implementing a function for preprocessing.  This time, you'll implement the `one_hot_encode` function. The input, `x`, are a list of labels.  Implement the function to return the list of labels as One-Hot encoded Numpy array.  The possible values for labels are 0 to 9. The one-hot encoding function should return the same encoding for each value between each call to `one_hot_encode`.  Make sure to save the map of encodings outside the function.\n",
    "\n",
    "Hint: Don't reinvent the wheel."
   ]
  },
  {
   "cell_type": "code",
   "execution_count": 6,
   "metadata": {
    "collapsed": false,
    "deletable": true,
    "editable": true
   },
   "outputs": [
    {
     "name": "stdout",
     "output_type": "stream",
     "text": [
      "Tests Passed\n"
     ]
    }
   ],
   "source": [
    "from sklearn.preprocessing import LabelBinarizer\n",
    "from sklearn.preprocessing import label_binarize\n",
    "label_classes = None\n",
    "def one_hot_encode(x):\n",
    "    \"\"\"\n",
    "    One hot encode a list of sample labels. Return a one-hot encoded vector for each label.\n",
    "    : x: List of sample Labels\n",
    "    : return: Numpy array of one-hot encoded labels\n",
    "    \"\"\"\n",
    "    # TODO: Implement Function\n",
    "\n",
    "    #x_2d_column = np.array(x).reshape(-1,1)\n",
    "    #enc_sparse = enc.fit_transform(x_2d_column) #sparse matrix format\n",
    "    #enc_2d_array = enc_sparse.toarray()\n",
    "    #return enc_2d_array\n",
    "\n",
    "    global label_classes\n",
    "    one_hot_out = None\n",
    "    if label_classes is None:\n",
    "        LB = LabelBinarizer()\n",
    "        one_hot_out = LB.fit_transform(np.array(x))\n",
    "        label_classes = LB.classes_\n",
    "    else:\n",
    "        one_hot_out = label_binarize(np.array(x), classes=label_classes)\n",
    "    \n",
    "    return one_hot_out\n",
    "\"\"\"\n",
    "DON'T MODIFY ANYTHING IN THIS CELL THAT IS BELOW THIS LINE\n",
    "\"\"\"\n",
    "tests.test_one_hot_encode(one_hot_encode)"
   ]
  },
  {
   "cell_type": "markdown",
   "metadata": {
    "deletable": true,
    "editable": true
   },
   "source": [
    "### Randomize Data\n",
    "As you saw from exploring the data above, the order of the samples are randomized.  It doesn't hurt to randomize it again, but you don't need to for this dataset."
   ]
  },
  {
   "cell_type": "code",
   "execution_count": null,
   "metadata": {
    "collapsed": true,
    "deletable": true,
    "editable": true
   },
   "outputs": [],
   "source": []
  },
  {
   "cell_type": "markdown",
   "metadata": {
    "deletable": true,
    "editable": true
   },
   "source": [
    "## Preprocess all the data and save it\n",
    "Running the code cell below will preprocess all the CIFAR-10 data and save it to file. The code below also uses 10% of the training data for validation."
   ]
  },
  {
   "cell_type": "code",
   "execution_count": 7,
   "metadata": {
    "collapsed": false,
    "deletable": true,
    "editable": true
   },
   "outputs": [],
   "source": [
    "\"\"\"\n",
    "DON'T MODIFY ANYTHING IN THIS CELL\n",
    "\"\"\"\n",
    "# Preprocess Training, Validation, and Testing Data\n",
    "helper.preprocess_and_save_data(cifar10_dataset_folder_path, normalize, one_hot_encode)"
   ]
  },
  {
   "cell_type": "markdown",
   "metadata": {
    "deletable": true,
    "editable": true
   },
   "source": [
    "# Check Point\n",
    "This is your first checkpoint.  If you ever decide to come back to this notebook or have to restart the notebook, you can start from here.  The preprocessed data has been saved to disk."
   ]
  },
  {
   "cell_type": "code",
   "execution_count": 1,
   "metadata": {
    "collapsed": false,
    "deletable": true,
    "editable": true
   },
   "outputs": [],
   "source": [
    "\"\"\"\n",
    "DON'T MODIFY ANYTHING IN THIS CELL\n",
    "\"\"\"\n",
    "import pickle\n",
    "import problem_unittests as tests\n",
    "import helper\n",
    "\n",
    "# Load the Preprocessed Validation data\n",
    "valid_features, valid_labels = pickle.load(open('preprocess_validation.p', mode='rb'))"
   ]
  },
  {
   "cell_type": "markdown",
   "metadata": {
    "deletable": true,
    "editable": true
   },
   "source": [
    "## Build the network\n",
    "For the neural network, you'll build each layer into a function.  Most of the code you've seen has been outside of functions. To test your code more thoroughly, we require that you put each layer in a function.  This allows us to give you better feedback and test for simple mistakes using our unittests before you submit your project.\n",
    "\n",
    ">**Note:** If you're finding it hard to dedicate enough time for this course each week, we've provided a small shortcut to this part of the project. In the next couple of problems, you'll have the option to use classes from the [TensorFlow Layers](https://www.tensorflow.org/api_docs/python/tf/layers) or [TensorFlow Layers (contrib)](https://www.tensorflow.org/api_guides/python/contrib.layers) packages to build each layer, except the layers you build in the \"Convolutional and Max Pooling Layer\" section.  TF Layers is similar to Keras's and TFLearn's abstraction to layers, so it's easy to pickup.\n",
    "\n",
    ">However, if you would like to get the most out of this course, try to solve all the problems _without_ using anything from the TF Layers packages. You **can** still use classes from other packages that happen to have the same name as ones you find in TF Layers! For example, instead of using the TF Layers version of the `conv2d` class, [tf.layers.conv2d](https://www.tensorflow.org/api_docs/python/tf/layers/conv2d), you would want to use the TF Neural Network version of `conv2d`, [tf.nn.conv2d](https://www.tensorflow.org/api_docs/python/tf/nn/conv2d). \n",
    "\n",
    "Let's begin!\n",
    "\n",
    "### Input\n",
    "The neural network needs to read the image data, one-hot encoded labels, and dropout keep probability. Implement the following functions\n",
    "* Implement `neural_net_image_input`\n",
    " * Return a [TF Placeholder](https://www.tensorflow.org/api_docs/python/tf/placeholder)\n",
    " * Set the shape using `image_shape` with batch size set to `None`.\n",
    " * Name the TensorFlow placeholder \"x\" using the TensorFlow `name` parameter in the [TF Placeholder](https://www.tensorflow.org/api_docs/python/tf/placeholder).\n",
    "* Implement `neural_net_label_input`\n",
    " * Return a [TF Placeholder](https://www.tensorflow.org/api_docs/python/tf/placeholder)\n",
    " * Set the shape using `n_classes` with batch size set to `None`.\n",
    " * Name the TensorFlow placeholder \"y\" using the TensorFlow `name` parameter in the [TF Placeholder](https://www.tensorflow.org/api_docs/python/tf/placeholder).\n",
    "* Implement `neural_net_keep_prob_input`\n",
    " * Return a [TF Placeholder](https://www.tensorflow.org/api_docs/python/tf/placeholder) for dropout keep probability.\n",
    " * Name the TensorFlow placeholder \"keep_prob\" using the TensorFlow `name` parameter in the [TF Placeholder](https://www.tensorflow.org/api_docs/python/tf/placeholder).\n",
    "\n",
    "These names will be used at the end of the project to load your saved model.\n",
    "\n",
    "Note: `None` for shapes in TensorFlow allow for a dynamic size."
   ]
  },
  {
   "cell_type": "code",
   "execution_count": 2,
   "metadata": {
    "collapsed": false,
    "deletable": true,
    "editable": true
   },
   "outputs": [
    {
     "name": "stdout",
     "output_type": "stream",
     "text": [
      "Image Input Tests Passed.\n",
      "Label Input Tests Passed.\n",
      "Keep Prob Tests Passed.\n"
     ]
    }
   ],
   "source": [
    "import tensorflow as tf\n",
    "\n",
    "def neural_net_image_input(image_shape):\n",
    "    \"\"\"\n",
    "    Return a Tensor for a batch of image input\n",
    "    : image_shape: Shape of the images\n",
    "    : return: Tensor for image input.\n",
    "    \"\"\"\n",
    "    # TODO: Implement Function\n",
    "    '''\n",
    "    image_shape has 3 dimensions: row, height, \n",
    "    and number of channels (depth), \n",
    "    which is probably 3 for red, green, blue\n",
    "    '''\n",
    "    batch = None #this allows the placeholder to have a varying num of elements fed into the placeholder\n",
    "    return tf.placeholder(tf.float32, shape=(batch, image_shape[0], image_shape[1], image_shape[2]), name='x')\n",
    "\n",
    "\n",
    "def neural_net_label_input(n_classes):\n",
    "    \"\"\"\n",
    "    Return a Tensor for a batch of label input\n",
    "    : n_classes: Number of classes\n",
    "    : return: Tensor for label input.\n",
    "    \"\"\"\n",
    "    # TODO: Implement Function\n",
    "    return tf.placeholder(tf.float32, shape=(None, n_classes), name='y')\n",
    "\n",
    "\n",
    "def neural_net_keep_prob_input():\n",
    "    \"\"\"\n",
    "    Return a Tensor for keep probability\n",
    "    : return: Tensor for keep probability.\n",
    "    \"\"\"\n",
    "    # TODO: Implement Function\n",
    "    return tf.placeholder(tf.float32, name='keep_prob')\n",
    "\n",
    "\n",
    "\"\"\"\n",
    "DON'T MODIFY ANYTHING IN THIS CELL THAT IS BELOW THIS LINE\n",
    "\"\"\"\n",
    "tf.reset_default_graph()\n",
    "tests.test_nn_image_inputs(neural_net_image_input)\n",
    "tests.test_nn_label_inputs(neural_net_label_input)\n",
    "tests.test_nn_keep_prob_inputs(neural_net_keep_prob_input)"
   ]
  },
  {
   "cell_type": "markdown",
   "metadata": {
    "deletable": true,
    "editable": true
   },
   "source": [
    "### Convolution and Max Pooling Layer\n",
    "Convolution layers have a lot of success with images. For this code cell, you should implement the function `conv2d_maxpool` to apply convolution then max pooling:\n",
    "* Create the weight and bias using `conv_ksize`, `conv_num_outputs` and the shape of `x_tensor`.\n",
    "* Apply a convolution to `x_tensor` using weight and `conv_strides`.\n",
    " * We recommend you use same padding, but you're welcome to use any padding.\n",
    "* Add bias\n",
    "* Add a nonlinear activation to the convolution.\n",
    "* Apply Max Pooling using `pool_ksize` and `pool_strides`.\n",
    " * We recommend you use same padding, but you're welcome to use any padding.\n",
    "\n",
    "**Note:** You **can't** use [TensorFlow Layers](https://www.tensorflow.org/api_docs/python/tf/layers) or [TensorFlow Layers (contrib)](https://www.tensorflow.org/api_guides/python/contrib.layers) for **this** layer, but you can still use TensorFlow's [Neural Network](https://www.tensorflow.org/api_docs/python/tf/nn) package. You may still use the shortcut option for all the **other** layers."
   ]
  },
  {
   "cell_type": "code",
   "execution_count": 3,
   "metadata": {
    "collapsed": false,
    "deletable": true,
    "editable": true
   },
   "outputs": [
    {
     "name": "stdout",
     "output_type": "stream",
     "text": [
      "Tests Passed\n"
     ]
    }
   ],
   "source": [
    "def conv2d_maxpool(x_tensor, conv_num_outputs, conv_ksize, conv_strides, pool_ksize, pool_strides, is_training=False):\n",
    "    \"\"\"\n",
    "    Apply convolution then max pooling to x_tensor\n",
    "    :param x_tensor: TensorFlow Tensor; input image, batch, height, width, depth\n",
    "    :param conv_num_outputs: Number of outputs for the convolutional layer; output depth\n",
    "    :param conv_ksize: kernal size 2-D Tuple for the convolutional layer; filter dimensions\n",
    "    :param conv_strides: Stride 2-D Tuple for convolution\n",
    "    :param pool_ksize: kernal size 2-D Tuple for pool\n",
    "    :param pool_strides: Stride 2-D Tuple for pool\n",
    "    : return: A tensor that represents convolution and max pooling of x_tensor\n",
    "    \"\"\"\n",
    "    # TODO: Implement Function\n",
    "    '''\n",
    "    use Tensor.get_shape().as_list() to get dimensions\n",
    "    '''\n",
    "    in_batch, in_height, in_width, in_depth = x_tensor.get_shape().as_list()\n",
    "    weight = tf.Variable(tf.truncated_normal(shape=[conv_ksize[0], conv_ksize[1],in_depth, conv_num_outputs],\n",
    "                                             stddev=0.1))\n",
    "    bias = tf.Variable(tf.zeros(conv_num_outputs))\n",
    "    strides = [1, conv_strides[0], conv_strides[1], 1]\n",
    "    \n",
    "    #create convolutional layer\n",
    "    #tf.nn.conv2d(input, filter, strides, padding, use_cudnn_on_gpu=None, data_format=None, name=None)\n",
    "    conv_layer = tf.nn.conv2d(input=x_tensor, filter=weight, strides=strides, padding='SAME')\n",
    "    conv_layer = tf.nn.bias_add(conv_layer, bias)\n",
    "    \n",
    "    #apply batch normalization after the linear step and before the non-linear activation\n",
    "    conv_layer = tf.contrib.layers.batch_norm(conv_layer, center=True, scale=True, is_training=is_training)\n",
    "    \n",
    "    conv_layer = tf.nn.relu(conv_layer)\n",
    "    \n",
    "    #apply max pooling\n",
    "    #tf.nn.max_pool(value, ksize, strides, padding, data_format='NHWC', name=None)\n",
    "    conv_layer = tf.nn.max_pool(value=conv_layer,\n",
    "                               ksize=[1, pool_ksize[0], pool_ksize[1], 1],\n",
    "                               strides=[1,pool_strides[0], pool_strides[1], 1],\n",
    "                               padding='SAME')\n",
    "    \n",
    "    \n",
    "\n",
    "    return conv_layer\n",
    "\n",
    "\"\"\"\n",
    "DON'T MODIFY ANYTHING IN THIS CELL THAT IS BELOW THIS LINE\n",
    "\"\"\"\n",
    "tests.test_con_pool(conv2d_maxpool)"
   ]
  },
  {
   "cell_type": "markdown",
   "metadata": {
    "deletable": true,
    "editable": true
   },
   "source": [
    "### Flatten Layer\n",
    "Implement the `flatten` function to change the dimension of `x_tensor` from a 4-D tensor to a 2-D tensor.  The output should be the shape (*Batch Size*, *Flattened Image Size*). Shortcut option: you can use classes from the [TensorFlow Layers](https://www.tensorflow.org/api_docs/python/tf/layers) or [TensorFlow Layers (contrib)](https://www.tensorflow.org/api_guides/python/contrib.layers) packages for this layer. For more of a challenge, only use other TensorFlow packages."
   ]
  },
  {
   "cell_type": "code",
   "execution_count": 4,
   "metadata": {
    "collapsed": false,
    "deletable": true,
    "editable": true
   },
   "outputs": [
    {
     "name": "stdout",
     "output_type": "stream",
     "text": [
      "Tests Passed\n"
     ]
    }
   ],
   "source": [
    "def flatten(x_tensor):\n",
    "    \"\"\"\n",
    "    Flatten x_tensor to (Batch Size, Flattened Image Size)\n",
    "    : x_tensor: A tensor of size (Batch Size, ...), where ... are the image dimensions.\n",
    "    : return: A tensor of size (Batch Size, Flattened Image Size).\n",
    "    \"\"\"\n",
    "    # TODO: Implement Function\n",
    "    batch, height, width, depth = x_tensor.get_shape().as_list()\n",
    "    num_inputs = height * width * depth\n",
    "    \n",
    "    '''\n",
    "    The inputs are along the columns, the num of rows are num of images for one batch.\n",
    "    Use -1 in reshape to choose number of rows based on the size of x_tensor, \n",
    "    while making sure that num of columns equals number of pixel inputs for a single image.\n",
    "    '''\n",
    "    x_flat = tf.reshape(x_tensor, [-1, num_inputs])\n",
    "    return x_flat\n",
    "\n",
    "\n",
    "\"\"\"\n",
    "DON'T MODIFY ANYTHING IN THIS CELL THAT IS BELOW THIS LINE\n",
    "\"\"\"\n",
    "tests.test_flatten(flatten)"
   ]
  },
  {
   "cell_type": "markdown",
   "metadata": {
    "deletable": true,
    "editable": true
   },
   "source": [
    "### Fully-Connected Layer\n",
    "Implement the `fully_conn` function to apply a fully connected layer to `x_tensor` with the shape (*Batch Size*, *num_outputs*). Shortcut option: you can use classes from the [TensorFlow Layers](https://www.tensorflow.org/api_docs/python/tf/layers) or [TensorFlow Layers (contrib)](https://www.tensorflow.org/api_guides/python/contrib.layers) packages for this layer. For more of a challenge, only use other TensorFlow packages."
   ]
  },
  {
   "cell_type": "code",
   "execution_count": 5,
   "metadata": {
    "collapsed": false,
    "deletable": true,
    "editable": true
   },
   "outputs": [
    {
     "name": "stdout",
     "output_type": "stream",
     "text": [
      "Tests Passed\n"
     ]
    }
   ],
   "source": [
    "def fully_conn(x_tensor, num_outputs, is_training=True):\n",
    "    \"\"\"\n",
    "    Apply a fully connected layer to x_tensor using weight and bias\n",
    "    : x_tensor: A 2-D tensor where the first dimension is batch size.\n",
    "    : num_outputs: The number of output that the new tensor should be.\n",
    "    : return: A 2-D tensor where the second dimension is num_outputs.\n",
    "    \"\"\"\n",
    "    \n",
    "    '''\n",
    "    x_tensor is a flattened image, where each row contains one image.\n",
    "    '''\n",
    "    \n",
    "    # TODO: Implement Function\n",
    "    batch, num_inputs = x_tensor.get_shape().as_list()\n",
    "    weights = tf.Variable(tf.truncated_normal(shape=[num_inputs,num_outputs], stddev=0.1))\n",
    "    bias = tf.Variable(tf.zeros(num_outputs))\n",
    "    fc = tf.matmul(x_tensor, weights)\n",
    "    fc = tf.nn.bias_add(fc,bias)\n",
    "    \n",
    "    #perform batch normalization before the non-linear activation\n",
    "    fc = tf.contrib.layers.batch_norm(fc, center=True, scale=True, is_training=is_training)\n",
    "    \n",
    "    #include activation in the fully connected layer\n",
    "    fc = tf.nn.relu(fc)\n",
    "    return fc\n",
    "\n",
    "\"\"\"\n",
    "DON'T MODIFY ANYTHING IN THIS CELL THAT IS BELOW THIS LINE\n",
    "\"\"\"\n",
    "tests.test_fully_conn(fully_conn)"
   ]
  },
  {
   "cell_type": "markdown",
   "metadata": {
    "deletable": true,
    "editable": true
   },
   "source": [
    "### Output Layer\n",
    "Implement the `output` function to apply a fully connected layer to `x_tensor` with the shape (*Batch Size*, *num_outputs*). Shortcut option: you can use classes from the [TensorFlow Layers](https://www.tensorflow.org/api_docs/python/tf/layers) or [TensorFlow Layers (contrib)](https://www.tensorflow.org/api_guides/python/contrib.layers) packages for this layer. For more of a challenge, only use other TensorFlow packages.\n",
    "\n",
    "**Note:** Activation, softmax, or cross entropy should **not** be applied to this."
   ]
  },
  {
   "cell_type": "code",
   "execution_count": 6,
   "metadata": {
    "collapsed": false,
    "deletable": true,
    "editable": true
   },
   "outputs": [
    {
     "name": "stdout",
     "output_type": "stream",
     "text": [
      "Tests Passed\n"
     ]
    }
   ],
   "source": [
    "def output(x_tensor, num_outputs):\n",
    "    \"\"\"\n",
    "    Apply a output layer to x_tensor using weight and bias\n",
    "    : x_tensor: A 2-D tensor where the first dimension is batch size.\n",
    "    : num_outputs: The number of output that the new tensor should be.\n",
    "    : return: A 2-D tensor where the second dimension is num_outputs.\n",
    "    \"\"\"\n",
    "    # TODO: Implement Function\n",
    "    batch, num_inputs = x_tensor.get_shape().as_list()\n",
    "    weights = tf.Variable(tf.truncated_normal(shape=[num_inputs, num_outputs], stddev=0.1))\n",
    "    bias = tf.Variable(tf.zeros(num_outputs))\n",
    "    out = tf.matmul(x_tensor, weights)\n",
    "    out = tf.nn.bias_add(out, bias)\n",
    "    #do not include non-linear activation to output\n",
    "    return out\n",
    "\n",
    "\"\"\"\n",
    "DON'T MODIFY ANYTHING IN THIS CELL THAT IS BELOW THIS LINE\n",
    "\"\"\"\n",
    "tests.test_output(output)"
   ]
  },
  {
   "cell_type": "markdown",
   "metadata": {
    "deletable": true,
    "editable": true
   },
   "source": [
    "### Create Convolutional Model\n",
    "Implement the function `conv_net` to create a convolutional neural network model. The function takes in a batch of images, `x`, and outputs logits.  Use the layers you created above to create this model:\n",
    "\n",
    "* Apply 1, 2, or 3 Convolution and Max Pool layers\n",
    "* Apply a Flatten Layer\n",
    "* Apply 1, 2, or 3 Fully Connected Layers\n",
    "* Apply an Output Layer\n",
    "* Return the output\n",
    "* Apply [TensorFlow's Dropout](https://www.tensorflow.org/api_docs/python/tf/nn/dropout) to one or more layers in the model using `keep_prob`. "
   ]
  },
  {
   "cell_type": "markdown",
   "metadata": {
    "deletable": true,
    "editable": true
   },
   "source": [
    "#### Hyper-parameter overview\n",
    "\n",
    "From trial and error, 3 convolutional layers is better than 2 or 1, and 3 fully-connected layers are better than 2 or 1.  Also, the filter size of 3 by 3 is slightly better than a filter size of 5 by 5.  I stuck with odd numbers because that allows the filter to have a center, surrounded by pixels on all sides evenly.  \n",
    "\n",
    "For convolution depths, larger depths generally perform better, and I make later layers have more depth than earlier layers.  I also use multiples of 2, as somewhere it was recommended that multiples of 2 get computed more efficiently.\n",
    "\n",
    "For dropout keep probability, 0.75 does better than 0.99\n",
    "\n",
    "The biggest difference was that I had to make sure the weights randomly generated by a truncated normal distribution should have a smaller standard deviation of 0.1 and not the default of 1.0.  This is to avoid exploding gradients during back-propagation due to large weights.  Without this smaller weight setting, validation accuracy would get progressively worse after several (50) epochs.\n",
    "\n",
    "Note that for batch normalization, I pass in True when training and False when testing."
   ]
  },
  {
   "cell_type": "code",
   "execution_count": 12,
   "metadata": {
    "collapsed": false,
    "deletable": true,
    "editable": true
   },
   "outputs": [
    {
     "name": "stdout",
     "output_type": "stream",
     "text": [
      "Neural Network Built!\n"
     ]
    }
   ],
   "source": [
    "def conv_net(x, keep_prob, is_training_flag=0):\n",
    "    \"\"\"\n",
    "    Create a convolutional neural network model\n",
    "    : x: Placeholder tensor that holds image data.\n",
    "    : keep_prob: Placeholder tensor that hold dropout keep probability.\n",
    "    : return: Tensor that represents logits\n",
    "    \"\"\"\n",
    "    # TODO: Apply 1, 2, or 3 Convolution and Max Pool layers\n",
    "    #    Play around with different number of outputs, kernel size and stride\n",
    "    # Function Definition from Above:\n",
    "    #    conv2d_maxpool(x_tensor, conv_num_outputs, conv_ksize, conv_strides, pool_ksize, pool_strides)\n",
    "    is_training = False if is_training_flag == 0 else True\n",
    "    conv1 = conv2d_maxpool(x_tensor=x,\n",
    "                           conv_num_outputs=32, \n",
    "                           conv_ksize=(3,3), \n",
    "                           conv_strides=(1,1),\n",
    "                           pool_ksize=(2,2),\n",
    "                           pool_strides=(2,2),\n",
    "                           is_training=is_training\n",
    "                          )\n",
    "    conv1 = tf.nn.dropout(conv1, keep_prob)\n",
    "    \n",
    "    conv2 = conv2d_maxpool(x_tensor=conv1,\n",
    "                           conv_num_outputs=128,\n",
    "                           conv_ksize=(3,3), \n",
    "                           conv_strides=(1,1),\n",
    "                           pool_ksize=(2,2),\n",
    "                           pool_strides=(2,2),\n",
    "                           is_training=is_training\n",
    "                          )\n",
    "    conv2 = tf.nn.dropout(conv2, keep_prob)\n",
    "    \n",
    "    conv3 = conv2d_maxpool(x_tensor=conv2,\n",
    "                           conv_num_outputs=256, \n",
    "                           conv_ksize=(3,3), \n",
    "                           conv_strides=(1,1),\n",
    "                           pool_ksize=(2,2),\n",
    "                           pool_strides=(2,2),\n",
    "                           is_training=is_training\n",
    "                          )\n",
    "    conv3 = tf.nn.dropout(conv3, keep_prob)\n",
    "    \n",
    "    # TODO: Apply a Flatten Layer\n",
    "    # Function Definition from Above:\n",
    "    #   flatten(x_tensor)\n",
    "    flat = flatten(x_tensor=conv3)\n",
    "\n",
    "    # TODO: Apply 1, 2, or 3 Fully Connected Layers\n",
    "    #    Play around with different number of outputs\n",
    "    # Function Definition from Above:\n",
    "    #   fully_conn(x_tensor, num_outputs)\n",
    "    fc1 = fully_conn(x_tensor=flat, num_outputs=2048, is_training=is_training)\n",
    "    fc1 = tf.nn.dropout(fc1, keep_prob)\n",
    "    \n",
    "    fc2 = fully_conn(x_tensor=fc1, num_outputs=2048, is_training=is_training)\n",
    "    fc2 = tf.nn.dropout(fc2, keep_prob)\n",
    "    \n",
    "    fc3 = fully_conn(x_tensor=fc2, num_outputs=2048, is_training=is_training)\n",
    "    fc3 = tf.nn.dropout(fc3, keep_prob)\n",
    "    \n",
    "    \n",
    "    # TODO: Apply an Output Layer\n",
    "    #    Set this to the number of classes\n",
    "    # Function Definition from Above:\n",
    "    #   output(x_tensor, num_outputs)\n",
    "    out = output(x_tensor=fc3, num_outputs=10)\n",
    "    \n",
    "    # TODO: return output\n",
    "    return out\n",
    "\n",
    "\n",
    "\"\"\"\n",
    "DON'T MODIFY ANYTHING IN THIS CELL THAT IS BELOW THIS LINE\n",
    "\"\"\"\n",
    "\n",
    "##############################\n",
    "## Build the Neural Network ##\n",
    "##############################\n",
    "\n",
    "# Remove previous weights, bias, inputs, etc..\n",
    "tf.reset_default_graph()\n",
    "\n",
    "# Inputs\n",
    "x = neural_net_image_input((32, 32, 3))\n",
    "y = neural_net_label_input(10)\n",
    "keep_prob = neural_net_keep_prob_input()\n",
    "\n",
    "# Model\n",
    "is_training = tf.placeholder(dtype=tf.int8, shape=None, name='is_training')\n",
    "logits = conv_net(x, keep_prob, is_training)\n",
    "\n",
    "# Name logits Tensor, so that is can be loaded from disk after training\n",
    "logits = tf.identity(logits, name='logits')\n",
    "\n",
    "# Loss and Optimizer\n",
    "cost = tf.reduce_mean(tf.nn.softmax_cross_entropy_with_logits(logits=logits, labels=y))\n",
    "optimizer = tf.train.AdamOptimizer().minimize(cost)\n",
    "\n",
    "# Accuracy\n",
    "correct_pred = tf.equal(tf.argmax(logits, 1), tf.argmax(y, 1))\n",
    "accuracy = tf.reduce_mean(tf.cast(correct_pred, tf.float32), name='accuracy')\n",
    "\n",
    "tests.test_conv_net(conv_net)"
   ]
  },
  {
   "cell_type": "markdown",
   "metadata": {
    "deletable": true,
    "editable": true
   },
   "source": [
    "## Train the Neural Network\n",
    "### Single Optimization\n",
    "Implement the function `train_neural_network` to do a single optimization.  The optimization should use `optimizer` to optimize in `session` with a `feed_dict` of the following:\n",
    "* `x` for image input\n",
    "* `y` for labels\n",
    "* `keep_prob` for keep probability for dropout\n",
    "\n",
    "This function will be called for each batch, so `tf.global_variables_initializer()` has already been called.\n",
    "\n",
    "Note: Nothing needs to be returned. This function is only optimizing the neural network."
   ]
  },
  {
   "cell_type": "code",
   "execution_count": 13,
   "metadata": {
    "collapsed": false,
    "deletable": true,
    "editable": true
   },
   "outputs": [
    {
     "name": "stdout",
     "output_type": "stream",
     "text": [
      "Tests Passed\n"
     ]
    }
   ],
   "source": [
    "def train_neural_network(session, optimizer, keep_probability, feature_batch, label_batch):\n",
    "    \"\"\"\n",
    "    Optimize the session on a batch of images and labels\n",
    "    : session: Current TensorFlow session\n",
    "    : optimizer: TensorFlow optimizer function\n",
    "    : keep_probability: keep probability\n",
    "    : feature_batch: Batch of Numpy image data\n",
    "    : label_batch: Batch of Numpy label data\n",
    "    \"\"\"\n",
    "    # TODO: Implement Function\n",
    "    feed_dictionary = {x : feature_batch,\n",
    "                       y : label_batch,\n",
    "                       keep_prob : keep_probability,\n",
    "                       is_training : 1\n",
    "                      }\n",
    "    session.run(optimizer, feed_dict=feed_dictionary)\n",
    "    pass\n",
    "\n",
    "\n",
    "\"\"\"\n",
    "DON'T MODIFY ANYTHING IN THIS CELL THAT IS BELOW THIS LINE\n",
    "\"\"\"\n",
    "tests.test_train_nn(train_neural_network)"
   ]
  },
  {
   "cell_type": "markdown",
   "metadata": {
    "deletable": true,
    "editable": true
   },
   "source": [
    "### Show Stats\n",
    "Implement the function `print_stats` to print loss and validation accuracy.  Use the global variables `valid_features` and `valid_labels` to calculate validation accuracy.  Use a keep probability of `1.0` to calculate the loss and validation accuracy."
   ]
  },
  {
   "cell_type": "code",
   "execution_count": 9,
   "metadata": {
    "collapsed": false,
    "deletable": true,
    "editable": true
   },
   "outputs": [],
   "source": [
    "def print_stats(session, feature_batch, label_batch, cost, accuracy):\n",
    "    \"\"\"\n",
    "    Print information about loss and validation accuracy\n",
    "    : session: Current TensorFlow session\n",
    "    : feature_batch: Batch of Numpy image data\n",
    "    : label_batch: Batch of Numpy label data\n",
    "    : cost: TensorFlow cost function\n",
    "    : accuracy: TensorFlow accuracy function\n",
    "    \"\"\"\n",
    "    # TODO: Implement Function\n",
    "    loss_dict = {x: feature_batch, \n",
    "                 y: label_batch, \n",
    "                 keep_prob: 1.}\n",
    "    loss = session.run(cost, feed_dict=loss_dict)\n",
    "\n",
    "    valid_dict = {x: valid_features,\n",
    "                 y: valid_labels,\n",
    "                 keep_prob: 1.}\n",
    "    valid_acc = session.run(accuracy, feed_dict=valid_dict)\n",
    "        \n",
    "    #end while loop\n",
    "    print(\"loss {:.4f}, validation accuracy {:.4f}\".format(loss, valid_acc))"
   ]
  },
  {
   "cell_type": "markdown",
   "metadata": {
    "deletable": true,
    "editable": true
   },
   "source": [
    "### Hyperparameters\n",
    "Tune the following parameters:\n",
    "* Set `epochs` to the number of iterations until the network stops learning or start overfitting\n",
    "* Set `batch_size` to the highest number that your machine has memory for.  Most people set them to common sizes of memory:\n",
    " * 64\n",
    " * 128\n",
    " * 256\n",
    " * ...\n",
    "* Set `keep_probability` to the probability of keeping a node using dropout"
   ]
  },
  {
   "cell_type": "code",
   "execution_count": 10,
   "metadata": {
    "collapsed": true,
    "deletable": true,
    "editable": true
   },
   "outputs": [],
   "source": [
    "# TODO: Tune Parameters\n",
    "epochs = 80 #validation acc tends to decrease on epoch 9 and 10\n",
    "batch_size = 64 #smaller batch size seems to reduce overfitting\n",
    "keep_probability = .50"
   ]
  },
  {
   "cell_type": "markdown",
   "metadata": {
    "deletable": true,
    "editable": true
   },
   "source": [
    "### Train on a Single CIFAR-10 Batch\n",
    "Instead of training the neural network on all the CIFAR-10 batches of data, let's use a single batch. This should save time while you iterate on the model to get a better accuracy.  Once the final validation accuracy is 50% or greater, run the model on all the data in the next section."
   ]
  },
  {
   "cell_type": "code",
   "execution_count": null,
   "metadata": {
    "collapsed": false,
    "deletable": true,
    "editable": true
   },
   "outputs": [],
   "source": [
    "\"\"\"\n",
    "DON'T MODIFY ANYTHING IN THIS CELL\n",
    "\n",
    "\n",
    "print('Checking the Training on a Single Batch...')\n",
    "with tf.Session() as sess:\n",
    "    # Initializing the variables\n",
    "    sess.run(tf.global_variables_initializer())\n",
    "    \n",
    "    # Training cycle\n",
    "    for epoch in range(epochs):\n",
    "        batch_i = 1\n",
    "        for batch_features, batch_labels in helper.load_preprocess_training_batch(batch_i, batch_size):\n",
    "            train_neural_network(sess, optimizer, keep_probability, batch_features, batch_labels)\n",
    "        print('Epoch {:>2}, CIFAR-10 Batch {}:  '.format(epoch + 1, batch_i), end='')\n",
    "        print_stats(sess, batch_features, batch_labels, cost, accuracy)\n",
    "\"\"\""
   ]
  },
  {
   "cell_type": "markdown",
   "metadata": {
    "deletable": true,
    "editable": true
   },
   "source": [
    "### Fully Train the Model\n",
    "Now that you got a good accuracy with a single CIFAR-10 batch, try it with all five batches."
   ]
  },
  {
   "cell_type": "code",
   "execution_count": 14,
   "metadata": {
    "collapsed": false,
    "deletable": true,
    "editable": true
   },
   "outputs": [
    {
     "name": "stdout",
     "output_type": "stream",
     "text": [
      "Training...\n",
      "Epoch  1, CIFAR-10 Batch 1:  loss 5.4117, validation accuracy 0.3560\n",
      "Epoch  1, CIFAR-10 Batch 2:  loss 3.4652, validation accuracy 0.3466\n",
      "Epoch  1, CIFAR-10 Batch 3:  loss 1.9831, validation accuracy 0.3698\n",
      "Epoch  1, CIFAR-10 Batch 4:  loss 1.9366, validation accuracy 0.3644\n",
      "Epoch  1, CIFAR-10 Batch 5:  loss 2.3690, validation accuracy 0.3820\n",
      "Epoch  2, CIFAR-10 Batch 1:  loss 2.0498, validation accuracy 0.3872\n",
      "Epoch  2, CIFAR-10 Batch 2:  loss 2.4303, validation accuracy 0.3954\n",
      "Epoch  2, CIFAR-10 Batch 3:  loss 1.7012, validation accuracy 0.4152\n",
      "Epoch  2, CIFAR-10 Batch 4:  loss 1.7673, validation accuracy 0.4206\n",
      "Epoch  2, CIFAR-10 Batch 5:  loss 1.8264, validation accuracy 0.4346\n",
      "Epoch  3, CIFAR-10 Batch 1:  loss 2.0606, validation accuracy 0.4466\n",
      "Epoch  3, CIFAR-10 Batch 2:  loss 2.0782, validation accuracy 0.4426\n",
      "Epoch  3, CIFAR-10 Batch 3:  loss 1.4694, validation accuracy 0.4612\n",
      "Epoch  3, CIFAR-10 Batch 4:  loss 1.6092, validation accuracy 0.4742\n",
      "Epoch  3, CIFAR-10 Batch 5:  loss 1.5192, validation accuracy 0.4846\n",
      "Epoch  4, CIFAR-10 Batch 1:  loss 1.7881, validation accuracy 0.4808\n",
      "Epoch  4, CIFAR-10 Batch 2:  loss 1.7039, validation accuracy 0.4886\n",
      "Epoch  4, CIFAR-10 Batch 3:  loss 1.3123, validation accuracy 0.5068\n",
      "Epoch  4, CIFAR-10 Batch 4:  loss 1.4490, validation accuracy 0.5196\n",
      "Epoch  4, CIFAR-10 Batch 5:  loss 1.3278, validation accuracy 0.5274\n",
      "Epoch  5, CIFAR-10 Batch 1:  loss 1.5362, validation accuracy 0.5210\n",
      "Epoch  5, CIFAR-10 Batch 2:  loss 1.2985, validation accuracy 0.5290\n",
      "Epoch  5, CIFAR-10 Batch 3:  loss 1.1672, validation accuracy 0.5290\n",
      "Epoch  5, CIFAR-10 Batch 4:  loss 1.2664, validation accuracy 0.5582\n",
      "Epoch  5, CIFAR-10 Batch 5:  loss 1.1751, validation accuracy 0.5636\n",
      "Epoch  6, CIFAR-10 Batch 1:  loss 1.2937, validation accuracy 0.5632\n",
      "Epoch  6, CIFAR-10 Batch 2:  loss 1.1855, validation accuracy 0.5742\n",
      "Epoch  6, CIFAR-10 Batch 3:  loss 0.9667, validation accuracy 0.5812\n",
      "Epoch  6, CIFAR-10 Batch 4:  loss 1.1056, validation accuracy 0.5934\n",
      "Epoch  6, CIFAR-10 Batch 5:  loss 1.0398, validation accuracy 0.6048\n",
      "Epoch  7, CIFAR-10 Batch 1:  loss 1.2037, validation accuracy 0.6076\n",
      "Epoch  7, CIFAR-10 Batch 2:  loss 1.1907, validation accuracy 0.6158\n",
      "Epoch  7, CIFAR-10 Batch 3:  loss 0.7698, validation accuracy 0.6158\n",
      "Epoch  7, CIFAR-10 Batch 4:  loss 1.0379, validation accuracy 0.6310\n",
      "Epoch  7, CIFAR-10 Batch 5:  loss 0.9633, validation accuracy 0.6468\n",
      "Epoch  8, CIFAR-10 Batch 1:  loss 1.0864, validation accuracy 0.6330\n",
      "Epoch  8, CIFAR-10 Batch 2:  loss 1.0666, validation accuracy 0.6466\n",
      "Epoch  8, CIFAR-10 Batch 3:  loss 0.7184, validation accuracy 0.6420\n",
      "Epoch  8, CIFAR-10 Batch 4:  loss 0.8731, validation accuracy 0.6666\n",
      "Epoch  8, CIFAR-10 Batch 5:  loss 0.8666, validation accuracy 0.6530\n",
      "Epoch  9, CIFAR-10 Batch 1:  loss 0.9381, validation accuracy 0.6672\n",
      "Epoch  9, CIFAR-10 Batch 2:  loss 1.0746, validation accuracy 0.6772\n",
      "Epoch  9, CIFAR-10 Batch 3:  loss 0.6485, validation accuracy 0.6756\n",
      "Epoch  9, CIFAR-10 Batch 4:  loss 0.8552, validation accuracy 0.6768\n",
      "Epoch  9, CIFAR-10 Batch 5:  loss 0.8529, validation accuracy 0.6872\n",
      "Epoch 10, CIFAR-10 Batch 1:  loss 0.8897, validation accuracy 0.6862\n",
      "Epoch 10, CIFAR-10 Batch 2:  loss 0.9365, validation accuracy 0.6986\n",
      "Epoch 10, CIFAR-10 Batch 3:  loss 0.5483, validation accuracy 0.6978\n",
      "Epoch 10, CIFAR-10 Batch 4:  loss 0.8299, validation accuracy 0.7024\n",
      "Epoch 10, CIFAR-10 Batch 5:  loss 0.7949, validation accuracy 0.7036\n",
      "Epoch 11, CIFAR-10 Batch 1:  loss 0.7954, validation accuracy 0.7066\n",
      "Epoch 11, CIFAR-10 Batch 2:  loss 0.7858, validation accuracy 0.7080\n",
      "Epoch 11, CIFAR-10 Batch 3:  loss 0.5048, validation accuracy 0.7140\n",
      "Epoch 11, CIFAR-10 Batch 4:  loss 0.6793, validation accuracy 0.7228\n",
      "Epoch 11, CIFAR-10 Batch 5:  loss 0.7889, validation accuracy 0.7190\n",
      "Epoch 12, CIFAR-10 Batch 1:  loss 0.7280, validation accuracy 0.7278\n",
      "Epoch 12, CIFAR-10 Batch 2:  loss 0.8619, validation accuracy 0.7370\n",
      "Epoch 12, CIFAR-10 Batch 3:  loss 0.4107, validation accuracy 0.7338\n",
      "Epoch 12, CIFAR-10 Batch 4:  loss 0.7429, validation accuracy 0.7360\n",
      "Epoch 12, CIFAR-10 Batch 5:  loss 0.7630, validation accuracy 0.7384\n",
      "Epoch 13, CIFAR-10 Batch 1:  loss 0.7968, validation accuracy 0.7336\n",
      "Epoch 13, CIFAR-10 Batch 2:  loss 0.7556, validation accuracy 0.7430\n",
      "Epoch 13, CIFAR-10 Batch 3:  loss 0.4381, validation accuracy 0.7430\n",
      "Epoch 13, CIFAR-10 Batch 4:  loss 0.6772, validation accuracy 0.7504\n",
      "Epoch 13, CIFAR-10 Batch 5:  loss 0.7641, validation accuracy 0.7450\n",
      "Epoch 14, CIFAR-10 Batch 1:  loss 0.6662, validation accuracy 0.7540\n",
      "Epoch 14, CIFAR-10 Batch 2:  loss 0.6917, validation accuracy 0.7534\n",
      "Epoch 14, CIFAR-10 Batch 3:  loss 0.4159, validation accuracy 0.7600\n",
      "Epoch 14, CIFAR-10 Batch 4:  loss 0.6240, validation accuracy 0.7576\n",
      "Epoch 14, CIFAR-10 Batch 5:  loss 0.5753, validation accuracy 0.7566\n",
      "Epoch 15, CIFAR-10 Batch 1:  loss 0.6246, validation accuracy 0.7576\n",
      "Epoch 15, CIFAR-10 Batch 2:  loss 0.6192, validation accuracy 0.7654\n",
      "Epoch 15, CIFAR-10 Batch 3:  loss 0.3932, validation accuracy 0.7612\n",
      "Epoch 15, CIFAR-10 Batch 4:  loss 0.6155, validation accuracy 0.7642\n",
      "Epoch 15, CIFAR-10 Batch 5:  loss 0.6311, validation accuracy 0.7680\n",
      "Epoch 16, CIFAR-10 Batch 1:  loss 0.6516, validation accuracy 0.7642\n",
      "Epoch 16, CIFAR-10 Batch 2:  loss 0.6224, validation accuracy 0.7684\n",
      "Epoch 16, CIFAR-10 Batch 3:  loss 0.3628, validation accuracy 0.7698\n",
      "Epoch 16, CIFAR-10 Batch 4:  loss 0.5668, validation accuracy 0.7736\n",
      "Epoch 16, CIFAR-10 Batch 5:  loss 0.6111, validation accuracy 0.7674\n",
      "Epoch 17, CIFAR-10 Batch 1:  loss 0.5599, validation accuracy 0.7738\n",
      "Epoch 17, CIFAR-10 Batch 2:  loss 0.5931, validation accuracy 0.7704\n",
      "Epoch 17, CIFAR-10 Batch 3:  loss 0.3104, validation accuracy 0.7780\n",
      "Epoch 17, CIFAR-10 Batch 4:  loss 0.4715, validation accuracy 0.7720\n",
      "Epoch 17, CIFAR-10 Batch 5:  loss 0.6396, validation accuracy 0.7776\n",
      "Epoch 18, CIFAR-10 Batch 1:  loss 0.5604, validation accuracy 0.7850\n",
      "Epoch 18, CIFAR-10 Batch 2:  loss 0.4997, validation accuracy 0.7796\n",
      "Epoch 18, CIFAR-10 Batch 3:  loss 0.2776, validation accuracy 0.7840\n",
      "Epoch 18, CIFAR-10 Batch 4:  loss 0.4748, validation accuracy 0.7830\n",
      "Epoch 18, CIFAR-10 Batch 5:  loss 0.5416, validation accuracy 0.7814\n",
      "Epoch 19, CIFAR-10 Batch 1:  loss 0.5032, validation accuracy 0.7862\n",
      "Epoch 19, CIFAR-10 Batch 2:  loss 0.5012, validation accuracy 0.7838\n",
      "Epoch 19, CIFAR-10 Batch 3:  loss 0.2676, validation accuracy 0.7902\n",
      "Epoch 19, CIFAR-10 Batch 4:  loss 0.4642, validation accuracy 0.7862\n",
      "Epoch 19, CIFAR-10 Batch 5:  loss 0.4296, validation accuracy 0.7914\n",
      "Epoch 20, CIFAR-10 Batch 1:  loss 0.5091, validation accuracy 0.7934\n",
      "Epoch 20, CIFAR-10 Batch 2:  loss 0.4694, validation accuracy 0.7840\n",
      "Epoch 20, CIFAR-10 Batch 3:  loss 0.2931, validation accuracy 0.7904\n",
      "Epoch 20, CIFAR-10 Batch 4:  loss 0.4007, validation accuracy 0.7956\n",
      "Epoch 20, CIFAR-10 Batch 5:  loss 0.4585, validation accuracy 0.7922\n",
      "Epoch 21, CIFAR-10 Batch 1:  loss 0.4981, validation accuracy 0.8004\n",
      "Epoch 21, CIFAR-10 Batch 2:  loss 0.4291, validation accuracy 0.7918\n",
      "Epoch 21, CIFAR-10 Batch 3:  loss 0.2422, validation accuracy 0.7922\n",
      "Epoch 21, CIFAR-10 Batch 4:  loss 0.3807, validation accuracy 0.7952\n",
      "Epoch 21, CIFAR-10 Batch 5:  loss 0.3512, validation accuracy 0.7994\n",
      "Epoch 22, CIFAR-10 Batch 1:  loss 0.4851, validation accuracy 0.7998\n",
      "Epoch 22, CIFAR-10 Batch 2:  loss 0.4522, validation accuracy 0.8028\n",
      "Epoch 22, CIFAR-10 Batch 3:  loss 0.2602, validation accuracy 0.8010\n",
      "Epoch 22, CIFAR-10 Batch 4:  loss 0.3475, validation accuracy 0.7988\n",
      "Epoch 22, CIFAR-10 Batch 5:  loss 0.3549, validation accuracy 0.8006\n",
      "Epoch 23, CIFAR-10 Batch 1:  loss 0.4421, validation accuracy 0.7986\n",
      "Epoch 23, CIFAR-10 Batch 2:  loss 0.3721, validation accuracy 0.8014\n",
      "Epoch 23, CIFAR-10 Batch 3:  loss 0.2129, validation accuracy 0.8082\n",
      "Epoch 23, CIFAR-10 Batch 4:  loss 0.3318, validation accuracy 0.8062\n",
      "Epoch 23, CIFAR-10 Batch 5:  loss 0.2693, validation accuracy 0.8014\n",
      "Epoch 24, CIFAR-10 Batch 1:  loss 0.4277, validation accuracy 0.8058\n",
      "Epoch 24, CIFAR-10 Batch 2:  loss 0.3661, validation accuracy 0.8014\n",
      "Epoch 24, CIFAR-10 Batch 3:  loss 0.1868, validation accuracy 0.8130\n",
      "Epoch 24, CIFAR-10 Batch 4:  loss 0.3213, validation accuracy 0.8096\n",
      "Epoch 24, CIFAR-10 Batch 5:  loss 0.2698, validation accuracy 0.8058\n",
      "Epoch 25, CIFAR-10 Batch 1:  loss 0.4108, validation accuracy 0.8064\n",
      "Epoch 25, CIFAR-10 Batch 2:  loss 0.3251, validation accuracy 0.8048\n",
      "Epoch 25, CIFAR-10 Batch 3:  loss 0.2220, validation accuracy 0.8070\n",
      "Epoch 25, CIFAR-10 Batch 4:  loss 0.3453, validation accuracy 0.8054\n",
      "Epoch 25, CIFAR-10 Batch 5:  loss 0.2369, validation accuracy 0.8090\n",
      "Epoch 26, CIFAR-10 Batch 1:  loss 0.3460, validation accuracy 0.8116\n",
      "Epoch 26, CIFAR-10 Batch 2:  loss 0.2989, validation accuracy 0.8104\n",
      "Epoch 26, CIFAR-10 Batch 3:  loss 0.1807, validation accuracy 0.8138\n",
      "Epoch 26, CIFAR-10 Batch 4:  loss 0.2566, validation accuracy 0.8140\n",
      "Epoch 26, CIFAR-10 Batch 5:  loss 0.1844, validation accuracy 0.8126\n",
      "Epoch 27, CIFAR-10 Batch 1:  loss 0.3553, validation accuracy 0.8190\n",
      "Epoch 27, CIFAR-10 Batch 2:  loss 0.3176, validation accuracy 0.8146\n",
      "Epoch 27, CIFAR-10 Batch 3:  loss 0.1517, validation accuracy 0.8178\n",
      "Epoch 27, CIFAR-10 Batch 4:  loss 0.2480, validation accuracy 0.8162\n",
      "Epoch 27, CIFAR-10 Batch 5:  loss 0.1781, validation accuracy 0.8114\n",
      "Epoch 28, CIFAR-10 Batch 1:  loss 0.3072, validation accuracy 0.8118\n",
      "Epoch 28, CIFAR-10 Batch 2:  loss 0.3055, validation accuracy 0.8118\n",
      "Epoch 28, CIFAR-10 Batch 3:  loss 0.1805, validation accuracy 0.8156\n",
      "Epoch 28, CIFAR-10 Batch 4:  loss 0.2442, validation accuracy 0.8184\n",
      "Epoch 28, CIFAR-10 Batch 5:  loss 0.1704, validation accuracy 0.8158\n",
      "Epoch 29, CIFAR-10 Batch 1:  loss 0.2813, validation accuracy 0.8202\n",
      "Epoch 29, CIFAR-10 Batch 2:  loss 0.2783, validation accuracy 0.8178\n",
      "Epoch 29, CIFAR-10 Batch 3:  loss 0.1589, validation accuracy 0.8210\n",
      "Epoch 29, CIFAR-10 Batch 4:  loss 0.2160, validation accuracy 0.8188\n",
      "Epoch 29, CIFAR-10 Batch 5:  loss 0.1872, validation accuracy 0.8162\n",
      "Epoch 30, CIFAR-10 Batch 1:  loss 0.2370, validation accuracy 0.8214\n",
      "Epoch 30, CIFAR-10 Batch 2:  loss 0.2814, validation accuracy 0.8216\n",
      "Epoch 30, CIFAR-10 Batch 3:  loss 0.1475, validation accuracy 0.8214\n",
      "Epoch 30, CIFAR-10 Batch 4:  loss 0.2277, validation accuracy 0.8226\n",
      "Epoch 30, CIFAR-10 Batch 5:  loss 0.1629, validation accuracy 0.8144\n",
      "Epoch 31, CIFAR-10 Batch 1:  loss 0.2090, validation accuracy 0.8208\n",
      "Epoch 31, CIFAR-10 Batch 2:  loss 0.2364, validation accuracy 0.8194\n",
      "Epoch 31, CIFAR-10 Batch 3:  loss 0.1379, validation accuracy 0.8168\n",
      "Epoch 31, CIFAR-10 Batch 4:  loss 0.2189, validation accuracy 0.8216\n",
      "Epoch 31, CIFAR-10 Batch 5:  loss 0.1236, validation accuracy 0.8196\n",
      "Epoch 32, CIFAR-10 Batch 1:  loss 0.1891, validation accuracy 0.8238\n",
      "Epoch 32, CIFAR-10 Batch 2:  loss 0.2351, validation accuracy 0.8192\n",
      "Epoch 32, CIFAR-10 Batch 3:  loss 0.1205, validation accuracy 0.8230\n",
      "Epoch 32, CIFAR-10 Batch 4:  loss 0.1902, validation accuracy 0.8226\n",
      "Epoch 32, CIFAR-10 Batch 5:  loss 0.1396, validation accuracy 0.8216\n",
      "Epoch 33, CIFAR-10 Batch 1:  loss 0.1971, validation accuracy 0.8252\n",
      "Epoch 33, CIFAR-10 Batch 2:  loss 0.2586, validation accuracy 0.8274\n",
      "Epoch 33, CIFAR-10 Batch 3:  loss 0.1146, validation accuracy 0.8272\n",
      "Epoch 33, CIFAR-10 Batch 4:  loss 0.1560, validation accuracy 0.8242\n",
      "Epoch 33, CIFAR-10 Batch 5:  loss 0.0885, validation accuracy 0.8274\n",
      "Epoch 34, CIFAR-10 Batch 1:  loss 0.1946, validation accuracy 0.8322\n",
      "Epoch 34, CIFAR-10 Batch 2:  loss 0.1963, validation accuracy 0.8264\n",
      "Epoch 34, CIFAR-10 Batch 3:  loss 0.1014, validation accuracy 0.8294\n",
      "Epoch 34, CIFAR-10 Batch 4:  loss 0.1660, validation accuracy 0.8278\n",
      "Epoch 34, CIFAR-10 Batch 5:  loss 0.0749, validation accuracy 0.8290\n",
      "Epoch 35, CIFAR-10 Batch 1:  loss 0.1703, validation accuracy 0.8264\n",
      "Epoch 35, CIFAR-10 Batch 2:  loss 0.1420, validation accuracy 0.8284\n",
      "Epoch 35, CIFAR-10 Batch 3:  loss 0.0976, validation accuracy 0.8298\n",
      "Epoch 35, CIFAR-10 Batch 4:  loss 0.1300, validation accuracy 0.8314\n",
      "Epoch 35, CIFAR-10 Batch 5:  loss 0.0805, validation accuracy 0.8300\n",
      "Epoch 36, CIFAR-10 Batch 1:  loss 0.1701, validation accuracy 0.8276\n",
      "Epoch 36, CIFAR-10 Batch 2:  loss 0.1405, validation accuracy 0.8292\n",
      "Epoch 36, CIFAR-10 Batch 3:  loss 0.0867, validation accuracy 0.8328\n",
      "Epoch 36, CIFAR-10 Batch 4:  loss 0.1454, validation accuracy 0.8288\n",
      "Epoch 36, CIFAR-10 Batch 5:  loss 0.0755, validation accuracy 0.8276\n",
      "Epoch 37, CIFAR-10 Batch 1:  loss 0.1710, validation accuracy 0.8288\n",
      "Epoch 37, CIFAR-10 Batch 2:  loss 0.1445, validation accuracy 0.8300\n",
      "Epoch 37, CIFAR-10 Batch 3:  loss 0.0822, validation accuracy 0.8312\n",
      "Epoch 37, CIFAR-10 Batch 4:  loss 0.1329, validation accuracy 0.8274\n",
      "Epoch 37, CIFAR-10 Batch 5:  loss 0.0529, validation accuracy 0.8226\n",
      "Epoch 38, CIFAR-10 Batch 1:  loss 0.1266, validation accuracy 0.8336\n",
      "Epoch 38, CIFAR-10 Batch 2:  loss 0.1249, validation accuracy 0.8288\n",
      "Epoch 38, CIFAR-10 Batch 3:  loss 0.0863, validation accuracy 0.8332\n",
      "Epoch 38, CIFAR-10 Batch 4:  loss 0.1151, validation accuracy 0.8312\n",
      "Epoch 38, CIFAR-10 Batch 5:  loss 0.0653, validation accuracy 0.8318\n",
      "Epoch 39, CIFAR-10 Batch 1:  loss 0.1131, validation accuracy 0.8224\n",
      "Epoch 39, CIFAR-10 Batch 2:  loss 0.1012, validation accuracy 0.8284\n",
      "Epoch 39, CIFAR-10 Batch 3:  loss 0.0843, validation accuracy 0.8334\n",
      "Epoch 39, CIFAR-10 Batch 4:  loss 0.1430, validation accuracy 0.8326\n",
      "Epoch 39, CIFAR-10 Batch 5:  loss 0.0337, validation accuracy 0.8308\n",
      "Epoch 40, CIFAR-10 Batch 1:  loss 0.0928, validation accuracy 0.8296\n",
      "Epoch 40, CIFAR-10 Batch 2:  loss 0.1226, validation accuracy 0.8288\n",
      "Epoch 40, CIFAR-10 Batch 3:  loss 0.0807, validation accuracy 0.8304\n",
      "Epoch 40, CIFAR-10 Batch 4:  loss 0.1079, validation accuracy 0.8294\n",
      "Epoch 40, CIFAR-10 Batch 5:  loss 0.0255, validation accuracy 0.8270\n",
      "Epoch 41, CIFAR-10 Batch 1:  loss 0.0909, validation accuracy 0.8306\n",
      "Epoch 41, CIFAR-10 Batch 2:  loss 0.1145, validation accuracy 0.8314\n",
      "Epoch 41, CIFAR-10 Batch 3:  loss 0.0736, validation accuracy 0.8382\n",
      "Epoch 41, CIFAR-10 Batch 4:  loss 0.0996, validation accuracy 0.8304\n",
      "Epoch 41, CIFAR-10 Batch 5:  loss 0.0310, validation accuracy 0.8298\n",
      "Epoch 42, CIFAR-10 Batch 1:  loss 0.0896, validation accuracy 0.8318\n",
      "Epoch 42, CIFAR-10 Batch 2:  loss 0.0915, validation accuracy 0.8340\n",
      "Epoch 42, CIFAR-10 Batch 3:  loss 0.0607, validation accuracy 0.8296\n",
      "Epoch 42, CIFAR-10 Batch 4:  loss 0.1109, validation accuracy 0.8312\n",
      "Epoch 42, CIFAR-10 Batch 5:  loss 0.0290, validation accuracy 0.8296\n",
      "Epoch 43, CIFAR-10 Batch 1:  loss 0.0883, validation accuracy 0.8372\n",
      "Epoch 43, CIFAR-10 Batch 2:  loss 0.0769, validation accuracy 0.8356\n",
      "Epoch 43, CIFAR-10 Batch 3:  loss 0.0614, validation accuracy 0.8332\n",
      "Epoch 43, CIFAR-10 Batch 4:  loss 0.0911, validation accuracy 0.8312\n",
      "Epoch 43, CIFAR-10 Batch 5:  loss 0.0312, validation accuracy 0.8296\n",
      "Epoch 44, CIFAR-10 Batch 1:  loss 0.0807, validation accuracy 0.8294\n",
      "Epoch 44, CIFAR-10 Batch 2:  loss 0.0705, validation accuracy 0.8344\n",
      "Epoch 44, CIFAR-10 Batch 3:  loss 0.0584, validation accuracy 0.8310\n",
      "Epoch 44, CIFAR-10 Batch 4:  loss 0.0857, validation accuracy 0.8356\n",
      "Epoch 44, CIFAR-10 Batch 5:  loss 0.0312, validation accuracy 0.8266\n",
      "Epoch 45, CIFAR-10 Batch 1:  loss 0.0683, validation accuracy 0.8368\n",
      "Epoch 45, CIFAR-10 Batch 2:  loss 0.0729, validation accuracy 0.8312\n",
      "Epoch 45, CIFAR-10 Batch 3:  loss 0.0335, validation accuracy 0.8316\n",
      "Epoch 45, CIFAR-10 Batch 4:  loss 0.0815, validation accuracy 0.8330\n",
      "Epoch 45, CIFAR-10 Batch 5:  loss 0.0247, validation accuracy 0.8334\n",
      "Epoch 46, CIFAR-10 Batch 1:  loss 0.0563, validation accuracy 0.8318\n",
      "Epoch 46, CIFAR-10 Batch 2:  loss 0.0512, validation accuracy 0.8294\n",
      "Epoch 46, CIFAR-10 Batch 3:  loss 0.0495, validation accuracy 0.8306\n",
      "Epoch 46, CIFAR-10 Batch 4:  loss 0.1024, validation accuracy 0.8286\n",
      "Epoch 46, CIFAR-10 Batch 5:  loss 0.0261, validation accuracy 0.8332\n",
      "Epoch 47, CIFAR-10 Batch 1:  loss 0.0656, validation accuracy 0.8388\n",
      "Epoch 47, CIFAR-10 Batch 2:  loss 0.0577, validation accuracy 0.8338\n",
      "Epoch 47, CIFAR-10 Batch 3:  loss 0.0333, validation accuracy 0.8344\n",
      "Epoch 47, CIFAR-10 Batch 4:  loss 0.0732, validation accuracy 0.8352\n",
      "Epoch 47, CIFAR-10 Batch 5:  loss 0.0176, validation accuracy 0.8332\n",
      "Epoch 48, CIFAR-10 Batch 1:  loss 0.0531, validation accuracy 0.8324\n",
      "Epoch 48, CIFAR-10 Batch 2:  loss 0.0607, validation accuracy 0.8376\n",
      "Epoch 48, CIFAR-10 Batch 3:  loss 0.0388, validation accuracy 0.8318\n",
      "Epoch 48, CIFAR-10 Batch 4:  loss 0.0731, validation accuracy 0.8360\n",
      "Epoch 48, CIFAR-10 Batch 5:  loss 0.0146, validation accuracy 0.8310\n",
      "Epoch 49, CIFAR-10 Batch 1:  loss 0.0375, validation accuracy 0.8350\n",
      "Epoch 49, CIFAR-10 Batch 2:  loss 0.0636, validation accuracy 0.8380\n",
      "Epoch 49, CIFAR-10 Batch 3:  loss 0.0363, validation accuracy 0.8342\n",
      "Epoch 49, CIFAR-10 Batch 4:  loss 0.0735, validation accuracy 0.8354\n",
      "Epoch 49, CIFAR-10 Batch 5:  loss 0.0102, validation accuracy 0.8354\n",
      "Epoch 50, CIFAR-10 Batch 1:  loss 0.0354, validation accuracy 0.8410\n",
      "Epoch 50, CIFAR-10 Batch 2:  loss 0.0495, validation accuracy 0.8368\n",
      "Epoch 50, CIFAR-10 Batch 3:  loss 0.0279, validation accuracy 0.8376\n",
      "Epoch 50, CIFAR-10 Batch 4:  loss 0.0874, validation accuracy 0.8386\n",
      "Epoch 50, CIFAR-10 Batch 5:  loss 0.0150, validation accuracy 0.8364\n",
      "Epoch 51, CIFAR-10 Batch 1:  loss 0.0274, validation accuracy 0.8374\n",
      "Epoch 51, CIFAR-10 Batch 2:  loss 0.0524, validation accuracy 0.8386\n",
      "Epoch 51, CIFAR-10 Batch 3:  loss 0.0275, validation accuracy 0.8368\n",
      "Epoch 51, CIFAR-10 Batch 4:  loss 0.0578, validation accuracy 0.8378\n",
      "Epoch 51, CIFAR-10 Batch 5:  loss 0.0128, validation accuracy 0.8418\n",
      "Epoch 52, CIFAR-10 Batch 1:  loss 0.0273, validation accuracy 0.8390\n",
      "Epoch 52, CIFAR-10 Batch 2:  loss 0.0475, validation accuracy 0.8376\n",
      "Epoch 52, CIFAR-10 Batch 3:  loss 0.0232, validation accuracy 0.8382\n",
      "Epoch 52, CIFAR-10 Batch 4:  loss 0.0590, validation accuracy 0.8406\n",
      "Epoch 52, CIFAR-10 Batch 5:  loss 0.0150, validation accuracy 0.8344\n",
      "Epoch 53, CIFAR-10 Batch 1:  loss 0.0266, validation accuracy 0.8380\n",
      "Epoch 53, CIFAR-10 Batch 2:  loss 0.0415, validation accuracy 0.8398\n",
      "Epoch 53, CIFAR-10 Batch 3:  loss 0.0182, validation accuracy 0.8374\n",
      "Epoch 53, CIFAR-10 Batch 4:  loss 0.0541, validation accuracy 0.8392\n",
      "Epoch 53, CIFAR-10 Batch 5:  loss 0.0077, validation accuracy 0.8382\n",
      "Epoch 54, CIFAR-10 Batch 1:  loss 0.0216, validation accuracy 0.8440\n",
      "Epoch 54, CIFAR-10 Batch 2:  loss 0.0383, validation accuracy 0.8374\n",
      "Epoch 54, CIFAR-10 Batch 3:  loss 0.0260, validation accuracy 0.8410\n",
      "Epoch 54, CIFAR-10 Batch 4:  loss 0.0348, validation accuracy 0.8400\n",
      "Epoch 54, CIFAR-10 Batch 5:  loss 0.0176, validation accuracy 0.8398\n",
      "Epoch 55, CIFAR-10 Batch 1:  loss 0.0209, validation accuracy 0.8438\n",
      "Epoch 55, CIFAR-10 Batch 2:  loss 0.0293, validation accuracy 0.8406\n",
      "Epoch 55, CIFAR-10 Batch 3:  loss 0.0265, validation accuracy 0.8372\n",
      "Epoch 55, CIFAR-10 Batch 4:  loss 0.0396, validation accuracy 0.8412\n",
      "Epoch 55, CIFAR-10 Batch 5:  loss 0.0147, validation accuracy 0.8390\n",
      "Epoch 56, CIFAR-10 Batch 1:  loss 0.0189, validation accuracy 0.8398\n",
      "Epoch 56, CIFAR-10 Batch 2:  loss 0.0315, validation accuracy 0.8448\n",
      "Epoch 56, CIFAR-10 Batch 3:  loss 0.0278, validation accuracy 0.8390\n",
      "Epoch 56, CIFAR-10 Batch 4:  loss 0.0419, validation accuracy 0.8388\n",
      "Epoch 56, CIFAR-10 Batch 5:  loss 0.0094, validation accuracy 0.8404\n",
      "Epoch 57, CIFAR-10 Batch 1:  loss 0.0166, validation accuracy 0.8420\n",
      "Epoch 57, CIFAR-10 Batch 2:  loss 0.0311, validation accuracy 0.8412\n",
      "Epoch 57, CIFAR-10 Batch 3:  loss 0.0253, validation accuracy 0.8406\n",
      "Epoch 57, CIFAR-10 Batch 4:  loss 0.0281, validation accuracy 0.8446\n",
      "Epoch 57, CIFAR-10 Batch 5:  loss 0.0106, validation accuracy 0.8398\n",
      "Epoch 58, CIFAR-10 Batch 1:  loss 0.0188, validation accuracy 0.8380\n",
      "Epoch 58, CIFAR-10 Batch 2:  loss 0.0261, validation accuracy 0.8412\n",
      "Epoch 58, CIFAR-10 Batch 3:  loss 0.0217, validation accuracy 0.8382\n",
      "Epoch 58, CIFAR-10 Batch 4:  loss 0.0357, validation accuracy 0.8402\n",
      "Epoch 58, CIFAR-10 Batch 5:  loss 0.0125, validation accuracy 0.8394\n",
      "Epoch 59, CIFAR-10 Batch 1:  loss 0.0118, validation accuracy 0.8432\n",
      "Epoch 59, CIFAR-10 Batch 2:  loss 0.0345, validation accuracy 0.8422\n",
      "Epoch 59, CIFAR-10 Batch 3:  loss 0.0194, validation accuracy 0.8444\n",
      "Epoch 59, CIFAR-10 Batch 4:  loss 0.0336, validation accuracy 0.8406\n",
      "Epoch 59, CIFAR-10 Batch 5:  loss 0.0123, validation accuracy 0.8408\n",
      "Epoch 60, CIFAR-10 Batch 1:  loss 0.0147, validation accuracy 0.8436\n",
      "Epoch 60, CIFAR-10 Batch 2:  loss 0.0215, validation accuracy 0.8436\n",
      "Epoch 60, CIFAR-10 Batch 3:  loss 0.0163, validation accuracy 0.8406\n",
      "Epoch 60, CIFAR-10 Batch 4:  loss 0.0199, validation accuracy 0.8416\n",
      "Epoch 60, CIFAR-10 Batch 5:  loss 0.0085, validation accuracy 0.8404\n",
      "Epoch 61, CIFAR-10 Batch 1:  loss 0.0183, validation accuracy 0.8384\n",
      "Epoch 61, CIFAR-10 Batch 2:  loss 0.0290, validation accuracy 0.8458\n",
      "Epoch 61, CIFAR-10 Batch 3:  loss 0.0123, validation accuracy 0.8400\n",
      "Epoch 61, CIFAR-10 Batch 4:  loss 0.0213, validation accuracy 0.8446\n",
      "Epoch 61, CIFAR-10 Batch 5:  loss 0.0098, validation accuracy 0.8418\n",
      "Epoch 62, CIFAR-10 Batch 1:  loss 0.0161, validation accuracy 0.8438\n",
      "Epoch 62, CIFAR-10 Batch 2:  loss 0.0264, validation accuracy 0.8448\n",
      "Epoch 62, CIFAR-10 Batch 3:  loss 0.0181, validation accuracy 0.8432\n",
      "Epoch 62, CIFAR-10 Batch 4:  loss 0.0197, validation accuracy 0.8400\n",
      "Epoch 62, CIFAR-10 Batch 5:  loss 0.0072, validation accuracy 0.8452\n",
      "Epoch 63, CIFAR-10 Batch 1:  loss 0.0094, validation accuracy 0.8420\n",
      "Epoch 63, CIFAR-10 Batch 2:  loss 0.0198, validation accuracy 0.8440\n",
      "Epoch 63, CIFAR-10 Batch 3:  loss 0.0096, validation accuracy 0.8396\n",
      "Epoch 63, CIFAR-10 Batch 4:  loss 0.0191, validation accuracy 0.8450\n",
      "Epoch 63, CIFAR-10 Batch 5:  loss 0.0062, validation accuracy 0.8412\n",
      "Epoch 64, CIFAR-10 Batch 1:  loss 0.0101, validation accuracy 0.8450\n",
      "Epoch 64, CIFAR-10 Batch 2:  loss 0.0265, validation accuracy 0.8392\n",
      "Epoch 64, CIFAR-10 Batch 3:  loss 0.0094, validation accuracy 0.8414\n",
      "Epoch 64, CIFAR-10 Batch 4:  loss 0.0210, validation accuracy 0.8416\n",
      "Epoch 64, CIFAR-10 Batch 5:  loss 0.0061, validation accuracy 0.8414\n",
      "Epoch 65, CIFAR-10 Batch 1:  loss 0.0095, validation accuracy 0.8458\n",
      "Epoch 65, CIFAR-10 Batch 2:  loss 0.0142, validation accuracy 0.8436\n",
      "Epoch 65, CIFAR-10 Batch 3:  loss 0.0114, validation accuracy 0.8416\n",
      "Epoch 65, CIFAR-10 Batch 4:  loss 0.0133, validation accuracy 0.8434\n",
      "Epoch 65, CIFAR-10 Batch 5:  loss 0.0066, validation accuracy 0.8436\n",
      "Epoch 66, CIFAR-10 Batch 1:  loss 0.0071, validation accuracy 0.8460\n",
      "Epoch 66, CIFAR-10 Batch 2:  loss 0.0142, validation accuracy 0.8446\n",
      "Epoch 66, CIFAR-10 Batch 3:  loss 0.0084, validation accuracy 0.8404\n",
      "Epoch 66, CIFAR-10 Batch 4:  loss 0.0160, validation accuracy 0.8468\n",
      "Epoch 66, CIFAR-10 Batch 5:  loss 0.0135, validation accuracy 0.8436\n",
      "Epoch 67, CIFAR-10 Batch 1:  loss 0.0052, validation accuracy 0.8402\n",
      "Epoch 67, CIFAR-10 Batch 2:  loss 0.0122, validation accuracy 0.8428\n",
      "Epoch 67, CIFAR-10 Batch 3:  loss 0.0092, validation accuracy 0.8398\n",
      "Epoch 67, CIFAR-10 Batch 4:  loss 0.0291, validation accuracy 0.8416\n",
      "Epoch 67, CIFAR-10 Batch 5:  loss 0.0099, validation accuracy 0.8406\n",
      "Epoch 68, CIFAR-10 Batch 1:  loss 0.0073, validation accuracy 0.8458\n",
      "Epoch 68, CIFAR-10 Batch 2:  loss 0.0127, validation accuracy 0.8432\n",
      "Epoch 68, CIFAR-10 Batch 3:  loss 0.0101, validation accuracy 0.8426\n",
      "Epoch 68, CIFAR-10 Batch 4:  loss 0.0140, validation accuracy 0.8448\n",
      "Epoch 68, CIFAR-10 Batch 5:  loss 0.0051, validation accuracy 0.8436\n",
      "Epoch 69, CIFAR-10 Batch 1:  loss 0.0055, validation accuracy 0.8436\n",
      "Epoch 69, CIFAR-10 Batch 2:  loss 0.0081, validation accuracy 0.8456\n",
      "Epoch 69, CIFAR-10 Batch 3:  loss 0.0091, validation accuracy 0.8426\n",
      "Epoch 69, CIFAR-10 Batch 4:  loss 0.0133, validation accuracy 0.8402\n",
      "Epoch 69, CIFAR-10 Batch 5:  loss 0.0059, validation accuracy 0.8410\n",
      "Epoch 70, CIFAR-10 Batch 1:  loss 0.0046, validation accuracy 0.8418\n",
      "Epoch 70, CIFAR-10 Batch 2:  loss 0.0074, validation accuracy 0.8438\n",
      "Epoch 70, CIFAR-10 Batch 3:  loss 0.0055, validation accuracy 0.8430\n",
      "Epoch 70, CIFAR-10 Batch 4:  loss 0.0117, validation accuracy 0.8412\n",
      "Epoch 70, CIFAR-10 Batch 5:  loss 0.0078, validation accuracy 0.8408\n",
      "Epoch 71, CIFAR-10 Batch 1:  loss 0.0063, validation accuracy 0.8472\n",
      "Epoch 71, CIFAR-10 Batch 2:  loss 0.0078, validation accuracy 0.8430\n",
      "Epoch 71, CIFAR-10 Batch 3:  loss 0.0099, validation accuracy 0.8384\n",
      "Epoch 71, CIFAR-10 Batch 4:  loss 0.0111, validation accuracy 0.8388\n",
      "Epoch 71, CIFAR-10 Batch 5:  loss 0.0063, validation accuracy 0.8402\n",
      "Epoch 72, CIFAR-10 Batch 1:  loss 0.0086, validation accuracy 0.8394\n",
      "Epoch 72, CIFAR-10 Batch 2:  loss 0.0073, validation accuracy 0.8364\n",
      "Epoch 72, CIFAR-10 Batch 3:  loss 0.0043, validation accuracy 0.8370\n",
      "Epoch 72, CIFAR-10 Batch 4:  loss 0.0085, validation accuracy 0.8410\n",
      "Epoch 72, CIFAR-10 Batch 5:  loss 0.0071, validation accuracy 0.8402\n",
      "Epoch 73, CIFAR-10 Batch 1:  loss 0.0086, validation accuracy 0.8410\n",
      "Epoch 73, CIFAR-10 Batch 2:  loss 0.0057, validation accuracy 0.8376\n",
      "Epoch 73, CIFAR-10 Batch 3:  loss 0.0067, validation accuracy 0.8456\n",
      "Epoch 73, CIFAR-10 Batch 4:  loss 0.0090, validation accuracy 0.8424\n",
      "Epoch 73, CIFAR-10 Batch 5:  loss 0.0113, validation accuracy 0.8372\n",
      "Epoch 74, CIFAR-10 Batch 1:  loss 0.0055, validation accuracy 0.8386\n",
      "Epoch 74, CIFAR-10 Batch 2:  loss 0.0037, validation accuracy 0.8406\n",
      "Epoch 74, CIFAR-10 Batch 3:  loss 0.0060, validation accuracy 0.8402\n",
      "Epoch 74, CIFAR-10 Batch 4:  loss 0.0170, validation accuracy 0.8456\n",
      "Epoch 74, CIFAR-10 Batch 5:  loss 0.0073, validation accuracy 0.8404\n",
      "Epoch 75, CIFAR-10 Batch 1:  loss 0.0067, validation accuracy 0.8482\n",
      "Epoch 75, CIFAR-10 Batch 2:  loss 0.0069, validation accuracy 0.8426\n",
      "Epoch 75, CIFAR-10 Batch 3:  loss 0.0058, validation accuracy 0.8426\n",
      "Epoch 75, CIFAR-10 Batch 4:  loss 0.0068, validation accuracy 0.8426\n",
      "Epoch 75, CIFAR-10 Batch 5:  loss 0.0080, validation accuracy 0.8416\n",
      "Epoch 76, CIFAR-10 Batch 1:  loss 0.0061, validation accuracy 0.8410\n",
      "Epoch 76, CIFAR-10 Batch 2:  loss 0.0045, validation accuracy 0.8478\n",
      "Epoch 76, CIFAR-10 Batch 3:  loss 0.0030, validation accuracy 0.8410\n",
      "Epoch 76, CIFAR-10 Batch 4:  loss 0.0120, validation accuracy 0.8450\n",
      "Epoch 76, CIFAR-10 Batch 5:  loss 0.0037, validation accuracy 0.8412\n",
      "Epoch 77, CIFAR-10 Batch 1:  loss 0.0042, validation accuracy 0.8462\n",
      "Epoch 77, CIFAR-10 Batch 2:  loss 0.0094, validation accuracy 0.8446\n",
      "Epoch 77, CIFAR-10 Batch 3:  loss 0.0047, validation accuracy 0.8422\n",
      "Epoch 77, CIFAR-10 Batch 4:  loss 0.0061, validation accuracy 0.8408\n",
      "Epoch 77, CIFAR-10 Batch 5:  loss 0.0044, validation accuracy 0.8442\n",
      "Epoch 78, CIFAR-10 Batch 1:  loss 0.0031, validation accuracy 0.8438\n",
      "Epoch 78, CIFAR-10 Batch 2:  loss 0.0074, validation accuracy 0.8424\n",
      "Epoch 78, CIFAR-10 Batch 3:  loss 0.0054, validation accuracy 0.8436\n",
      "Epoch 78, CIFAR-10 Batch 4:  loss 0.0095, validation accuracy 0.8454\n",
      "Epoch 78, CIFAR-10 Batch 5:  loss 0.0014, validation accuracy 0.8428\n",
      "Epoch 79, CIFAR-10 Batch 1:  loss 0.0046, validation accuracy 0.8460\n",
      "Epoch 79, CIFAR-10 Batch 2:  loss 0.0046, validation accuracy 0.8458\n",
      "Epoch 79, CIFAR-10 Batch 3:  loss 0.0040, validation accuracy 0.8414\n",
      "Epoch 79, CIFAR-10 Batch 4:  loss 0.0113, validation accuracy 0.8492\n",
      "Epoch 79, CIFAR-10 Batch 5:  loss 0.0020, validation accuracy 0.8454\n",
      "Epoch 80, CIFAR-10 Batch 1:  loss 0.0040, validation accuracy 0.8484\n",
      "Epoch 80, CIFAR-10 Batch 2:  loss 0.0050, validation accuracy 0.8420\n",
      "Epoch 80, CIFAR-10 Batch 3:  loss 0.0021, validation accuracy 0.8438\n",
      "Epoch 80, CIFAR-10 Batch 4:  loss 0.0058, validation accuracy 0.8430\n",
      "Epoch 80, CIFAR-10 Batch 5:  loss 0.0015, validation accuracy 0.8414\n"
     ]
    }
   ],
   "source": [
    "\"\"\"\n",
    "DON'T MODIFY ANYTHING IN THIS CELL\n",
    "\"\"\"\n",
    "save_model_path = './image_classification'\n",
    "\n",
    "print('Training...')\n",
    "with tf.Session() as sess:\n",
    "    # Initializing the variables\n",
    "    sess.run(tf.global_variables_initializer())\n",
    "    \n",
    "    # Training cycle\n",
    "    for epoch in range(epochs):\n",
    "        # Loop over all batches\n",
    "        n_batches = 5\n",
    "        for batch_i in range(1, n_batches + 1):\n",
    "            for batch_features, batch_labels in helper.load_preprocess_training_batch(batch_i, batch_size):\n",
    "                train_neural_network(sess, optimizer, keep_probability, batch_features, batch_labels)\n",
    "            print('Epoch {:>2}, CIFAR-10 Batch {}:  '.format(epoch + 1, batch_i), end='')\n",
    "            print_stats(sess, batch_features, batch_labels, cost, accuracy)\n",
    "            \n",
    "    # Save Model\n",
    "    saver = tf.train.Saver()\n",
    "    save_path = saver.save(sess, save_model_path)"
   ]
  },
  {
   "cell_type": "markdown",
   "metadata": {
    "deletable": true,
    "editable": true
   },
   "source": [
    "#### hyper-parameter notes and validation accuracy\n",
    "With keep_prob .75 and adding batch normalization, and just 30 epochs, validation accuracy reached .77.  Without batch normalization, it was similarly around .77 at epoch 30, and .78 at epoch 50.\n",
    "\n",
    "I'll now try it with keep_prob of .50 and 40 epochs.  At 40 epochs, accuracy only got up to .53 and dropped to .40.\n",
    "\n",
    "Trying keep_prob .50, increasing epochs from 40 to 80.  Somehow, with batch norm, resources are being exhausted.  \n",
    "\n",
    "I reduced the conv1 depth from 64 to 32.  Accuracy is around .82 at epoch 30.  \n",
    "\n",
    "Adding batch normalization and setting keep_prob to 0.50, and epochs to 80, I get validation accuracy around .84"
   ]
  },
  {
   "cell_type": "markdown",
   "metadata": {
    "deletable": true,
    "editable": true
   },
   "source": [
    "# Checkpoint\n",
    "The model has been saved to disk.\n",
    "## Test Model\n",
    "Test your model against the test dataset.  This will be your final accuracy. You should have an accuracy greater than 50%. If you don't, keep tweaking the model architecture and parameters."
   ]
  },
  {
   "cell_type": "code",
   "execution_count": 15,
   "metadata": {
    "collapsed": false,
    "deletable": true,
    "editable": true
   },
   "outputs": [
    {
     "name": "stdout",
     "output_type": "stream",
     "text": [
      "Testing Accuracy: 0.8180732484076433\n",
      "\n"
     ]
    },
    {
     "data": {
      "image/png": "[encoded data removed]",
      "text/plain": [
       "<matplotlib.figure.Figure at 0x7f1db3b4f940>"
      ]
     },
     "metadata": {
      "image/png": {
       "height": 319,
       "width": 355
      }
     },
     "output_type": "display_data"
    }
   ],
   "source": [
    "\"\"\"\n",
    "DON'T MODIFY ANYTHING IN THIS CELL\n",
    "\"\"\"\n",
    "%matplotlib inline\n",
    "%config InlineBackend.figure_format = 'retina'\n",
    "\n",
    "import tensorflow as tf\n",
    "import pickle\n",
    "import helper\n",
    "import random\n",
    "\n",
    "# Set batch size if not already set\n",
    "try:\n",
    "    if batch_size:\n",
    "        pass\n",
    "except NameError:\n",
    "    batch_size = 64\n",
    "\n",
    "save_model_path = './image_classification'\n",
    "n_samples = 4\n",
    "top_n_predictions = 3\n",
    "\n",
    "def test_model():\n",
    "    \"\"\"\n",
    "    Test the saved model against the test dataset\n",
    "    \"\"\"\n",
    "\n",
    "    test_features, test_labels = pickle.load(open('preprocess_training.p', mode='rb'))\n",
    "    loaded_graph = tf.Graph()\n",
    "\n",
    "    with tf.Session(graph=loaded_graph) as sess:\n",
    "        # Load model\n",
    "        loader = tf.train.import_meta_graph(save_model_path + '.meta')\n",
    "        loader.restore(sess, save_model_path)\n",
    "\n",
    "        # Get Tensors from loaded model\n",
    "        loaded_x = loaded_graph.get_tensor_by_name('x:0')\n",
    "        loaded_y = loaded_graph.get_tensor_by_name('y:0')\n",
    "        loaded_keep_prob = loaded_graph.get_tensor_by_name('keep_prob:0')\n",
    "        loaded_logits = loaded_graph.get_tensor_by_name('logits:0')\n",
    "        loaded_acc = loaded_graph.get_tensor_by_name('accuracy:0')\n",
    "        \n",
    "        # Get accuracy in batches for memory limitations\n",
    "        test_batch_acc_total = 0\n",
    "        test_batch_count = 0\n",
    "        \n",
    "        for train_feature_batch, train_label_batch in helper.batch_features_labels(test_features, test_labels, batch_size):\n",
    "            test_batch_acc_total += sess.run(\n",
    "                loaded_acc,\n",
    "                feed_dict={loaded_x: train_feature_batch, loaded_y: train_label_batch, loaded_keep_prob: 1.0})\n",
    "            test_batch_count += 1\n",
    "\n",
    "        print('Testing Accuracy: {}\\n'.format(test_batch_acc_total/test_batch_count))\n",
    "\n",
    "        # Print Random Samples\n",
    "        random_test_features, random_test_labels = tuple(zip(*random.sample(list(zip(test_features, test_labels)), n_samples)))\n",
    "        random_test_predictions = sess.run(\n",
    "            tf.nn.top_k(tf.nn.softmax(loaded_logits), top_n_predictions),\n",
    "            feed_dict={loaded_x: random_test_features, loaded_y: random_test_labels, loaded_keep_prob: 1.0})\n",
    "        helper.display_image_predictions(random_test_features, random_test_labels, random_test_predictions)\n",
    "\n",
    "\n",
    "test_model()"
   ]
  },
  {
   "cell_type": "markdown",
   "metadata": {
    "deletable": true,
    "editable": true
   },
   "source": [
    "## Why 50-70% Accuracy?\n",
    "You might be wondering why you can't get an accuracy any higher. First things first, 50% isn't bad for a simple CNN.  Pure guessing would get you 10% accuracy. However, you might notice people are getting scores [well above 70%](http://rodrigob.github.io/are_we_there_yet/build/classification_datasets_results.html#43494641522d3130).  That's because we haven't taught you all there is to know about neural networks. We still need to cover a few more techniques.\n",
    "## Submitting This Project\n",
    "When submitting this project, make sure to run all the cells before saving the notebook.  Save the notebook file as \"dlnd_image_classification.ipynb\" and save it as a HTML file under \"File\" -> \"Download as\".  Include the \"helper.py\" and \"problem_unittests.py\" files in your submission."
   ]
  }
 ],
 "metadata": {
  "kernelspec": {
   "display_name": "Python 3",
   "language": "python",
   "name": "python3"
  },
  "language_info": {
   "codemirror_mode": {
    "name": "ipython",
    "version": 3
   },
   "file_extension": ".py",
   "mimetype": "text/x-python",
   "name": "python",
   "nbconvert_exporter": "python",
   "pygments_lexer": "ipython3",
   "version": "3.5.2"
  },
  "widgets": {
   "state": {},
   "version": "1.1.2"
  }
 },
 "nbformat": 4,
 "nbformat_minor": 0
}
