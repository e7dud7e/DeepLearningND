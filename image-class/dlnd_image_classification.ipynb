{
 "cells": [
  {
   "cell_type": "markdown",
   "metadata": {
    "collapsed": true,
    "deletable": true,
    "editable": true
   },
   "source": [
    "# Image Classification\n",
    "In this project, you'll classify images from the [CIFAR-10 dataset](https://www.cs.toronto.edu/~kriz/cifar.html).  The dataset consists of airplanes, dogs, cats, and other objects. You'll preprocess the images, then train a convolutional neural network on all the samples. The images need to be normalized and the labels need to be one-hot encoded.  You'll get to apply what you learned and build a convolutional, max pooling, dropout, and fully connected layers.  At the end, you'll get to see your neural network's predictions on the sample images.\n",
    "## Get the Data\n",
    "Run the following cell to download the [CIFAR-10 dataset for python](https://www.cs.toronto.edu/~kriz/cifar-10-python.tar.gz)."
   ]
  },
  {
   "cell_type": "code",
   "execution_count": 3,
   "metadata": {
    "collapsed": false,
    "deletable": true,
    "editable": true
   },
   "outputs": [
    {
     "name": "stderr",
     "output_type": "stream",
     "text": [
      "CIFAR-10 Dataset: 171MB [00:38, 4.62MB/s]                              \n"
     ]
    },
    {
     "name": "stdout",
     "output_type": "stream",
     "text": [
      "All files found!\n"
     ]
    }
   ],
   "source": [
    "\"\"\"\n",
    "DON'T MODIFY ANYTHING IN THIS CELL THAT IS BELOW THIS LINE\n",
    "\"\"\"\n",
    "from urllib.request import urlretrieve\n",
    "from os.path import isfile, isdir\n",
    "from tqdm import tqdm\n",
    "import problem_unittests as tests\n",
    "import tarfile\n",
    "\n",
    "cifar10_dataset_folder_path = 'cifar-10-batches-py'\n",
    "\n",
    "class DLProgress(tqdm):\n",
    "    last_block = 0\n",
    "\n",
    "    def hook(self, block_num=1, block_size=1, total_size=None):\n",
    "        self.total = total_size\n",
    "        self.update((block_num - self.last_block) * block_size)\n",
    "        self.last_block = block_num\n",
    "\n",
    "if not isfile('cifar-10-python.tar.gz'):\n",
    "    with DLProgress(unit='B', unit_scale=True, miniters=1, desc='CIFAR-10 Dataset') as pbar:\n",
    "        urlretrieve(\n",
    "            'https://www.cs.toronto.edu/~kriz/cifar-10-python.tar.gz',\n",
    "            'cifar-10-python.tar.gz',\n",
    "            pbar.hook)\n",
    "\n",
    "if not isdir(cifar10_dataset_folder_path):\n",
    "    with tarfile.open('cifar-10-python.tar.gz') as tar:\n",
    "        tar.extractall()\n",
    "        tar.close()\n",
    "\n",
    "\n",
    "tests.test_folder_path(cifar10_dataset_folder_path)"
   ]
  },
  {
   "cell_type": "markdown",
   "metadata": {
    "deletable": true,
    "editable": true
   },
   "source": [
    "## Explore the Data\n",
    "The dataset is broken into batches to prevent your machine from running out of memory.  The CIFAR-10 dataset consists of 5 batches, named `data_batch_1`, `data_batch_2`, etc.. Each batch contains the labels and images that are one of the following:\n",
    "* airplane\n",
    "* automobile\n",
    "* bird\n",
    "* cat\n",
    "* deer\n",
    "* dog\n",
    "* frog\n",
    "* horse\n",
    "* ship\n",
    "* truck\n",
    "\n",
    "Understanding a dataset is part of making predictions on the data.  Play around with the code cell below by changing the `batch_id` and `sample_id`. The `batch_id` is the id for a batch (1-5). The `sample_id` is the id for a image and label pair in the batch.\n",
    "\n",
    "Ask yourself \"What are all possible labels?\", \"What is the range of values for the image data?\", \"Are the labels in order or random?\".  Answers to questions like these will help you preprocess the data and end up with better predictions."
   ]
  },
  {
   "cell_type": "markdown",
   "metadata": {
    "deletable": true,
    "editable": true
   },
   "source": [
    "#### Notes on data ranges\n",
    "batches 1 to 5\n",
    "each batch has 10,000 samples (sample 0 to 9,999)\n",
    "\n",
    "image min/max values range from 0 to 255\n",
    "\n",
    "image dimensions are 32 by 32 with depth of 3 (red, green, blue).\n",
    "\n",
    "Samples are not sorted by labels, so they look random."
   ]
  },
  {
   "cell_type": "code",
   "execution_count": 4,
   "metadata": {
    "collapsed": false,
    "deletable": true,
    "editable": true
   },
   "outputs": [
    {
     "name": "stdout",
     "output_type": "stream",
     "text": [
      "\n",
      "Stats of batch 5:\n",
      "Samples: 10000\n",
      "Label Counts: {0: 1014, 1: 1014, 2: 952, 3: 1016, 4: 997, 5: 1025, 6: 980, 7: 977, 8: 1003, 9: 1022}\n",
      "First 20 Labels: [1, 8, 5, 1, 5, 7, 4, 3, 8, 2, 7, 2, 0, 1, 5, 9, 6, 2, 0, 8]\n",
      "\n",
      "Example of Image 9999:\n",
      "Image - Min Value: 4 Max Value: 255\n",
      "Image - Shape: (32, 32, 3)\n",
      "Label - Label Id: 1 Name: automobile\n"
     ]
    },
    {
     "data": {
      "image/png": "[encoded data removed]",
      "text/plain": [
       "<matplotlib.figure.Figure at 0x7fefe9542da0>"
      ]
     },
     "metadata": {
      "image/png": {
       "height": 250,
       "width": 253
      }
     },
     "output_type": "display_data"
    }
   ],
   "source": [
    "%matplotlib inline\n",
    "%config InlineBackend.figure_format = 'retina'\n",
    "\n",
    "import helper\n",
    "import numpy as np\n",
    "\n",
    "# Explore the dataset\n",
    "batch_id = 5\n",
    "sample_id = 9999\n",
    "helper.display_stats(cifar10_dataset_folder_path, batch_id, sample_id)"
   ]
  },
  {
   "cell_type": "markdown",
   "metadata": {
    "deletable": true,
    "editable": true
   },
   "source": [
    "## Implement Preprocess Functions\n",
    "### Normalize\n",
    "In the cell below, implement the `normalize` function to take in image data, `x`, and return it as a normalized Numpy array. The values should be in the range of 0 to 1, inclusive.  The return object should be the same shape as `x`."
   ]
  },
  {
   "cell_type": "markdown",
   "metadata": {
    "deletable": true,
    "editable": true
   },
   "source": [
    "($X'=a+{\\frac {\\left(X-X_{\\min }\\right)\\left(b-a\\right)}{X_{\\max }-X_{\\min }}}$)"
   ]
  },
  {
   "cell_type": "code",
   "execution_count": 5,
   "metadata": {
    "collapsed": false,
    "deletable": true,
    "editable": true
   },
   "outputs": [
    {
     "name": "stdout",
     "output_type": "stream",
     "text": [
      "Tests Passed\n"
     ]
    }
   ],
   "source": [
    "def normalize(x):\n",
    "    \"\"\"\n",
    "    Normalize a list of sample image data in the range of 0 to 1\n",
    "    : x: List of image data.  The image shape is (32, 32, 3)\n",
    "    : return: Numpy array of normalize data\n",
    "    \"\"\"\n",
    "    # TODO: Implement Function\n",
    "    max_x = 255\n",
    "    min_x = 0\n",
    "    range_x = 255\n",
    "    '''\n",
    "    Note that the full formula is:\n",
    "    scaled = a + (x - min_x) * (b - a) / (max_x - min_x)\n",
    "    \n",
    "    Since b = 1, a = 0, min_x = 0, and max_x = 255, this simplifies to:\n",
    "    scaled = 0 + (x - 0) * (1 - 0) / (255 - 0)\n",
    "    scaled = x / 255\n",
    "    '''\n",
    "    scaled = x / range_x\n",
    "    return scaled\n",
    "\n",
    "\"\"\"\n",
    "DON'T MODIFY ANYTHING IN THIS CELL THAT IS BELOW THIS LINE\n",
    "\"\"\"\n",
    "tests.test_normalize(normalize)"
   ]
  },
  {
   "cell_type": "markdown",
   "metadata": {
    "deletable": true,
    "editable": true
   },
   "source": [
    "### One-hot encode\n",
    "Just like the previous code cell, you'll be implementing a function for preprocessing.  This time, you'll implement the `one_hot_encode` function. The input, `x`, are a list of labels.  Implement the function to return the list of labels as One-Hot encoded Numpy array.  The possible values for labels are 0 to 9. The one-hot encoding function should return the same encoding for each value between each call to `one_hot_encode`.  Make sure to save the map of encodings outside the function.\n",
    "\n",
    "Hint: Don't reinvent the wheel."
   ]
  },
  {
   "cell_type": "code",
   "execution_count": 6,
   "metadata": {
    "collapsed": false,
    "deletable": true,
    "editable": true
   },
   "outputs": [
    {
     "name": "stdout",
     "output_type": "stream",
     "text": [
      "Tests Passed\n"
     ]
    }
   ],
   "source": [
    "from sklearn.preprocessing import LabelBinarizer\n",
    "from sklearn.preprocessing import label_binarize\n",
    "label_classes = None\n",
    "def one_hot_encode(x):\n",
    "    \"\"\"\n",
    "    One hot encode a list of sample labels. Return a one-hot encoded vector for each label.\n",
    "    : x: List of sample Labels\n",
    "    : return: Numpy array of one-hot encoded labels\n",
    "    \"\"\"\n",
    "    # TODO: Implement Function\n",
    "\n",
    "    #x_2d_column = np.array(x).reshape(-1,1)\n",
    "    #enc_sparse = enc.fit_transform(x_2d_column) #sparse matrix format\n",
    "    #enc_2d_array = enc_sparse.toarray()\n",
    "    #return enc_2d_array\n",
    "\n",
    "    global label_classes\n",
    "    one_hot_out = None\n",
    "    if label_classes is None:\n",
    "        LB = LabelBinarizer()\n",
    "        one_hot_out = LB.fit_transform(np.array(x))\n",
    "        label_classes = LB.classes_\n",
    "    else:\n",
    "        one_hot_out = label_binarize(np.array(x), classes=label_classes)\n",
    "    \n",
    "    return one_hot_out\n",
    "\"\"\"\n",
    "DON'T MODIFY ANYTHING IN THIS CELL THAT IS BELOW THIS LINE\n",
    "\"\"\"\n",
    "tests.test_one_hot_encode(one_hot_encode)"
   ]
  },
  {
   "cell_type": "markdown",
   "metadata": {
    "deletable": true,
    "editable": true
   },
   "source": [
    "### Randomize Data\n",
    "As you saw from exploring the data above, the order of the samples are randomized.  It doesn't hurt to randomize it again, but you don't need to for this dataset."
   ]
  },
  {
   "cell_type": "code",
   "execution_count": null,
   "metadata": {
    "collapsed": true,
    "deletable": true,
    "editable": true
   },
   "outputs": [],
   "source": []
  },
  {
   "cell_type": "markdown",
   "metadata": {
    "deletable": true,
    "editable": true
   },
   "source": [
    "## Preprocess all the data and save it\n",
    "Running the code cell below will preprocess all the CIFAR-10 data and save it to file. The code below also uses 10% of the training data for validation."
   ]
  },
  {
   "cell_type": "code",
   "execution_count": 7,
   "metadata": {
    "collapsed": false,
    "deletable": true,
    "editable": true
   },
   "outputs": [],
   "source": [
    "\"\"\"\n",
    "DON'T MODIFY ANYTHING IN THIS CELL\n",
    "\"\"\"\n",
    "# Preprocess Training, Validation, and Testing Data\n",
    "helper.preprocess_and_save_data(cifar10_dataset_folder_path, normalize, one_hot_encode)"
   ]
  },
  {
   "cell_type": "markdown",
   "metadata": {
    "deletable": true,
    "editable": true
   },
   "source": [
    "# Check Point\n",
    "This is your first checkpoint.  If you ever decide to come back to this notebook or have to restart the notebook, you can start from here.  The preprocessed data has been saved to disk."
   ]
  },
  {
   "cell_type": "code",
   "execution_count": 14,
   "metadata": {
    "collapsed": false,
    "deletable": true,
    "editable": true
   },
   "outputs": [],
   "source": [
    "\"\"\"\n",
    "DON'T MODIFY ANYTHING IN THIS CELL\n",
    "\"\"\"\n",
    "import pickle\n",
    "import problem_unittests as tests\n",
    "import helper\n",
    "\n",
    "# Load the Preprocessed Validation data\n",
    "valid_features, valid_labels = pickle.load(open('preprocess_validation.p', mode='rb'))"
   ]
  },
  {
   "cell_type": "markdown",
   "metadata": {
    "deletable": true,
    "editable": true
   },
   "source": [
    "## Build the network\n",
    "For the neural network, you'll build each layer into a function.  Most of the code you've seen has been outside of functions. To test your code more thoroughly, we require that you put each layer in a function.  This allows us to give you better feedback and test for simple mistakes using our unittests before you submit your project.\n",
    "\n",
    ">**Note:** If you're finding it hard to dedicate enough time for this course each week, we've provided a small shortcut to this part of the project. In the next couple of problems, you'll have the option to use classes from the [TensorFlow Layers](https://www.tensorflow.org/api_docs/python/tf/layers) or [TensorFlow Layers (contrib)](https://www.tensorflow.org/api_guides/python/contrib.layers) packages to build each layer, except the layers you build in the \"Convolutional and Max Pooling Layer\" section.  TF Layers is similar to Keras's and TFLearn's abstraction to layers, so it's easy to pickup.\n",
    "\n",
    ">However, if you would like to get the most out of this course, try to solve all the problems _without_ using anything from the TF Layers packages. You **can** still use classes from other packages that happen to have the same name as ones you find in TF Layers! For example, instead of using the TF Layers version of the `conv2d` class, [tf.layers.conv2d](https://www.tensorflow.org/api_docs/python/tf/layers/conv2d), you would want to use the TF Neural Network version of `conv2d`, [tf.nn.conv2d](https://www.tensorflow.org/api_docs/python/tf/nn/conv2d). \n",
    "\n",
    "Let's begin!\n",
    "\n",
    "### Input\n",
    "The neural network needs to read the image data, one-hot encoded labels, and dropout keep probability. Implement the following functions\n",
    "* Implement `neural_net_image_input`\n",
    " * Return a [TF Placeholder](https://www.tensorflow.org/api_docs/python/tf/placeholder)\n",
    " * Set the shape using `image_shape` with batch size set to `None`.\n",
    " * Name the TensorFlow placeholder \"x\" using the TensorFlow `name` parameter in the [TF Placeholder](https://www.tensorflow.org/api_docs/python/tf/placeholder).\n",
    "* Implement `neural_net_label_input`\n",
    " * Return a [TF Placeholder](https://www.tensorflow.org/api_docs/python/tf/placeholder)\n",
    " * Set the shape using `n_classes` with batch size set to `None`.\n",
    " * Name the TensorFlow placeholder \"y\" using the TensorFlow `name` parameter in the [TF Placeholder](https://www.tensorflow.org/api_docs/python/tf/placeholder).\n",
    "* Implement `neural_net_keep_prob_input`\n",
    " * Return a [TF Placeholder](https://www.tensorflow.org/api_docs/python/tf/placeholder) for dropout keep probability.\n",
    " * Name the TensorFlow placeholder \"keep_prob\" using the TensorFlow `name` parameter in the [TF Placeholder](https://www.tensorflow.org/api_docs/python/tf/placeholder).\n",
    "\n",
    "These names will be used at the end of the project to load your saved model.\n",
    "\n",
    "Note: `None` for shapes in TensorFlow allow for a dynamic size."
   ]
  },
  {
   "cell_type": "code",
   "execution_count": 15,
   "metadata": {
    "collapsed": false,
    "deletable": true,
    "editable": true
   },
   "outputs": [
    {
     "name": "stdout",
     "output_type": "stream",
     "text": [
      "Image Input Tests Passed.\n",
      "Label Input Tests Passed.\n",
      "Keep Prob Tests Passed.\n"
     ]
    }
   ],
   "source": [
    "import tensorflow as tf\n",
    "\n",
    "def neural_net_image_input(image_shape):\n",
    "    \"\"\"\n",
    "    Return a Tensor for a batch of image input\n",
    "    : image_shape: Shape of the images\n",
    "    : return: Tensor for image input.\n",
    "    \"\"\"\n",
    "    # TODO: Implement Function\n",
    "    '''\n",
    "    image_shape has 3 dimensions: row, height, \n",
    "    and number of channels (depth), \n",
    "    which is probably 3 for red, green, blue\n",
    "    '''\n",
    "    batch = None #this allows the placeholder to have a varying num of elements fed into the placeholder\n",
    "    return tf.placeholder(tf.float32, shape=(batch, image_shape[0], image_shape[1], image_shape[2]), name='x')\n",
    "\n",
    "\n",
    "def neural_net_label_input(n_classes):\n",
    "    \"\"\"\n",
    "    Return a Tensor for a batch of label input\n",
    "    : n_classes: Number of classes\n",
    "    : return: Tensor for label input.\n",
    "    \"\"\"\n",
    "    # TODO: Implement Function\n",
    "    return tf.placeholder(tf.float32, shape=(None, n_classes), name='y')\n",
    "\n",
    "\n",
    "def neural_net_keep_prob_input():\n",
    "    \"\"\"\n",
    "    Return a Tensor for keep probability\n",
    "    : return: Tensor for keep probability.\n",
    "    \"\"\"\n",
    "    # TODO: Implement Function\n",
    "    return tf.placeholder(tf.float32, name='keep_prob')\n",
    "\n",
    "\n",
    "\"\"\"\n",
    "DON'T MODIFY ANYTHING IN THIS CELL THAT IS BELOW THIS LINE\n",
    "\"\"\"\n",
    "tf.reset_default_graph()\n",
    "tests.test_nn_image_inputs(neural_net_image_input)\n",
    "tests.test_nn_label_inputs(neural_net_label_input)\n",
    "tests.test_nn_keep_prob_inputs(neural_net_keep_prob_input)"
   ]
  },
  {
   "cell_type": "markdown",
   "metadata": {
    "deletable": true,
    "editable": true
   },
   "source": [
    "### Convolution and Max Pooling Layer\n",
    "Convolution layers have a lot of success with images. For this code cell, you should implement the function `conv2d_maxpool` to apply convolution then max pooling:\n",
    "* Create the weight and bias using `conv_ksize`, `conv_num_outputs` and the shape of `x_tensor`.\n",
    "* Apply a convolution to `x_tensor` using weight and `conv_strides`.\n",
    " * We recommend you use same padding, but you're welcome to use any padding.\n",
    "* Add bias\n",
    "* Add a nonlinear activation to the convolution.\n",
    "* Apply Max Pooling using `pool_ksize` and `pool_strides`.\n",
    " * We recommend you use same padding, but you're welcome to use any padding.\n",
    "\n",
    "**Note:** You **can't** use [TensorFlow Layers](https://www.tensorflow.org/api_docs/python/tf/layers) or [TensorFlow Layers (contrib)](https://www.tensorflow.org/api_guides/python/contrib.layers) for **this** layer, but you can still use TensorFlow's [Neural Network](https://www.tensorflow.org/api_docs/python/tf/nn) package. You may still use the shortcut option for all the **other** layers."
   ]
  },
  {
   "cell_type": "code",
   "execution_count": 17,
   "metadata": {
    "collapsed": false,
    "deletable": true,
    "editable": true
   },
   "outputs": [
    {
     "name": "stdout",
     "output_type": "stream",
     "text": [
      "Tests Passed\n"
     ]
    }
   ],
   "source": [
    "def conv2d_maxpool(x_tensor, conv_num_outputs, conv_ksize, conv_strides, pool_ksize, pool_strides):\n",
    "    \"\"\"\n",
    "    Apply convolution then max pooling to x_tensor\n",
    "    :param x_tensor: TensorFlow Tensor; input image, batch, height, width, depth\n",
    "    :param conv_num_outputs: Number of outputs for the convolutional layer; output depth\n",
    "    :param conv_ksize: kernal size 2-D Tuple for the convolutional layer; filter dimensions\n",
    "    :param conv_strides: Stride 2-D Tuple for convolution\n",
    "    :param pool_ksize: kernal size 2-D Tuple for pool\n",
    "    :param pool_strides: Stride 2-D Tuple for pool\n",
    "    : return: A tensor that represents convolution and max pooling of x_tensor\n",
    "    \"\"\"\n",
    "    # TODO: Implement Function\n",
    "    '''\n",
    "    use Tensor.get_shape().as_list() to get dimensions\n",
    "    '''\n",
    "    in_batch, in_height, in_width, in_depth = x_tensor.get_shape().as_list()\n",
    "    weight = tf.Variable(tf.truncated_normal(shape=[conv_ksize[0], conv_ksize[1],in_depth, conv_num_outputs],\n",
    "                                             stddev=0.1))\n",
    "    bias = tf.Variable(tf.zeros(conv_num_outputs))\n",
    "    strides = [1, conv_strides[0], conv_strides[1], 1]\n",
    "    \n",
    "    #create convolutional layer\n",
    "    #tf.nn.conv2d(input, filter, strides, padding, use_cudnn_on_gpu=None, data_format=None, name=None)\n",
    "    conv_layer = tf.nn.conv2d(input=x_tensor, filter=weight, strides=strides, padding='SAME')\n",
    "    conv_layer = tf.nn.bias_add(conv_layer, bias)\n",
    "    conv_layer = tf.nn.relu(conv_layer)\n",
    "    \n",
    "    #apply max pooling\n",
    "    #tf.nn.max_pool(value, ksize, strides, padding, data_format='NHWC', name=None)\n",
    "    conv_layer = tf.nn.max_pool(value=conv_layer,\n",
    "                               ksize=[1, pool_ksize[0], pool_ksize[1], 1],\n",
    "                               strides=[1,pool_strides[0], pool_strides[1], 1],\n",
    "                               padding='SAME')\n",
    "    \n",
    "    conv_layer = tf.nn.relu(conv_layer)\n",
    "\n",
    "    return conv_layer\n",
    "\n",
    "\"\"\"\n",
    "DON'T MODIFY ANYTHING IN THIS CELL THAT IS BELOW THIS LINE\n",
    "\"\"\"\n",
    "tests.test_con_pool(conv2d_maxpool)"
   ]
  },
  {
   "cell_type": "markdown",
   "metadata": {
    "deletable": true,
    "editable": true
   },
   "source": [
    "### Flatten Layer\n",
    "Implement the `flatten` function to change the dimension of `x_tensor` from a 4-D tensor to a 2-D tensor.  The output should be the shape (*Batch Size*, *Flattened Image Size*). Shortcut option: you can use classes from the [TensorFlow Layers](https://www.tensorflow.org/api_docs/python/tf/layers) or [TensorFlow Layers (contrib)](https://www.tensorflow.org/api_guides/python/contrib.layers) packages for this layer. For more of a challenge, only use other TensorFlow packages."
   ]
  },
  {
   "cell_type": "code",
   "execution_count": 18,
   "metadata": {
    "collapsed": false,
    "deletable": true,
    "editable": true
   },
   "outputs": [
    {
     "name": "stdout",
     "output_type": "stream",
     "text": [
      "Tests Passed\n"
     ]
    }
   ],
   "source": [
    "def flatten(x_tensor):\n",
    "    \"\"\"\n",
    "    Flatten x_tensor to (Batch Size, Flattened Image Size)\n",
    "    : x_tensor: A tensor of size (Batch Size, ...), where ... are the image dimensions.\n",
    "    : return: A tensor of size (Batch Size, Flattened Image Size).\n",
    "    \"\"\"\n",
    "    # TODO: Implement Function\n",
    "    batch, height, width, depth = x_tensor.get_shape().as_list()\n",
    "    num_inputs = height * width * depth\n",
    "    \n",
    "    '''\n",
    "    The inputs are along the columns, the num of rows are num of images for one batch.\n",
    "    Use -1 in reshape to choose number of rows based on the size of x_tensor, \n",
    "    while making sure that num of columns equals number of pixel inputs for a single image.\n",
    "    '''\n",
    "    x_flat = tf.reshape(x_tensor, [-1, num_inputs])\n",
    "    return x_flat\n",
    "\n",
    "\n",
    "\"\"\"\n",
    "DON'T MODIFY ANYTHING IN THIS CELL THAT IS BELOW THIS LINE\n",
    "\"\"\"\n",
    "tests.test_flatten(flatten)"
   ]
  },
  {
   "cell_type": "markdown",
   "metadata": {
    "deletable": true,
    "editable": true
   },
   "source": [
    "### Fully-Connected Layer\n",
    "Implement the `fully_conn` function to apply a fully connected layer to `x_tensor` with the shape (*Batch Size*, *num_outputs*). Shortcut option: you can use classes from the [TensorFlow Layers](https://www.tensorflow.org/api_docs/python/tf/layers) or [TensorFlow Layers (contrib)](https://www.tensorflow.org/api_guides/python/contrib.layers) packages for this layer. For more of a challenge, only use other TensorFlow packages."
   ]
  },
  {
   "cell_type": "code",
   "execution_count": 19,
   "metadata": {
    "collapsed": false,
    "deletable": true,
    "editable": true
   },
   "outputs": [
    {
     "name": "stdout",
     "output_type": "stream",
     "text": [
      "Tests Passed\n"
     ]
    }
   ],
   "source": [
    "def fully_conn(x_tensor, num_outputs):\n",
    "    \"\"\"\n",
    "    Apply a fully connected layer to x_tensor using weight and bias\n",
    "    : x_tensor: A 2-D tensor where the first dimension is batch size.\n",
    "    : num_outputs: The number of output that the new tensor should be.\n",
    "    : return: A 2-D tensor where the second dimension is num_outputs.\n",
    "    \"\"\"\n",
    "    \n",
    "    '''\n",
    "    x_tensor is a flattened image, where each row contains one image.\n",
    "    '''\n",
    "    \n",
    "    # TODO: Implement Function\n",
    "    batch, num_inputs = x_tensor.get_shape().as_list()\n",
    "    weights = tf.Variable(tf.truncated_normal(shape=[num_inputs,num_outputs], stddev=0.1))\n",
    "    bias = tf.Variable(tf.zeros(num_outputs))\n",
    "    fc = tf.matmul(x_tensor, weights)\n",
    "    fc = tf.nn.bias_add(fc,bias)\n",
    "    \n",
    "    #include activation in the fully connected layer\n",
    "    fc = tf.nn.relu(fc)\n",
    "    return fc\n",
    "\n",
    "\"\"\"\n",
    "DON'T MODIFY ANYTHING IN THIS CELL THAT IS BELOW THIS LINE\n",
    "\"\"\"\n",
    "tests.test_fully_conn(fully_conn)"
   ]
  },
  {
   "cell_type": "markdown",
   "metadata": {
    "deletable": true,
    "editable": true
   },
   "source": [
    "### Output Layer\n",
    "Implement the `output` function to apply a fully connected layer to `x_tensor` with the shape (*Batch Size*, *num_outputs*). Shortcut option: you can use classes from the [TensorFlow Layers](https://www.tensorflow.org/api_docs/python/tf/layers) or [TensorFlow Layers (contrib)](https://www.tensorflow.org/api_guides/python/contrib.layers) packages for this layer. For more of a challenge, only use other TensorFlow packages.\n",
    "\n",
    "**Note:** Activation, softmax, or cross entropy should **not** be applied to this."
   ]
  },
  {
   "cell_type": "code",
   "execution_count": 20,
   "metadata": {
    "collapsed": false,
    "deletable": true,
    "editable": true
   },
   "outputs": [
    {
     "name": "stdout",
     "output_type": "stream",
     "text": [
      "Tests Passed\n"
     ]
    }
   ],
   "source": [
    "def output(x_tensor, num_outputs):\n",
    "    \"\"\"\n",
    "    Apply a output layer to x_tensor using weight and bias\n",
    "    : x_tensor: A 2-D tensor where the first dimension is batch size.\n",
    "    : num_outputs: The number of output that the new tensor should be.\n",
    "    : return: A 2-D tensor where the second dimension is num_outputs.\n",
    "    \"\"\"\n",
    "    # TODO: Implement Function\n",
    "    batch, num_inputs = x_tensor.get_shape().as_list()\n",
    "    weights = tf.Variable(tf.truncated_normal(shape=[num_inputs, num_outputs], stddev=0.1))\n",
    "    bias = tf.Variable(tf.zeros(num_outputs))\n",
    "    out = tf.matmul(x_tensor, weights)\n",
    "    out = tf.nn.bias_add(out, bias)\n",
    "    #do not include non-linear activation to output\n",
    "    return out\n",
    "\n",
    "\"\"\"\n",
    "DON'T MODIFY ANYTHING IN THIS CELL THAT IS BELOW THIS LINE\n",
    "\"\"\"\n",
    "tests.test_output(output)"
   ]
  },
  {
   "cell_type": "markdown",
   "metadata": {
    "deletable": true,
    "editable": true
   },
   "source": [
    "### Create Convolutional Model\n",
    "Implement the function `conv_net` to create a convolutional neural network model. The function takes in a batch of images, `x`, and outputs logits.  Use the layers you created above to create this model:\n",
    "\n",
    "* Apply 1, 2, or 3 Convolution and Max Pool layers\n",
    "* Apply a Flatten Layer\n",
    "* Apply 1, 2, or 3 Fully Connected Layers\n",
    "* Apply an Output Layer\n",
    "* Return the output\n",
    "* Apply [TensorFlow's Dropout](https://www.tensorflow.org/api_docs/python/tf/nn/dropout) to one or more layers in the model using `keep_prob`. "
   ]
  },
  {
   "cell_type": "markdown",
   "metadata": {},
   "source": [
    "#### Hyper-parameter overview\n",
    "\n",
    "From trial and error, 3 convolutional layers is better than 2 or 1, and 3 fully-connected layers are better than 2 or 1.  Also, the filter size of 3 by 3 is slightly better than a filter size of 5 by 5.  I stuck with odd numbers because that allows the filter to have a center, surrounded by pixels on all sides evenly.  \n",
    "\n",
    "For convolution depths, larger depths generally perform better, and I make later layers have more depth than earlier layers.  I also use multiples of 2, as somewhere it was recommended that multiples of 2 get computed more efficiently.\n",
    "\n",
    "For dropout keep probability, 0.75 does better than 0.99\n",
    "\n",
    "The biggest difference was that I had to make sure the weights randomly generated by a truncated normal distribution should have a smaller standard deviation of 0.1 and not the default of 1.0.  This is to avoid exploding gradients during back-propagation due to large weights.  Without this smaller weight setting, validation accuracy would get progressively worse after several (50) epochs.\n"
   ]
  },
  {
   "cell_type": "code",
   "execution_count": 21,
   "metadata": {
    "collapsed": false,
    "deletable": true,
    "editable": true
   },
   "outputs": [
    {
     "name": "stdout",
     "output_type": "stream",
     "text": [
      "Neural Network Built!\n"
     ]
    }
   ],
   "source": [
    "def conv_net(x, keep_prob):\n",
    "    \"\"\"\n",
    "    Create a convolutional neural network model\n",
    "    : x: Placeholder tensor that holds image data.\n",
    "    : keep_prob: Placeholder tensor that hold dropout keep probability.\n",
    "    : return: Tensor that represents logits\n",
    "    \"\"\"\n",
    "    # TODO: Apply 1, 2, or 3 Convolution and Max Pool layers\n",
    "    #    Play around with different number of outputs, kernel size and stride\n",
    "    # Function Definition from Above:\n",
    "    #    conv2d_maxpool(x_tensor, conv_num_outputs, conv_ksize, conv_strides, pool_ksize, pool_strides)\n",
    "    conv1 = conv2d_maxpool(x_tensor=x,\n",
    "                           conv_num_outputs=64, \n",
    "                           conv_ksize=(3,3), \n",
    "                           conv_strides=(1,1),\n",
    "                           pool_ksize=(2,2),\n",
    "                           pool_strides=(2,2)\n",
    "                          )    \n",
    "    conv1 = tf.nn.dropout(conv1, keep_prob)\n",
    "    \n",
    "    conv2 = conv2d_maxpool(x_tensor=conv1,\n",
    "                           conv_num_outputs=128,\n",
    "                           conv_ksize=(3,3), \n",
    "                           conv_strides=(1,1),\n",
    "                           pool_ksize=(2,2),\n",
    "                           pool_strides=(2,2)\n",
    "                          )\n",
    "    conv2 = tf.nn.dropout(conv2, keep_prob)\n",
    "    \n",
    "    conv3 = conv2d_maxpool(x_tensor=conv2,\n",
    "                           conv_num_outputs=256, \n",
    "                           conv_ksize=(3,3), \n",
    "                           conv_strides=(1,1),\n",
    "                           pool_ksize=(2,2),\n",
    "                           pool_strides=(2,2)\n",
    "                          )\n",
    "    conv3 = tf.nn.dropout(conv3, keep_prob)\n",
    "    \n",
    "    # TODO: Apply a Flatten Layer\n",
    "    # Function Definition from Above:\n",
    "    #   flatten(x_tensor)\n",
    "    flat = flatten(x_tensor=conv3)\n",
    "\n",
    "    # TODO: Apply 1, 2, or 3 Fully Connected Layers\n",
    "    #    Play around with different number of outputs\n",
    "    # Function Definition from Above:\n",
    "    #   fully_conn(x_tensor, num_outputs)\n",
    "    fc1 = fully_conn(x_tensor=flat, num_outputs=2048)\n",
    "    fc1 = tf.nn.dropout(fc1, keep_prob)\n",
    "    \n",
    "    fc2 = fully_conn(x_tensor=fc1, num_outputs=2048)\n",
    "    fc2 = tf.nn.dropout(fc2, keep_prob)\n",
    "    \n",
    "    fc3 = fully_conn(x_tensor=fc2, num_outputs=2048)\n",
    "    fc3 = tf.nn.dropout(fc3, keep_prob)\n",
    "    \n",
    "    \n",
    "    # TODO: Apply an Output Layer\n",
    "    #    Set this to the number of classes\n",
    "    # Function Definition from Above:\n",
    "    #   output(x_tensor, num_outputs)\n",
    "    out = output(x_tensor=fc3, num_outputs=10)\n",
    "    \n",
    "    # TODO: return output\n",
    "    return out\n",
    "\n",
    "\n",
    "\"\"\"\n",
    "DON'T MODIFY ANYTHING IN THIS CELL THAT IS BELOW THIS LINE\n",
    "\"\"\"\n",
    "\n",
    "##############################\n",
    "## Build the Neural Network ##\n",
    "##############################\n",
    "\n",
    "# Remove previous weights, bias, inputs, etc..\n",
    "tf.reset_default_graph()\n",
    "\n",
    "# Inputs\n",
    "x = neural_net_image_input((32, 32, 3))\n",
    "y = neural_net_label_input(10)\n",
    "keep_prob = neural_net_keep_prob_input()\n",
    "\n",
    "# Model\n",
    "logits = conv_net(x, keep_prob)\n",
    "\n",
    "# Name logits Tensor, so that is can be loaded from disk after training\n",
    "logits = tf.identity(logits, name='logits')\n",
    "\n",
    "# Loss and Optimizer\n",
    "cost = tf.reduce_mean(tf.nn.softmax_cross_entropy_with_logits(logits=logits, labels=y))\n",
    "optimizer = tf.train.AdamOptimizer().minimize(cost)\n",
    "\n",
    "# Accuracy\n",
    "correct_pred = tf.equal(tf.argmax(logits, 1), tf.argmax(y, 1))\n",
    "accuracy = tf.reduce_mean(tf.cast(correct_pred, tf.float32), name='accuracy')\n",
    "\n",
    "tests.test_conv_net(conv_net)"
   ]
  },
  {
   "cell_type": "markdown",
   "metadata": {
    "deletable": true,
    "editable": true
   },
   "source": [
    "## Train the Neural Network\n",
    "### Single Optimization\n",
    "Implement the function `train_neural_network` to do a single optimization.  The optimization should use `optimizer` to optimize in `session` with a `feed_dict` of the following:\n",
    "* `x` for image input\n",
    "* `y` for labels\n",
    "* `keep_prob` for keep probability for dropout\n",
    "\n",
    "This function will be called for each batch, so `tf.global_variables_initializer()` has already been called.\n",
    "\n",
    "Note: Nothing needs to be returned. This function is only optimizing the neural network."
   ]
  },
  {
   "cell_type": "code",
   "execution_count": 22,
   "metadata": {
    "collapsed": false,
    "deletable": true,
    "editable": true
   },
   "outputs": [
    {
     "name": "stdout",
     "output_type": "stream",
     "text": [
      "Tests Passed\n"
     ]
    }
   ],
   "source": [
    "def train_neural_network(session, optimizer, keep_probability, feature_batch, label_batch):\n",
    "    \"\"\"\n",
    "    Optimize the session on a batch of images and labels\n",
    "    : session: Current TensorFlow session\n",
    "    : optimizer: TensorFlow optimizer function\n",
    "    : keep_probability: keep probability\n",
    "    : feature_batch: Batch of Numpy image data\n",
    "    : label_batch: Batch of Numpy label data\n",
    "    \"\"\"\n",
    "    # TODO: Implement Function\n",
    "    feed_dictionary = {x : feature_batch,\n",
    "                       y : label_batch,\n",
    "                       keep_prob : keep_probability}\n",
    "    session.run(optimizer, feed_dict=feed_dictionary)\n",
    "    pass\n",
    "\n",
    "\n",
    "\"\"\"\n",
    "DON'T MODIFY ANYTHING IN THIS CELL THAT IS BELOW THIS LINE\n",
    "\"\"\"\n",
    "tests.test_train_nn(train_neural_network)"
   ]
  },
  {
   "cell_type": "markdown",
   "metadata": {
    "deletable": true,
    "editable": true
   },
   "source": [
    "### Show Stats\n",
    "Implement the function `print_stats` to print loss and validation accuracy.  Use the global variables `valid_features` and `valid_labels` to calculate validation accuracy.  Use a keep probability of `1.0` to calculate the loss and validation accuracy."
   ]
  },
  {
   "cell_type": "code",
   "execution_count": 23,
   "metadata": {
    "collapsed": false,
    "deletable": true,
    "editable": true
   },
   "outputs": [],
   "source": [
    "def print_stats(session, feature_batch, label_batch, cost, accuracy):\n",
    "    \"\"\"\n",
    "    Print information about loss and validation accuracy\n",
    "    : session: Current TensorFlow session\n",
    "    : feature_batch: Batch of Numpy image data\n",
    "    : label_batch: Batch of Numpy label data\n",
    "    : cost: TensorFlow cost function\n",
    "    : accuracy: TensorFlow accuracy function\n",
    "    \"\"\"\n",
    "    # TODO: Implement Function\n",
    "    loss_dict = {x: feature_batch, \n",
    "                 y: label_batch, \n",
    "                 keep_prob: 1.}\n",
    "    loss = session.run(cost, feed_dict=loss_dict)\n",
    "\n",
    "    valid_dict = {x: valid_features,\n",
    "                 y: valid_labels,\n",
    "                 keep_prob: 1.}\n",
    "    valid_acc = session.run(accuracy, feed_dict=valid_dict)\n",
    "        \n",
    "    #end while loop\n",
    "    print(\"loss {:.4f}, validation accuracy {:.4f}\".format(loss, valid_acc))"
   ]
  },
  {
   "cell_type": "markdown",
   "metadata": {
    "deletable": true,
    "editable": true
   },
   "source": [
    "### Hyperparameters\n",
    "Tune the following parameters:\n",
    "* Set `epochs` to the number of iterations until the network stops learning or start overfitting\n",
    "* Set `batch_size` to the highest number that your machine has memory for.  Most people set them to common sizes of memory:\n",
    " * 64\n",
    " * 128\n",
    " * 256\n",
    " * ...\n",
    "* Set `keep_probability` to the probability of keeping a node using dropout"
   ]
  },
  {
   "cell_type": "code",
   "execution_count": 25,
   "metadata": {
    "collapsed": true,
    "deletable": true,
    "editable": true
   },
   "outputs": [],
   "source": [
    "# TODO: Tune Parameters\n",
    "epochs = 50 #validation acc tends to decrease on epoch 9 and 10\n",
    "batch_size = 64 #smaller batch size seems to reduce overfitting\n",
    "keep_probability = .75 #0.99 good for batch 1 only"
   ]
  },
  {
   "cell_type": "markdown",
   "metadata": {
    "deletable": true,
    "editable": true
   },
   "source": [
    "### Train on a Single CIFAR-10 Batch\n",
    "Instead of training the neural network on all the CIFAR-10 batches of data, let's use a single batch. This should save time while you iterate on the model to get a better accuracy.  Once the final validation accuracy is 50% or greater, run the model on all the data in the next section."
   ]
  },
  {
   "cell_type": "code",
   "execution_count": null,
   "metadata": {
    "collapsed": false,
    "deletable": true,
    "editable": true
   },
   "outputs": [],
   "source": [
    "\"\"\"\n",
    "DON'T MODIFY ANYTHING IN THIS CELL\n",
    "\n",
    "\n",
    "print('Checking the Training on a Single Batch...')\n",
    "with tf.Session() as sess:\n",
    "    # Initializing the variables\n",
    "    sess.run(tf.global_variables_initializer())\n",
    "    \n",
    "    # Training cycle\n",
    "    for epoch in range(epochs):\n",
    "        batch_i = 1\n",
    "        for batch_features, batch_labels in helper.load_preprocess_training_batch(batch_i, batch_size):\n",
    "            train_neural_network(sess, optimizer, keep_probability, batch_features, batch_labels)\n",
    "        print('Epoch {:>2}, CIFAR-10 Batch {}:  '.format(epoch + 1, batch_i), end='')\n",
    "        print_stats(sess, batch_features, batch_labels, cost, accuracy)\n",
    "\"\"\""
   ]
  },
  {
   "cell_type": "markdown",
   "metadata": {
    "deletable": true,
    "editable": true
   },
   "source": [
    "### Fully Train the Model\n",
    "Now that you got a good accuracy with a single CIFAR-10 batch, try it with all five batches."
   ]
  },
  {
   "cell_type": "markdown",
   "metadata": {
    "deletable": true,
    "editable": true
   },
   "source": [
    "When training on full data set, validation accuracy goes from .40 and drops to .30.  I think it's over-fitting.  I can try reducing the keep_prob.\n",
    "\n",
    "Set keep_prob from .99 to .90; acc drops rapidly.\n",
    "\n",
    "Try reducing batch size from 64 to 32. Put keep_prob back to .99.  Accuracy decreases from .3 downward.\n",
    "\n",
    "Try batch 64; keep_prob 0.50.  I'm going back to batch 1 to work on improving it."
   ]
  },
  {
   "cell_type": "code",
   "execution_count": 26,
   "metadata": {
    "collapsed": false,
    "deletable": true,
    "editable": true
   },
   "outputs": [
    {
     "name": "stdout",
     "output_type": "stream",
     "text": [
      "Training...\n",
      "Epoch  1, CIFAR-10 Batch 1:  loss 2.2828, validation accuracy 0.1558\n",
      "Epoch  1, CIFAR-10 Batch 2:  loss 2.2094, validation accuracy 0.1476\n",
      "Epoch  1, CIFAR-10 Batch 3:  loss 1.9661, validation accuracy 0.2044\n",
      "Epoch  1, CIFAR-10 Batch 4:  loss 1.9231, validation accuracy 0.2332\n",
      "Epoch  1, CIFAR-10 Batch 5:  loss 2.0254, validation accuracy 0.2260\n",
      "Epoch  2, CIFAR-10 Batch 1:  loss 2.0495, validation accuracy 0.2992\n",
      "Epoch  2, CIFAR-10 Batch 2:  loss 1.8696, validation accuracy 0.3084\n",
      "Epoch  2, CIFAR-10 Batch 3:  loss 1.6352, validation accuracy 0.3532\n",
      "Epoch  2, CIFAR-10 Batch 4:  loss 1.6606, validation accuracy 0.3918\n",
      "Epoch  2, CIFAR-10 Batch 5:  loss 1.6586, validation accuracy 0.3964\n",
      "Epoch  3, CIFAR-10 Batch 1:  loss 1.7520, validation accuracy 0.4006\n",
      "Epoch  3, CIFAR-10 Batch 2:  loss 1.5772, validation accuracy 0.4246\n",
      "Epoch  3, CIFAR-10 Batch 3:  loss 1.4259, validation accuracy 0.4438\n",
      "Epoch  3, CIFAR-10 Batch 4:  loss 1.5356, validation accuracy 0.4728\n",
      "Epoch  3, CIFAR-10 Batch 5:  loss 1.5274, validation accuracy 0.4768\n",
      "Epoch  4, CIFAR-10 Batch 1:  loss 1.5758, validation accuracy 0.4956\n",
      "Epoch  4, CIFAR-10 Batch 2:  loss 1.4181, validation accuracy 0.4754\n",
      "Epoch  4, CIFAR-10 Batch 3:  loss 1.3695, validation accuracy 0.4778\n",
      "Epoch  4, CIFAR-10 Batch 4:  loss 1.4270, validation accuracy 0.4962\n",
      "Epoch  4, CIFAR-10 Batch 5:  loss 1.5123, validation accuracy 0.4862\n",
      "Epoch  5, CIFAR-10 Batch 1:  loss 1.3707, validation accuracy 0.5324\n",
      "Epoch  5, CIFAR-10 Batch 2:  loss 1.3410, validation accuracy 0.5278\n",
      "Epoch  5, CIFAR-10 Batch 3:  loss 1.3337, validation accuracy 0.4932\n",
      "Epoch  5, CIFAR-10 Batch 4:  loss 1.2286, validation accuracy 0.5634\n",
      "Epoch  5, CIFAR-10 Batch 5:  loss 1.5029, validation accuracy 0.5112\n",
      "Epoch  6, CIFAR-10 Batch 1:  loss 1.2480, validation accuracy 0.5588\n",
      "Epoch  6, CIFAR-10 Batch 2:  loss 1.2249, validation accuracy 0.5190\n",
      "Epoch  6, CIFAR-10 Batch 3:  loss 1.3094, validation accuracy 0.5154\n",
      "Epoch  6, CIFAR-10 Batch 4:  loss 1.2374, validation accuracy 0.5674\n",
      "Epoch  6, CIFAR-10 Batch 5:  loss 1.2966, validation accuracy 0.5506\n",
      "Epoch  7, CIFAR-10 Batch 1:  loss 1.0399, validation accuracy 0.5926\n",
      "Epoch  7, CIFAR-10 Batch 2:  loss 1.1929, validation accuracy 0.5858\n",
      "Epoch  7, CIFAR-10 Batch 3:  loss 1.0358, validation accuracy 0.5810\n",
      "Epoch  7, CIFAR-10 Batch 4:  loss 1.0847, validation accuracy 0.5890\n",
      "Epoch  7, CIFAR-10 Batch 5:  loss 1.1939, validation accuracy 0.6032\n",
      "Epoch  8, CIFAR-10 Batch 1:  loss 1.1004, validation accuracy 0.6122\n",
      "Epoch  8, CIFAR-10 Batch 2:  loss 1.0026, validation accuracy 0.6298\n",
      "Epoch  8, CIFAR-10 Batch 3:  loss 0.8524, validation accuracy 0.6202\n",
      "Epoch  8, CIFAR-10 Batch 4:  loss 0.8915, validation accuracy 0.6326\n",
      "Epoch  8, CIFAR-10 Batch 5:  loss 1.1742, validation accuracy 0.6150\n",
      "Epoch  9, CIFAR-10 Batch 1:  loss 0.9456, validation accuracy 0.6432\n",
      "Epoch  9, CIFAR-10 Batch 2:  loss 0.9886, validation accuracy 0.6534\n",
      "Epoch  9, CIFAR-10 Batch 3:  loss 0.8756, validation accuracy 0.6372\n",
      "Epoch  9, CIFAR-10 Batch 4:  loss 0.8438, validation accuracy 0.6394\n",
      "Epoch  9, CIFAR-10 Batch 5:  loss 1.0016, validation accuracy 0.6204\n",
      "Epoch 10, CIFAR-10 Batch 1:  loss 0.9653, validation accuracy 0.6630\n",
      "Epoch 10, CIFAR-10 Batch 2:  loss 0.8690, validation accuracy 0.6556\n",
      "Epoch 10, CIFAR-10 Batch 3:  loss 0.7102, validation accuracy 0.6518\n",
      "Epoch 10, CIFAR-10 Batch 4:  loss 0.7967, validation accuracy 0.6680\n",
      "Epoch 10, CIFAR-10 Batch 5:  loss 0.9828, validation accuracy 0.6222\n",
      "Epoch 11, CIFAR-10 Batch 1:  loss 0.9625, validation accuracy 0.6710\n",
      "Epoch 11, CIFAR-10 Batch 2:  loss 1.0010, validation accuracy 0.6652\n",
      "Epoch 11, CIFAR-10 Batch 3:  loss 0.5674, validation accuracy 0.6924\n",
      "Epoch 11, CIFAR-10 Batch 4:  loss 0.6948, validation accuracy 0.6810\n",
      "Epoch 11, CIFAR-10 Batch 5:  loss 0.8869, validation accuracy 0.6648\n",
      "Epoch 12, CIFAR-10 Batch 1:  loss 0.8206, validation accuracy 0.6868\n",
      "Epoch 12, CIFAR-10 Batch 2:  loss 0.8122, validation accuracy 0.7040\n",
      "Epoch 12, CIFAR-10 Batch 3:  loss 0.6567, validation accuracy 0.7000\n",
      "Epoch 12, CIFAR-10 Batch 4:  loss 0.6652, validation accuracy 0.6658\n",
      "Epoch 12, CIFAR-10 Batch 5:  loss 0.8253, validation accuracy 0.6930\n",
      "Epoch 13, CIFAR-10 Batch 1:  loss 0.7386, validation accuracy 0.6994\n",
      "Epoch 13, CIFAR-10 Batch 2:  loss 0.6077, validation accuracy 0.7032\n",
      "Epoch 13, CIFAR-10 Batch 3:  loss 0.4683, validation accuracy 0.7170\n",
      "Epoch 13, CIFAR-10 Batch 4:  loss 0.5318, validation accuracy 0.7054\n",
      "Epoch 13, CIFAR-10 Batch 5:  loss 0.7795, validation accuracy 0.6858\n",
      "Epoch 14, CIFAR-10 Batch 1:  loss 0.6658, validation accuracy 0.7080\n",
      "Epoch 14, CIFAR-10 Batch 2:  loss 0.5607, validation accuracy 0.7184\n",
      "Epoch 14, CIFAR-10 Batch 3:  loss 0.5814, validation accuracy 0.7002\n",
      "Epoch 14, CIFAR-10 Batch 4:  loss 0.4342, validation accuracy 0.7098\n",
      "Epoch 14, CIFAR-10 Batch 5:  loss 0.7167, validation accuracy 0.6922\n",
      "Epoch 15, CIFAR-10 Batch 1:  loss 0.6221, validation accuracy 0.7118\n",
      "Epoch 15, CIFAR-10 Batch 2:  loss 0.4950, validation accuracy 0.7388\n",
      "Epoch 15, CIFAR-10 Batch 3:  loss 0.5031, validation accuracy 0.7204\n",
      "Epoch 15, CIFAR-10 Batch 4:  loss 0.4522, validation accuracy 0.7182\n",
      "Epoch 15, CIFAR-10 Batch 5:  loss 0.6722, validation accuracy 0.7160\n",
      "Epoch 16, CIFAR-10 Batch 1:  loss 0.6273, validation accuracy 0.7336\n",
      "Epoch 16, CIFAR-10 Batch 2:  loss 0.5870, validation accuracy 0.7192\n",
      "Epoch 16, CIFAR-10 Batch 3:  loss 0.3851, validation accuracy 0.7442\n",
      "Epoch 16, CIFAR-10 Batch 4:  loss 0.4165, validation accuracy 0.7336\n",
      "Epoch 16, CIFAR-10 Batch 5:  loss 0.5658, validation accuracy 0.7220\n",
      "Epoch 17, CIFAR-10 Batch 1:  loss 0.5429, validation accuracy 0.7452\n",
      "Epoch 17, CIFAR-10 Batch 2:  loss 0.5102, validation accuracy 0.7288\n",
      "Epoch 17, CIFAR-10 Batch 3:  loss 0.2981, validation accuracy 0.7296\n",
      "Epoch 17, CIFAR-10 Batch 4:  loss 0.3553, validation accuracy 0.7322\n",
      "Epoch 17, CIFAR-10 Batch 5:  loss 0.6119, validation accuracy 0.7232\n",
      "Epoch 18, CIFAR-10 Batch 1:  loss 0.5335, validation accuracy 0.7586\n",
      "Epoch 18, CIFAR-10 Batch 2:  loss 0.4092, validation accuracy 0.7466\n",
      "Epoch 18, CIFAR-10 Batch 3:  loss 0.3595, validation accuracy 0.7452\n",
      "Epoch 18, CIFAR-10 Batch 4:  loss 0.3927, validation accuracy 0.7354\n",
      "Epoch 18, CIFAR-10 Batch 5:  loss 0.6255, validation accuracy 0.7270\n",
      "Epoch 19, CIFAR-10 Batch 1:  loss 0.5014, validation accuracy 0.7514\n",
      "Epoch 19, CIFAR-10 Batch 2:  loss 0.3830, validation accuracy 0.7316\n",
      "Epoch 19, CIFAR-10 Batch 3:  loss 0.2898, validation accuracy 0.7386\n",
      "Epoch 19, CIFAR-10 Batch 4:  loss 0.3717, validation accuracy 0.7564\n",
      "Epoch 19, CIFAR-10 Batch 5:  loss 0.5469, validation accuracy 0.7420\n",
      "Epoch 20, CIFAR-10 Batch 1:  loss 0.5387, validation accuracy 0.7400\n",
      "Epoch 20, CIFAR-10 Batch 2:  loss 0.3243, validation accuracy 0.7420\n",
      "Epoch 20, CIFAR-10 Batch 3:  loss 0.3369, validation accuracy 0.7362\n",
      "Epoch 20, CIFAR-10 Batch 4:  loss 0.2366, validation accuracy 0.7644\n",
      "Epoch 20, CIFAR-10 Batch 5:  loss 0.4753, validation accuracy 0.7500\n",
      "Epoch 21, CIFAR-10 Batch 1:  loss 0.5240, validation accuracy 0.7624\n",
      "Epoch 21, CIFAR-10 Batch 2:  loss 0.2989, validation accuracy 0.7408\n",
      "Epoch 21, CIFAR-10 Batch 3:  loss 0.3621, validation accuracy 0.7282\n",
      "Epoch 21, CIFAR-10 Batch 4:  loss 0.3088, validation accuracy 0.7428\n",
      "Epoch 21, CIFAR-10 Batch 5:  loss 0.3709, validation accuracy 0.7626\n",
      "Epoch 22, CIFAR-10 Batch 1:  loss 0.3526, validation accuracy 0.7546\n",
      "Epoch 22, CIFAR-10 Batch 2:  loss 0.2757, validation accuracy 0.7586\n",
      "Epoch 22, CIFAR-10 Batch 3:  loss 0.3157, validation accuracy 0.7348\n",
      "Epoch 22, CIFAR-10 Batch 4:  loss 0.2508, validation accuracy 0.7648\n",
      "Epoch 22, CIFAR-10 Batch 5:  loss 0.3536, validation accuracy 0.7446\n",
      "Epoch 23, CIFAR-10 Batch 1:  loss 0.3681, validation accuracy 0.7616\n",
      "Epoch 23, CIFAR-10 Batch 2:  loss 0.3076, validation accuracy 0.7672\n",
      "Epoch 23, CIFAR-10 Batch 3:  loss 0.2385, validation accuracy 0.7476\n",
      "Epoch 23, CIFAR-10 Batch 4:  loss 0.2693, validation accuracy 0.7650\n",
      "Epoch 23, CIFAR-10 Batch 5:  loss 0.4043, validation accuracy 0.7074\n",
      "Epoch 24, CIFAR-10 Batch 1:  loss 0.2836, validation accuracy 0.7680\n",
      "Epoch 24, CIFAR-10 Batch 2:  loss 0.2374, validation accuracy 0.7674\n",
      "Epoch 24, CIFAR-10 Batch 3:  loss 0.1851, validation accuracy 0.7460\n",
      "Epoch 24, CIFAR-10 Batch 4:  loss 0.2145, validation accuracy 0.7656\n",
      "Epoch 24, CIFAR-10 Batch 5:  loss 0.2411, validation accuracy 0.7632\n",
      "Epoch 25, CIFAR-10 Batch 1:  loss 0.3054, validation accuracy 0.7634\n",
      "Epoch 25, CIFAR-10 Batch 2:  loss 0.2361, validation accuracy 0.7710\n",
      "Epoch 25, CIFAR-10 Batch 3:  loss 0.1574, validation accuracy 0.7632\n",
      "Epoch 25, CIFAR-10 Batch 4:  loss 0.2575, validation accuracy 0.7684\n",
      "Epoch 25, CIFAR-10 Batch 5:  loss 0.2652, validation accuracy 0.7532\n",
      "Epoch 26, CIFAR-10 Batch 1:  loss 0.2358, validation accuracy 0.7694\n",
      "Epoch 26, CIFAR-10 Batch 2:  loss 0.3524, validation accuracy 0.7628\n",
      "Epoch 26, CIFAR-10 Batch 3:  loss 0.2836, validation accuracy 0.7336\n",
      "Epoch 26, CIFAR-10 Batch 4:  loss 0.1672, validation accuracy 0.7776\n",
      "Epoch 26, CIFAR-10 Batch 5:  loss 0.1786, validation accuracy 0.7720\n",
      "Epoch 27, CIFAR-10 Batch 1:  loss 0.2242, validation accuracy 0.7672\n",
      "Epoch 27, CIFAR-10 Batch 2:  loss 0.2412, validation accuracy 0.7722\n",
      "Epoch 27, CIFAR-10 Batch 3:  loss 0.1364, validation accuracy 0.7738\n",
      "Epoch 27, CIFAR-10 Batch 4:  loss 0.1661, validation accuracy 0.7820\n",
      "Epoch 27, CIFAR-10 Batch 5:  loss 0.1515, validation accuracy 0.7752\n",
      "Epoch 28, CIFAR-10 Batch 1:  loss 0.3128, validation accuracy 0.7620\n",
      "Epoch 28, CIFAR-10 Batch 2:  loss 0.2134, validation accuracy 0.7750\n",
      "Epoch 28, CIFAR-10 Batch 3:  loss 0.1199, validation accuracy 0.7788\n",
      "Epoch 28, CIFAR-10 Batch 4:  loss 0.1704, validation accuracy 0.7814\n",
      "Epoch 28, CIFAR-10 Batch 5:  loss 0.1526, validation accuracy 0.7556\n",
      "Epoch 29, CIFAR-10 Batch 1:  loss 0.1654, validation accuracy 0.7672\n",
      "Epoch 29, CIFAR-10 Batch 2:  loss 0.1687, validation accuracy 0.7642\n",
      "Epoch 29, CIFAR-10 Batch 3:  loss 0.1246, validation accuracy 0.7696\n",
      "Epoch 29, CIFAR-10 Batch 4:  loss 0.2244, validation accuracy 0.7550\n",
      "Epoch 29, CIFAR-10 Batch 5:  loss 0.1684, validation accuracy 0.7570\n",
      "Epoch 30, CIFAR-10 Batch 1:  loss 0.1662, validation accuracy 0.7730\n",
      "Epoch 30, CIFAR-10 Batch 2:  loss 0.1719, validation accuracy 0.7780\n",
      "Epoch 30, CIFAR-10 Batch 3:  loss 0.1262, validation accuracy 0.7808\n",
      "Epoch 30, CIFAR-10 Batch 4:  loss 0.1763, validation accuracy 0.7716\n",
      "Epoch 30, CIFAR-10 Batch 5:  loss 0.2002, validation accuracy 0.7652\n",
      "Epoch 31, CIFAR-10 Batch 1:  loss 0.2019, validation accuracy 0.7718\n",
      "Epoch 31, CIFAR-10 Batch 2:  loss 0.1160, validation accuracy 0.7618\n",
      "Epoch 31, CIFAR-10 Batch 3:  loss 0.0915, validation accuracy 0.7694\n",
      "Epoch 31, CIFAR-10 Batch 4:  loss 0.1276, validation accuracy 0.7758\n",
      "Epoch 31, CIFAR-10 Batch 5:  loss 0.1918, validation accuracy 0.7692\n",
      "Epoch 32, CIFAR-10 Batch 1:  loss 0.1088, validation accuracy 0.7706\n",
      "Epoch 32, CIFAR-10 Batch 2:  loss 0.2057, validation accuracy 0.7676\n",
      "Epoch 32, CIFAR-10 Batch 3:  loss 0.1065, validation accuracy 0.7586\n",
      "Epoch 32, CIFAR-10 Batch 4:  loss 0.1594, validation accuracy 0.7634\n",
      "Epoch 32, CIFAR-10 Batch 5:  loss 0.1284, validation accuracy 0.7678\n",
      "Epoch 33, CIFAR-10 Batch 1:  loss 0.1808, validation accuracy 0.7764\n",
      "Epoch 33, CIFAR-10 Batch 2:  loss 0.1356, validation accuracy 0.7588\n",
      "Epoch 33, CIFAR-10 Batch 3:  loss 0.0877, validation accuracy 0.7812\n",
      "Epoch 33, CIFAR-10 Batch 4:  loss 0.0982, validation accuracy 0.7802\n",
      "Epoch 33, CIFAR-10 Batch 5:  loss 0.0794, validation accuracy 0.7872\n",
      "Epoch 34, CIFAR-10 Batch 1:  loss 0.1038, validation accuracy 0.7836\n",
      "Epoch 34, CIFAR-10 Batch 2:  loss 0.0820, validation accuracy 0.7914\n",
      "Epoch 34, CIFAR-10 Batch 3:  loss 0.1112, validation accuracy 0.7756\n",
      "Epoch 34, CIFAR-10 Batch 4:  loss 0.0901, validation accuracy 0.7790\n",
      "Epoch 34, CIFAR-10 Batch 5:  loss 0.1135, validation accuracy 0.7860\n",
      "Epoch 35, CIFAR-10 Batch 1:  loss 0.1379, validation accuracy 0.7666\n",
      "Epoch 35, CIFAR-10 Batch 2:  loss 0.1611, validation accuracy 0.7646\n",
      "Epoch 35, CIFAR-10 Batch 3:  loss 0.0320, validation accuracy 0.7842\n",
      "Epoch 35, CIFAR-10 Batch 4:  loss 0.0624, validation accuracy 0.7824\n",
      "Epoch 35, CIFAR-10 Batch 5:  loss 0.1367, validation accuracy 0.7718\n",
      "Epoch 36, CIFAR-10 Batch 1:  loss 0.0906, validation accuracy 0.7776\n",
      "Epoch 36, CIFAR-10 Batch 2:  loss 0.1076, validation accuracy 0.7660\n",
      "Epoch 36, CIFAR-10 Batch 3:  loss 0.0757, validation accuracy 0.7706\n",
      "Epoch 36, CIFAR-10 Batch 4:  loss 0.1204, validation accuracy 0.7736\n",
      "Epoch 36, CIFAR-10 Batch 5:  loss 0.0830, validation accuracy 0.7758\n",
      "Epoch 37, CIFAR-10 Batch 1:  loss 0.0744, validation accuracy 0.7880\n",
      "Epoch 37, CIFAR-10 Batch 2:  loss 0.0734, validation accuracy 0.7758\n",
      "Epoch 37, CIFAR-10 Batch 3:  loss 0.0513, validation accuracy 0.7746\n",
      "Epoch 37, CIFAR-10 Batch 4:  loss 0.0751, validation accuracy 0.7766\n",
      "Epoch 37, CIFAR-10 Batch 5:  loss 0.1488, validation accuracy 0.7546\n",
      "Epoch 38, CIFAR-10 Batch 1:  loss 0.0702, validation accuracy 0.7848\n",
      "Epoch 38, CIFAR-10 Batch 2:  loss 0.0588, validation accuracy 0.7764\n",
      "Epoch 38, CIFAR-10 Batch 3:  loss 0.0633, validation accuracy 0.7648\n",
      "Epoch 38, CIFAR-10 Batch 4:  loss 0.0604, validation accuracy 0.7886\n",
      "Epoch 38, CIFAR-10 Batch 5:  loss 0.0413, validation accuracy 0.7840\n",
      "Epoch 39, CIFAR-10 Batch 1:  loss 0.0640, validation accuracy 0.7898\n",
      "Epoch 39, CIFAR-10 Batch 2:  loss 0.0495, validation accuracy 0.7838\n",
      "Epoch 39, CIFAR-10 Batch 3:  loss 0.0429, validation accuracy 0.7764\n",
      "Epoch 39, CIFAR-10 Batch 4:  loss 0.0297, validation accuracy 0.7788\n",
      "Epoch 39, CIFAR-10 Batch 5:  loss 0.1074, validation accuracy 0.7524\n",
      "Epoch 40, CIFAR-10 Batch 1:  loss 0.0750, validation accuracy 0.7768\n",
      "Epoch 40, CIFAR-10 Batch 2:  loss 0.0597, validation accuracy 0.7800\n",
      "Epoch 40, CIFAR-10 Batch 3:  loss 0.0394, validation accuracy 0.7736\n",
      "Epoch 40, CIFAR-10 Batch 4:  loss 0.0448, validation accuracy 0.7808\n",
      "Epoch 40, CIFAR-10 Batch 5:  loss 0.0787, validation accuracy 0.7672\n",
      "Epoch 41, CIFAR-10 Batch 1:  loss 0.0469, validation accuracy 0.7868\n",
      "Epoch 41, CIFAR-10 Batch 2:  loss 0.0738, validation accuracy 0.7784\n",
      "Epoch 41, CIFAR-10 Batch 3:  loss 0.0480, validation accuracy 0.7618\n",
      "Epoch 41, CIFAR-10 Batch 4:  loss 0.0315, validation accuracy 0.7794\n",
      "Epoch 41, CIFAR-10 Batch 5:  loss 0.0577, validation accuracy 0.7744\n",
      "Epoch 42, CIFAR-10 Batch 1:  loss 0.1021, validation accuracy 0.7812\n",
      "Epoch 42, CIFAR-10 Batch 2:  loss 0.0413, validation accuracy 0.7752\n",
      "Epoch 42, CIFAR-10 Batch 3:  loss 0.0210, validation accuracy 0.7838\n",
      "Epoch 42, CIFAR-10 Batch 4:  loss 0.0268, validation accuracy 0.7734\n",
      "Epoch 42, CIFAR-10 Batch 5:  loss 0.0165, validation accuracy 0.7792\n",
      "Epoch 43, CIFAR-10 Batch 1:  loss 0.0601, validation accuracy 0.7802\n",
      "Epoch 43, CIFAR-10 Batch 2:  loss 0.0432, validation accuracy 0.7754\n",
      "Epoch 43, CIFAR-10 Batch 3:  loss 0.0240, validation accuracy 0.7702\n",
      "Epoch 43, CIFAR-10 Batch 4:  loss 0.0528, validation accuracy 0.7802\n",
      "Epoch 43, CIFAR-10 Batch 5:  loss 0.0717, validation accuracy 0.7814\n",
      "Epoch 44, CIFAR-10 Batch 1:  loss 0.0730, validation accuracy 0.7786\n",
      "Epoch 44, CIFAR-10 Batch 2:  loss 0.0229, validation accuracy 0.7808\n",
      "Epoch 44, CIFAR-10 Batch 3:  loss 0.0127, validation accuracy 0.7834\n",
      "Epoch 44, CIFAR-10 Batch 4:  loss 0.0679, validation accuracy 0.7752\n",
      "Epoch 44, CIFAR-10 Batch 5:  loss 0.0907, validation accuracy 0.7804\n",
      "Epoch 45, CIFAR-10 Batch 1:  loss 0.0255, validation accuracy 0.7788\n",
      "Epoch 45, CIFAR-10 Batch 2:  loss 0.0173, validation accuracy 0.7822\n",
      "Epoch 45, CIFAR-10 Batch 3:  loss 0.0136, validation accuracy 0.7762\n",
      "Epoch 45, CIFAR-10 Batch 4:  loss 0.0309, validation accuracy 0.7796\n",
      "Epoch 45, CIFAR-10 Batch 5:  loss 0.0839, validation accuracy 0.7788\n",
      "Epoch 46, CIFAR-10 Batch 1:  loss 0.0219, validation accuracy 0.7844\n",
      "Epoch 46, CIFAR-10 Batch 2:  loss 0.0287, validation accuracy 0.7616\n",
      "Epoch 46, CIFAR-10 Batch 3:  loss 0.0281, validation accuracy 0.7816\n",
      "Epoch 46, CIFAR-10 Batch 4:  loss 0.0318, validation accuracy 0.7712\n",
      "Epoch 46, CIFAR-10 Batch 5:  loss 0.0222, validation accuracy 0.7814\n",
      "Epoch 47, CIFAR-10 Batch 1:  loss 0.0208, validation accuracy 0.7770\n",
      "Epoch 47, CIFAR-10 Batch 2:  loss 0.0649, validation accuracy 0.7838\n",
      "Epoch 47, CIFAR-10 Batch 3:  loss 0.0078, validation accuracy 0.7766\n",
      "Epoch 47, CIFAR-10 Batch 4:  loss 0.0321, validation accuracy 0.7820\n",
      "Epoch 47, CIFAR-10 Batch 5:  loss 0.0273, validation accuracy 0.7770\n",
      "Epoch 48, CIFAR-10 Batch 1:  loss 0.0195, validation accuracy 0.7850\n",
      "Epoch 48, CIFAR-10 Batch 2:  loss 0.1102, validation accuracy 0.7530\n",
      "Epoch 48, CIFAR-10 Batch 3:  loss 0.0172, validation accuracy 0.7912\n",
      "Epoch 48, CIFAR-10 Batch 4:  loss 0.0248, validation accuracy 0.7826\n",
      "Epoch 48, CIFAR-10 Batch 5:  loss 0.0351, validation accuracy 0.7788\n",
      "Epoch 49, CIFAR-10 Batch 1:  loss 0.0353, validation accuracy 0.7788\n",
      "Epoch 49, CIFAR-10 Batch 2:  loss 0.0175, validation accuracy 0.7776\n",
      "Epoch 49, CIFAR-10 Batch 3:  loss 0.0077, validation accuracy 0.7862\n",
      "Epoch 49, CIFAR-10 Batch 4:  loss 0.0258, validation accuracy 0.7750\n",
      "Epoch 49, CIFAR-10 Batch 5:  loss 0.0155, validation accuracy 0.7798\n",
      "Epoch 50, CIFAR-10 Batch 1:  loss 0.0237, validation accuracy 0.7776\n",
      "Epoch 50, CIFAR-10 Batch 2:  loss 0.0153, validation accuracy 0.7782\n",
      "Epoch 50, CIFAR-10 Batch 3:  loss 0.0072, validation accuracy 0.7804\n",
      "Epoch 50, CIFAR-10 Batch 4:  loss 0.0117, validation accuracy 0.7860\n",
      "Epoch 50, CIFAR-10 Batch 5:  loss 0.0098, validation accuracy 0.7886\n"
     ]
    }
   ],
   "source": [
    "\"\"\"\n",
    "DON'T MODIFY ANYTHING IN THIS CELL\n",
    "\"\"\"\n",
    "save_model_path = './image_classification'\n",
    "\n",
    "print('Training...')\n",
    "with tf.Session() as sess:\n",
    "    # Initializing the variables\n",
    "    sess.run(tf.global_variables_initializer())\n",
    "    \n",
    "    # Training cycle\n",
    "    for epoch in range(epochs):\n",
    "        # Loop over all batches\n",
    "        n_batches = 5\n",
    "        for batch_i in range(1, n_batches + 1):\n",
    "            for batch_features, batch_labels in helper.load_preprocess_training_batch(batch_i, batch_size):\n",
    "                train_neural_network(sess, optimizer, keep_probability, batch_features, batch_labels)\n",
    "            print('Epoch {:>2}, CIFAR-10 Batch {}:  '.format(epoch + 1, batch_i), end='')\n",
    "            print_stats(sess, batch_features, batch_labels, cost, accuracy)\n",
    "            \n",
    "    # Save Model\n",
    "    saver = tf.train.Saver()\n",
    "    save_path = saver.save(sess, save_model_path)"
   ]
  },
  {
   "cell_type": "markdown",
   "metadata": {
    "deletable": true,
    "editable": true
   },
   "source": [
    "# Checkpoint\n",
    "The model has been saved to disk.\n",
    "## Test Model\n",
    "Test your model against the test dataset.  This will be your final accuracy. You should have an accuracy greater than 50%. If you don't, keep tweaking the model architecture and parameters."
   ]
  },
  {
   "cell_type": "code",
   "execution_count": 27,
   "metadata": {
    "collapsed": false,
    "deletable": true,
    "editable": true
   },
   "outputs": [
    {
     "name": "stdout",
     "output_type": "stream",
     "text": [
      "Testing Accuracy: 0.774781050955414\n",
      "\n"
     ]
    },
    {
     "data": {
      "image/png": "[encoded data removed]",
      "text/plain": [
       "<matplotlib.figure.Figure at 0x7fb48f261ef0>"
      ]
     },
     "metadata": {
      "image/png": {
       "height": 319,
       "width": 355
      }
     },
     "output_type": "display_data"
    }
   ],
   "source": [
    "\"\"\"\n",
    "DON'T MODIFY ANYTHING IN THIS CELL\n",
    "\"\"\"\n",
    "%matplotlib inline\n",
    "%config InlineBackend.figure_format = 'retina'\n",
    "\n",
    "import tensorflow as tf\n",
    "import pickle\n",
    "import helper\n",
    "import random\n",
    "\n",
    "# Set batch size if not already set\n",
    "try:\n",
    "    if batch_size:\n",
    "        pass\n",
    "except NameError:\n",
    "    batch_size = 64\n",
    "\n",
    "save_model_path = './image_classification'\n",
    "n_samples = 4\n",
    "top_n_predictions = 3\n",
    "\n",
    "def test_model():\n",
    "    \"\"\"\n",
    "    Test the saved model against the test dataset\n",
    "    \"\"\"\n",
    "\n",
    "    test_features, test_labels = pickle.load(open('preprocess_training.p', mode='rb'))\n",
    "    loaded_graph = tf.Graph()\n",
    "\n",
    "    with tf.Session(graph=loaded_graph) as sess:\n",
    "        # Load model\n",
    "        loader = tf.train.import_meta_graph(save_model_path + '.meta')\n",
    "        loader.restore(sess, save_model_path)\n",
    "\n",
    "        # Get Tensors from loaded model\n",
    "        loaded_x = loaded_graph.get_tensor_by_name('x:0')\n",
    "        loaded_y = loaded_graph.get_tensor_by_name('y:0')\n",
    "        loaded_keep_prob = loaded_graph.get_tensor_by_name('keep_prob:0')\n",
    "        loaded_logits = loaded_graph.get_tensor_by_name('logits:0')\n",
    "        loaded_acc = loaded_graph.get_tensor_by_name('accuracy:0')\n",
    "        \n",
    "        # Get accuracy in batches for memory limitations\n",
    "        test_batch_acc_total = 0\n",
    "        test_batch_count = 0\n",
    "        \n",
    "        for train_feature_batch, train_label_batch in helper.batch_features_labels(test_features, test_labels, batch_size):\n",
    "            test_batch_acc_total += sess.run(\n",
    "                loaded_acc,\n",
    "                feed_dict={loaded_x: train_feature_batch, loaded_y: train_label_batch, loaded_keep_prob: 1.0})\n",
    "            test_batch_count += 1\n",
    "\n",
    "        print('Testing Accuracy: {}\\n'.format(test_batch_acc_total/test_batch_count))\n",
    "\n",
    "        # Print Random Samples\n",
    "        random_test_features, random_test_labels = tuple(zip(*random.sample(list(zip(test_features, test_labels)), n_samples)))\n",
    "        random_test_predictions = sess.run(\n",
    "            tf.nn.top_k(tf.nn.softmax(loaded_logits), top_n_predictions),\n",
    "            feed_dict={loaded_x: random_test_features, loaded_y: random_test_labels, loaded_keep_prob: 1.0})\n",
    "        helper.display_image_predictions(random_test_features, random_test_labels, random_test_predictions)\n",
    "\n",
    "\n",
    "test_model()"
   ]
  },
  {
   "cell_type": "markdown",
   "metadata": {
    "deletable": true,
    "editable": true
   },
   "source": [
    "## Why 50-70% Accuracy?\n",
    "You might be wondering why you can't get an accuracy any higher. First things first, 50% isn't bad for a simple CNN.  Pure guessing would get you 10% accuracy. However, you might notice people are getting scores [well above 70%](http://rodrigob.github.io/are_we_there_yet/build/classification_datasets_results.html#43494641522d3130).  That's because we haven't taught you all there is to know about neural networks. We still need to cover a few more techniques.\n",
    "## Submitting This Project\n",
    "When submitting this project, make sure to run all the cells before saving the notebook.  Save the notebook file as \"dlnd_image_classification.ipynb\" and save it as a HTML file under \"File\" -> \"Download as\".  Include the \"helper.py\" and \"problem_unittests.py\" files in your submission."
   ]
  }
 ],
 "metadata": {
  "kernelspec": {
   "display_name": "Python 3",
   "language": "python",
   "name": "python3"
  },
  "language_info": {
   "codemirror_mode": {
    "name": "ipython",
    "version": 3
   },
   "file_extension": ".py",
   "mimetype": "text/x-python",
   "name": "python",
   "nbconvert_exporter": "python",
   "pygments_lexer": "ipython3",
   "version": "3.5.2"
  },
  "widgets": {
   "state": {},
   "version": "1.1.2"
  }
 },
 "nbformat": 4,
 "nbformat_minor": 0
}
