{
 "cells": [
  {
   "cell_type": "markdown",
   "metadata": {},
   "source": [
    "# Sentiment Analysis with an RNN\n",
    "\n",
    "In this notebook, you'll implement a recurrent neural network that performs sentiment analysis. Using an RNN rather than a feedfoward network is more accurate since we can include information about the *sequence* of words. Here we'll use a dataset of movie reviews, accompanied by labels.\n",
    "\n",
    "The architecture for this network is shown below.\n",
    "\n",
    "<img src=\"assets/network_diagram.png\" width=400px>\n",
    "\n",
    "Here, we'll pass in words to an embedding layer. We need an embedding layer because we have tens of thousands of words, so we'll need a more efficient representation for our input data than one-hot encoded vectors. You should have seen this before from the word2vec lesson. You can actually train up an embedding with word2vec and use it here. But it's good enough to just have an embedding layer and let the network learn the embedding table on it's own.\n",
    "\n",
    "From the embedding layer, the new representations will be passed to LSTM cells. These will add recurrent connections to the network so we can include information about the sequence of words in the data. Finally, the LSTM cells will go to a sigmoid output layer here. We're using the sigmoid because we're trying to predict if this text has positive or negative sentiment. The output layer will just be a single unit then, with a sigmoid activation function.\n",
    "\n",
    "We don't care about the sigmoid outputs except for the very last one, we can ignore the rest. We'll calculate the cost from the output of the last step and the training label."
   ]
  },
  {
   "cell_type": "code",
   "execution_count": 1,
   "metadata": {
    "collapsed": true
   },
   "outputs": [],
   "source": [
    "import numpy as np\n",
    "import tensorflow as tf"
   ]
  },
  {
   "cell_type": "code",
   "execution_count": 2,
   "metadata": {
    "collapsed": true
   },
   "outputs": [],
   "source": [
    "with open('./data/reviews.txt', 'r') as f:\n",
    "    reviews = f.read()\n",
    "with open('./data/labels.txt', 'r') as f:\n",
    "    labels = f.read()"
   ]
  },
  {
   "cell_type": "code",
   "execution_count": 3,
   "metadata": {},
   "outputs": [
    {
     "data": {
      "text/plain": [
       "'bromwell high is a cartoon comedy . it ran at the same time as some other programs about school life  such as  teachers  . my   years in the teaching profession lead me to believe that bromwell high  s satire is much closer to reality than is  teachers  . the scramble to survive financially  the insightful students who can see right through their pathetic teachers  pomp  the pettiness of the whole situation  all remind me of the schools i knew and their students . when i saw the episode in which a student repeatedly tried to burn down the school  i immediately recalled . . . . . . . . . at . . . . . . . . . . high . a classic line inspector i  m here to sack one of your teachers . student welcome to bromwell high . i expect that many adults of my age think that bromwell high is far fetched . what a pity that it isn  t   \\nstory of a man who has unnatural feelings for a pig . starts out with a opening scene that is a terrific example of absurd comedy . a formal orchestra audience is turned into an insane  violent mob by the crazy chantings of it  s singers . unfortunately it stays absurd the whole time with no general narrative eventually making it just too off putting . even those from the era should be turned off . the cryptic dialogue would make shakespeare seem easy to a third grader . on a technical level it  s better than you might think with some good cinematography by future great vilmos zsigmond . future stars sally kirkland and frederic forrest can be seen briefly .  \\nhomelessness  or houselessness as george carlin stated  has been an issue for years but never a plan to help those on the street that were once considered human who did everything from going to school  work  or vote for the matter . most people think of the homeless as just a lost cause while worrying about things such as racism  the war on iraq  pressuring kids to succeed  technology  the elections  inflation  or worrying if they  ll be next to end up on the streets .  br    br   but what if y'"
      ]
     },
     "execution_count": 3,
     "metadata": {},
     "output_type": "execute_result"
    }
   ],
   "source": [
    "reviews[:2000]"
   ]
  },
  {
   "cell_type": "markdown",
   "metadata": {},
   "source": [
    "## Data preprocessing\n",
    "\n",
    "The first step when building a neural network model is getting your data into the proper form to feed into the network. Since we're using embedding layers, we'll need to encode each word with an integer. We'll also want to clean it up a bit.\n",
    "\n",
    "You can see an example of the reviews data above. We'll want to get rid of those periods. Also, you might notice that the reviews are delimited with newlines `\\n`. To deal with those, I'm going to split the text into each review using `\\n` as the delimiter. Then I can combined all the reviews back together into one big string.\n",
    "\n",
    "First, let's remove all punctuation. Then get all the text without the newlines and split it into individual words."
   ]
  },
  {
   "cell_type": "code",
   "execution_count": 4,
   "metadata": {},
   "outputs": [
    {
     "name": "stdout",
     "output_type": "stream",
     "text": [
      "!\"#$%&'()*+,-./:;<=>?@[\\]^_`{|}~\n"
     ]
    }
   ],
   "source": [
    "from string import punctuation\n",
    "print(punctuation)"
   ]
  },
  {
   "cell_type": "code",
   "execution_count": 5,
   "metadata": {
    "collapsed": true
   },
   "outputs": [],
   "source": [
    "# A list of contractions from http://stackoverflow.com/questions/19790188/expanding-english-language-contractions-in-python\n",
    "contractions = { \n",
    "\"ain't\": \"am not\",\n",
    "\"aren't\": \"are not\",\n",
    "\"can't\": \"cannot\",\n",
    "\"can't've\": \"cannot have\",\n",
    "\"'cause\": \"because\",\n",
    "\"could've\": \"could have\",\n",
    "\"couldn't\": \"could not\",\n",
    "\"couldn't've\": \"could not have\",\n",
    "\"didn't\": \"did not\",\n",
    "\"doesn't\": \"does not\",\n",
    "\"don't\": \"do not\",\n",
    "\"hadn't\": \"had not\",\n",
    "\"hadn't've\": \"had not have\",\n",
    "\"hasn't\": \"has not\",\n",
    "\"haven't\": \"have not\",\n",
    "\"he'd\": \"he would\",\n",
    "\"he'd've\": \"he would have\",\n",
    "\"he'll\": \"he will\",\n",
    "\"he's\": \"he is\",\n",
    "\"how'd\": \"how did\",\n",
    "\"how'll\": \"how will\",\n",
    "\"how's\": \"how is\",\n",
    "\"i'd\": \"i would\",\n",
    "\"i'll\": \"i will\",\n",
    "\"i'm\": \"i am\",\n",
    "\"i've\": \"i have\",\n",
    "\"isn't\": \"is not\",\n",
    "\"it'd\": \"it would\",\n",
    "\"it'll\": \"it will\",\n",
    "\"it's\": \"it is\",\n",
    "\"let's\": \"let us\",\n",
    "\"ma'am\": \"madam\",\n",
    "\"mayn't\": \"may not\",\n",
    "\"might've\": \"might have\",\n",
    "\"mightn't\": \"might not\",\n",
    "\"must've\": \"must have\",\n",
    "\"mustn't\": \"must not\",\n",
    "\"needn't\": \"need not\",\n",
    "\"oughtn't\": \"ought not\",\n",
    "\"shan't\": \"shall not\",\n",
    "\"sha'n't\": \"shall not\",\n",
    "\"she'd\": \"she would\",\n",
    "\"she'll\": \"she will\",\n",
    "\"she's\": \"she is\",\n",
    "\"should've\": \"should have\",\n",
    "\"shouldn't\": \"should not\",\n",
    "\"that'd\": \"that would\",\n",
    "\"that's\": \"that is\",\n",
    "\"there'd\": \"there had\",\n",
    "\"there's\": \"there is\",\n",
    "\"they'd\": \"they would\",\n",
    "\"they'll\": \"they will\",\n",
    "\"they're\": \"they are\",\n",
    "\"they've\": \"they have\",\n",
    "\"wasn't\": \"was not\",\n",
    "\"we'd\": \"we would\",\n",
    "\"we'll\": \"we will\",\n",
    "\"we're\": \"we are\",\n",
    "\"we've\": \"we have\",\n",
    "\"weren't\": \"were not\",\n",
    "\"what'll\": \"what will\",\n",
    "\"what're\": \"what are\",\n",
    "\"what's\": \"what is\",\n",
    "\"what've\": \"what have\",\n",
    "\"where'd\": \"where did\",\n",
    "\"where's\": \"where is\",\n",
    "\"who'll\": \"who will\",\n",
    "\"who's\": \"who is\",\n",
    "\"won't\": \"will not\",\n",
    "\"wouldn't\": \"would not\",\n",
    "\"you'd\": \"you would\",\n",
    "\"you'll\": \"you will\",\n",
    "\"you're\": \"you are\"\n",
    "}"
   ]
  },
  {
   "cell_type": "markdown",
   "metadata": {},
   "source": [
    "### Removing stop words\n",
    "\n",
    "Note on downloading nltk corpus:\n",
    "\n",
    "nltk is installed in the anaconda version of python but not the default python.  So first activate root environment.\n",
    "```\n",
    "source activate root\n",
    "```\n",
    "\n",
    "Create folder nltk_data in the home directory.  Then run this on command line to download the corpus\n",
    "\n",
    "```\n",
    "python -m nltk.downloader all\n",
    "```\n",
    "So now I should be able to download stopwords"
   ]
  },
  {
   "cell_type": "code",
   "execution_count": 6,
   "metadata": {
    "collapsed": true
   },
   "outputs": [],
   "source": [
    "from nltk.corpus import stopwords\n",
    "stopWords = stopwords.words(\"english\")"
   ]
  },
  {
   "cell_type": "code",
   "execution_count": 7,
   "metadata": {},
   "outputs": [
    {
     "data": {
      "text/plain": [
       "153"
      ]
     },
     "execution_count": 7,
     "metadata": {},
     "output_type": "execute_result"
    }
   ],
   "source": [
    "len(stopWords)"
   ]
  },
  {
   "cell_type": "code",
   "execution_count": 8,
   "metadata": {
    "collapsed": true
   },
   "outputs": [],
   "source": [
    "'''\n",
    "for all characters in text, add to list if not in punctuation.  Join with empty string to convert list to string\n",
    "\n",
    "get a list of reviews by splitting on newline.\n",
    "Combine all reviews into one string using join on empty space.\n",
    "\n",
    "Get a list of all words by splitting on all text\n",
    "'''\n",
    "\n",
    "'''\n",
    "This runs through the data twice. Better to walk thru it once.\n",
    "#all_text = ''.join([c for c in reviews if c not in punctuation])\n",
    "#all_text = ' '.join([word for word in reviews.split() if word not in stopWords])\n",
    "'''\n",
    "     \n",
    "#all_text = ' '.join([''.join(c for c in word if c not in punctuation) for word in reviews.split() if word not in stopWords])\n",
    "all_text = ' '.join([ contractions[word] if word in contractions else word for word in reviews.split('[ \\t]+') if word not in stopWords])\n",
    "all_text = ''.join([c for c in all_text if c not in punctuation])"
   ]
  },
  {
   "cell_type": "code",
   "execution_count": 9,
   "metadata": {
    "collapsed": true
   },
   "outputs": [],
   "source": [
    "reviews = all_text.split('\\n')\n",
    "all_text = ' '.join(reviews)\n",
    "words = all_text.split()"
   ]
  },
  {
   "cell_type": "code",
   "execution_count": 10,
   "metadata": {},
   "outputs": [
    {
     "data": {
      "text/plain": [
       "33351075"
      ]
     },
     "execution_count": 10,
     "metadata": {},
     "output_type": "execute_result"
    }
   ],
   "source": [
    "len(all_text)"
   ]
  },
  {
   "cell_type": "code",
   "execution_count": 11,
   "metadata": {},
   "outputs": [
    {
     "data": {
      "text/plain": [
       "25001"
      ]
     },
     "execution_count": 11,
     "metadata": {},
     "output_type": "execute_result"
    }
   ],
   "source": [
    "'''\n",
    "There are 33,678,267 reviews\n",
    "'''\n",
    "len(reviews)"
   ]
  },
  {
   "cell_type": "code",
   "execution_count": 12,
   "metadata": {},
   "outputs": [
    {
     "data": {
      "text/plain": [
       "['bromwell', 'high', 'is', 'a', 'cartoon', 'comedy', 'it', 'ran', 'at', 'the']"
      ]
     },
     "execution_count": 12,
     "metadata": {},
     "output_type": "execute_result"
    }
   ],
   "source": [
    "words[:10]"
   ]
  },
  {
   "cell_type": "markdown",
   "metadata": {},
   "source": [
    "### Encoding the words\n",
    "\n",
    "The embedding lookup requires that we pass in integers to our network. The easiest way to do this is to create dictionaries that map the words in the vocabulary to integers. Then we can convert each of our reviews into integers so they can be passed into the network.\n",
    "\n",
    "> **Exercise:** Now you're going to encode the words with integers. Build a dictionary that maps words to integers. Later we're going to pad our input vectors with zeros, so make sure the integers **start at 1, not 0**.\n",
    "> Also, convert the reviews to integers and store the reviews in a new list called `reviews_ints`. "
   ]
  },
  {
   "cell_type": "code",
   "execution_count": 13,
   "metadata": {
    "collapsed": true
   },
   "outputs": [],
   "source": [
    "# Create your dictionary that maps vocab words to integers here\n",
    "from collections import Counter\n",
    "counts = Counter(words) #dictionary where words are keys, counts are values"
   ]
  },
  {
   "cell_type": "code",
   "execution_count": 14,
   "metadata": {
    "collapsed": true
   },
   "outputs": [],
   "source": [
    "vocab_sorted = sorted(counts, key=counts.get, reverse=True) #list with most common words first"
   ]
  },
  {
   "cell_type": "code",
   "execution_count": 15,
   "metadata": {
    "collapsed": true
   },
   "outputs": [],
   "source": [
    "vocab_to_int = { word: ii for ii, word in enumerate(vocab_sorted, start=1)}"
   ]
  },
  {
   "cell_type": "code",
   "execution_count": 16,
   "metadata": {
    "collapsed": true
   },
   "outputs": [],
   "source": [
    "int_to_vocab = { ii: word for ii, word in enumerate(vocab_sorted, start=1)}"
   ]
  },
  {
   "cell_type": "code",
   "execution_count": 17,
   "metadata": {
    "collapsed": true
   },
   "outputs": [],
   "source": [
    "# Convert the reviews to integers, same shape as reviews list, but with integers\n",
    "'''\n",
    "If sep is not specified or is None, a different splitting algorithm is applied: \n",
    "runs of consecutive whitespace are regarded as a single separator, \n",
    "and the result will contain no empty strings at the start or end if \n",
    "the string has leading or trailing whitespace. \n",
    "Consequently, splitting an empty string or a string consisting of \n",
    "just whitespace with a None separator returns [].\n",
    "'''\n",
    "reviews_ints = []\n",
    "for review in reviews:\n",
    "    reviews_ints.append([vocab_to_int[word] for word in review.split()])"
   ]
  },
  {
   "cell_type": "markdown",
   "metadata": {},
   "source": [
    "### Encoding the labels\n",
    "\n",
    "Our labels are \"positive\" or \"negative\". To use these labels in our network, we need to convert them to 0 and 1.\n",
    "\n",
    "> **Exercise:** Convert labels from `positive` and `negative` to 1 and 0, respectively."
   ]
  },
  {
   "cell_type": "code",
   "execution_count": 18,
   "metadata": {
    "collapsed": true
   },
   "outputs": [],
   "source": [
    "# Convert labels to 1s and 0s for 'positive' and 'negative'\n",
    "labels_str = labels\n",
    "\n",
    "labels_l = labels_str.split('\\n')\n",
    "\n",
    "labels = [1 if label == 'positive' else 0 for label in labels_str.split('\\n')]\n",
    "    "
   ]
  },
  {
   "cell_type": "code",
   "execution_count": 19,
   "metadata": {},
   "outputs": [
    {
     "data": {
      "text/plain": [
       "['positive', 'negative', 'positive', 'negative']"
      ]
     },
     "execution_count": 19,
     "metadata": {},
     "output_type": "execute_result"
    }
   ],
   "source": [
    "labels_str.split('\\n')[0:4]"
   ]
  },
  {
   "cell_type": "code",
   "execution_count": 20,
   "metadata": {},
   "outputs": [
    {
     "data": {
      "text/plain": [
       "[1, 0, 1, 0]"
      ]
     },
     "execution_count": 20,
     "metadata": {},
     "output_type": "execute_result"
    }
   ],
   "source": [
    "labels[0:4]"
   ]
  },
  {
   "cell_type": "markdown",
   "metadata": {},
   "source": [
    "If you built `labels` correctly, you should see the next output."
   ]
  },
  {
   "cell_type": "code",
   "execution_count": 21,
   "metadata": {},
   "outputs": [
    {
     "name": "stdout",
     "output_type": "stream",
     "text": [
      "Zero-length reviews: 1\n",
      "Maximum review length: 2514\n"
     ]
    }
   ],
   "source": [
    "from collections import Counter\n",
    "review_lens = Counter([len(x) for x in reviews_ints])\n",
    "print(\"Zero-length reviews: {}\".format(review_lens[0]))\n",
    "print(\"Maximum review length: {}\".format(max(review_lens)))"
   ]
  },
  {
   "cell_type": "code",
   "execution_count": 22,
   "metadata": {},
   "outputs": [
    {
     "data": {
      "text/plain": [
       "1"
      ]
     },
     "execution_count": 22,
     "metadata": {},
     "output_type": "execute_result"
    }
   ],
   "source": [
    "review_lens[0]"
   ]
  },
  {
   "cell_type": "markdown",
   "metadata": {},
   "source": [
    "Okay, a couple issues here. We seem to have one review with zero length. And, the maximum review length is way too many steps for our RNN. Let's truncate to 200 steps. For reviews shorter than 200, we'll pad with 0s. For reviews longer than 200, we can truncate them to the first 200 characters.\n",
    "\n",
    "> **Exercise:** First, remove the review with zero length from the `reviews_ints` list."
   ]
  },
  {
   "cell_type": "code",
   "execution_count": 23,
   "metadata": {
    "collapsed": true
   },
   "outputs": [],
   "source": [
    "# Filter out that review with 0 length\n",
    "'''\n",
    "I need to remove any labels at the same position for any features (reviews) removed.\n",
    "So I need the indices where reviews are zero length\n",
    "'''\n",
    "zero_idx = [ii for ii, review in enumerate(reviews_ints) if len(review) == 0 ]"
   ]
  },
  {
   "cell_type": "code",
   "execution_count": 24,
   "metadata": {},
   "outputs": [
    {
     "data": {
      "text/plain": [
       "[25000]"
      ]
     },
     "execution_count": 24,
     "metadata": {},
     "output_type": "execute_result"
    }
   ],
   "source": [
    "zero_idx"
   ]
  },
  {
   "cell_type": "code",
   "execution_count": 25,
   "metadata": {
    "collapsed": true
   },
   "outputs": [],
   "source": [
    "reviews_ints = [review for ii, review in enumerate(reviews_ints) if ii not in zero_idx]"
   ]
  },
  {
   "cell_type": "code",
   "execution_count": 26,
   "metadata": {},
   "outputs": [
    {
     "data": {
      "text/plain": [
       "25000"
      ]
     },
     "execution_count": 26,
     "metadata": {},
     "output_type": "execute_result"
    }
   ],
   "source": [
    "len(reviews_ints)"
   ]
  },
  {
   "cell_type": "code",
   "execution_count": 27,
   "metadata": {
    "collapsed": true
   },
   "outputs": [],
   "source": [
    "labels = np.array( [label for ii, label in enumerate(labels) if ii not in zero_idx ])"
   ]
  },
  {
   "cell_type": "code",
   "execution_count": 28,
   "metadata": {
    "collapsed": true
   },
   "outputs": [],
   "source": [
    "labels = np.array(labels)"
   ]
  },
  {
   "cell_type": "code",
   "execution_count": 29,
   "metadata": {},
   "outputs": [
    {
     "data": {
      "text/plain": [
       "25000"
      ]
     },
     "execution_count": 29,
     "metadata": {},
     "output_type": "execute_result"
    }
   ],
   "source": [
    "len(labels)"
   ]
  },
  {
   "cell_type": "code",
   "execution_count": 88,
   "metadata": {},
   "outputs": [
    {
     "data": {
      "text/plain": [
       "(25000,)"
      ]
     },
     "execution_count": 88,
     "metadata": {},
     "output_type": "execute_result"
    }
   ],
   "source": [
    "labels.shape"
   ]
  },
  {
   "cell_type": "markdown",
   "metadata": {},
   "source": [
    "> **Exercise:** Now, create an array `features` that contains the data we'll pass to the network. The data should come from `review_ints`, since we want to feed integers to the network. Each row should be 200 elements long. For reviews shorter than 200 words, left pad with 0s. That is, if the review is `['best', 'movie', 'ever']`, `[117, 18, 128]` as integers, the row will look like `[0, 0, 0, ..., 0, 117, 18, 128]`. For reviews longer than 200, use on the first 200 words as the feature vector.\n",
    "\n",
    "This isn't trivial and there are a bunch of ways to do this. But, if you're going to be building your own deep learning networks, you're going to have to get used to preparing your data.\n",
    "\n"
   ]
  },
  {
   "cell_type": "code",
   "execution_count": 30,
   "metadata": {
    "collapsed": true
   },
   "outputs": [],
   "source": [
    "seq_len = 10\n",
    "tmp_review = [1,2,3] #len(review) is 3\n",
    "zero_pad = [0] * (seq_len - len(tmp_review))\n",
    "zero_pad.extend(tmp_review)"
   ]
  },
  {
   "cell_type": "code",
   "execution_count": 31,
   "metadata": {},
   "outputs": [
    {
     "data": {
      "text/plain": [
       "[0, 0, 0, 0, 0, 0, 0, 1, 2, 3]"
      ]
     },
     "execution_count": 31,
     "metadata": {},
     "output_type": "execute_result"
    }
   ],
   "source": [
    "zero_pad"
   ]
  },
  {
   "cell_type": "code",
   "execution_count": 32,
   "metadata": {},
   "outputs": [
    {
     "data": {
      "text/plain": [
       "10"
      ]
     },
     "execution_count": 32,
     "metadata": {},
     "output_type": "execute_result"
    }
   ],
   "source": [
    "len(zero_pad)"
   ]
  },
  {
   "cell_type": "code",
   "execution_count": 33,
   "metadata": {
    "collapsed": true
   },
   "outputs": [],
   "source": [
    "seq_len = 200\n",
    "features = []\n",
    "for review in reviews_ints:\n",
    "    if len(review) >= seq_len:\n",
    "        #print(\"review >= \", str(seq_len))\n",
    "        features.append(review[0:seq_len])\n",
    "    else:\n",
    "        #print(\"review len \", str(len(review)), \" < \", str(seq_len))\n",
    "        zero_pad = [0] * (seq_len - len(review))\n",
    "        padded = zero_pad + review\n",
    "        #print(padded)\n",
    "        features.append(padded)"
   ]
  },
  {
   "cell_type": "code",
   "execution_count": 34,
   "metadata": {},
   "outputs": [
    {
     "data": {
      "text/plain": [
       "200"
      ]
     },
     "execution_count": 34,
     "metadata": {},
     "output_type": "execute_result"
    }
   ],
   "source": [
    "len(features[0])"
   ]
  },
  {
   "cell_type": "code",
   "execution_count": 35,
   "metadata": {
    "collapsed": true
   },
   "outputs": [],
   "source": [
    "features = np.array(features)"
   ]
  },
  {
   "cell_type": "code",
   "execution_count": 36,
   "metadata": {},
   "outputs": [
    {
     "data": {
      "text/plain": [
       "array([[    0,     0,     0,     0,     0,     0,     0,     0,     0,\n",
       "            0,     0,     0,     0,     0,     0,     0,     0,     0,\n",
       "            0,     0,     0,     0,     0,     0,     0,     0,     0,\n",
       "            0,     0,     0,     0,     0,     0,     0,     0,     0,\n",
       "            0,     0,     0,     0,     0,     0,     0,     0,     0,\n",
       "            0,     0,     0,     0,     0,     0,     0,     0,     0,\n",
       "            0,     0,     0,     0,     0,     0, 21844,   308,     6,\n",
       "            3,  1050,   207,     8,  2142,    32,     1,   171,    57,\n",
       "           15,    49,    81,  5791,    44,   382,   110,   140,    15,\n",
       "         5215,    60,   154,     9,     1,  5017,  5855,   475,    71,\n",
       "            5,   260,    12, 21844,   308,    13,  1978,     6,    74,\n",
       "         2406],\n",
       "       [    0,     0,     0,     0,     0,     0,     0,     0,     0,\n",
       "            0,     0,     0,     0,     0,     0,     0,     0,     0,\n",
       "            0,     0,     0,     0,     0,     0,     0,     0,     0,\n",
       "            0,     0,     0,     0,     0,     0,     0,     0,     0,\n",
       "            0,     0,     0,     0,     0,     0,     0,     0,     0,\n",
       "            0,     0,     0,     0,     0,     0,     0,     0,     0,\n",
       "            0,     0,     0,     0,     0,     0,     0,     0,     0,\n",
       "            0,     0,     0,     0,     0,     0,     0,     0,     0,\n",
       "            0,     0,     0,     0,     0,     0,     0,     0,     0,\n",
       "            0,     0,     0,     0,     0,    63,     4,     3,   125,\n",
       "           36,    47,  7528,  1397,    16,     3,  4213,   505,    45,\n",
       "           17],\n",
       "       [23667,    42, 63523,    15,   707, 17617,  3393,    47,    77,\n",
       "           35,  1821,    16,   154,    19,   114,     3,  1308,     5,\n",
       "          336,   147,    22,     1,   857,    12,    70,   281,  1168,\n",
       "          399,    36,   120,   283,    38,   169,     5,   382,   158,\n",
       "           42,  2272,    16,     1,   541,    90,    78,   102,     4,\n",
       "            1,  3253,    15,    43,     3,   407,  1069,   136,  8135,\n",
       "           44,   182,   140,    15,  3049,     1,   320,    22,  4851,\n",
       "        28515,   346,     5,  3095,  2094,     1, 19029, 18575,    42,\n",
       "         8135,    46,    33,   236,    29,   370,     5,   130,    56,\n",
       "           22,     1,  1928,     7,     7,    19,    48,    46,    21,\n",
       "           70,   345,     3,  2103,     5,   408,    22,     1,  1928,\n",
       "           16],\n",
       "       [ 4511,   505,    15,     3,  3352,   162,  8418,  1655,     6,\n",
       "         4852,    56,    17,  4520,  5653,   140, 11857,     5,   996,\n",
       "         4944,  2944,  4480,   566,  1201,    36,     6,  1521,    96,\n",
       "            3,   744,     4, 28207,    13,     5,    27,  3466,     9,\n",
       "        10801,     4,     8,   111,  3019,     5,     1,  1027,    15,\n",
       "            3,  4418,    82,    22,  2054,     6,  4480,   538,  2773,\n",
       "         7128, 38690,    41,   463,     1,  8418, 65502,   302,   123,\n",
       "           15,  4240,    19,  1670,   922,     1,  1655,     6,  6150,\n",
       "        20035,    34,     1,   980,  1753, 22765,   646, 24992,    27,\n",
       "          106, 12001,    13, 14463, 15145, 18523,  2459,   466, 21854,\n",
       "           36,  3268,     1,  6415,  1020,    45,    17,  2696,  2504,\n",
       "           33],\n",
       "       [    0,     0,     0,     0,     0,     0,     0,     0,     0,\n",
       "            0,     0,     0,     0,     0,     0,     0,     0,     0,\n",
       "            0,     0,     0,     0,     0,     0,     0,     0,     0,\n",
       "            0,     0,     0,     0,     0,     0,     0,     0,     0,\n",
       "            0,     0,     0,     0,     0,     0,     0,     0,     0,\n",
       "            0,     0,     0,     0,     0,   520,   119,   113,    34,\n",
       "        16631,  1818,  3752,   117,   885, 22337,   721,    10,    28,\n",
       "          124,   108,     2,   115,   137,     9,  1625,  7770,    26,\n",
       "          330,     5,   590,     1,  6156,    22,   386,     6,     3,\n",
       "          349,    15,    50,    15,   231,     9,  7538, 11444,     1,\n",
       "          191,    22,  9101,     6,    82,   881,   101,   111,  3587,\n",
       "            4],\n",
       "       [    0,     0,     0,     0,     0,     0,     0,     0,     0,\n",
       "            0,     0,     0,     0,     0,     0,     0,     0,     0,\n",
       "            0,     0,     0,     0,     0,     0,     0,     0,     0,\n",
       "            0,     0,     0,     0,     0,     0,     0,     0,     0,\n",
       "            0,     0,     0,     0,     0,     0,     0,     0,     0,\n",
       "            0,     0,     0,     0,     0,     0,     0,     0,     0,\n",
       "           11,    20,  3659,   141,    10,   422,    23,   272,    60,\n",
       "         4361,    22,    32,    84,  3293,    22,     1,   172,     4,\n",
       "            1,   953,   507,    11,  4994,  5395,     5,   574,     4,\n",
       "         1155,    54,    53,  5306,     1,   261,    17,    41,   953,\n",
       "          125,    59,     1,   711,   137,   379,   626,    15,   111,\n",
       "         1509],\n",
       "       [    0,     0,     0,     0,     0,     0,     0,     0,     0,\n",
       "            0,     0,     0,     0,     0,     0,     0,     0,     0,\n",
       "            0,     0,     0,     0,     0,     0,     0,     0,     0,\n",
       "            0,     0,     0,     0,     0,     0,     0,     0,     0,\n",
       "            0,     0,     0,     0,     0,     0,     0,     0,     0,\n",
       "            0,     0,     0,     0,     0,     0,     0,     0,     0,\n",
       "            0,     0,     0,     0,     0,     0,     0,     0,     0,\n",
       "            0,     0,     0,     0,     0,     0,     0,     0,     0,\n",
       "            0,     0,     0,     0,    11,     6,   693,     1,    90,\n",
       "         2158,    20, 11898,     1,  2824,  5227,   249,    92,  3008,\n",
       "            8,   126,    24,   201,     3,   803,   634,     4, 23667,\n",
       "         1002],\n",
       "       [    0,     0,     0,     0,     0,     0,     0,     0,     0,\n",
       "            0,     0,     0,     0,     0,     0,     0,     0,     0,\n",
       "            0,     0,     0,     0,     0,     0,     0,     0,     0,\n",
       "            0,     0,     0,     0,     0,     0,     0,     0,     0,\n",
       "            0,     0,     0,     0,     0,     0,     0,     0,     0,\n",
       "            0,     0,   786,   295,    10,   122,    11,     6,   419,\n",
       "            5,    29,    35,   482,    20,    19,  1283,    33,   142,\n",
       "           28,  2667,    45,  1842,    32,     1,  2790,    37,    78,\n",
       "           97,  2447,    67,  3949,    45,     2,    24,   105,   256,\n",
       "            1,   134,  1574,     2, 12504,   451,    14,   319,    11,\n",
       "           63,     6,    98,  1323,     5,   105,     1,  3767,     4,\n",
       "            3],\n",
       "       [    0,     0,     0,     0,     0,     0,     0,     0,     0,\n",
       "            0,     0,     0,     0,     0,     0,     0,     0,     0,\n",
       "            0,     0,     0,     0,     0,     0,     0,     0,     0,\n",
       "            0,     0,     0,     0,     0,     0,     0,     0,     0,\n",
       "            0,     0,     0,     0,     0,     0,     0,     0,     0,\n",
       "            0,     0,     0,     0,     0,     0,     0,     0,     0,\n",
       "            0,     0,     0,     0,     0,     0,     0,     0,     0,\n",
       "            0,     0,     0,     0,     0,     0,     0,     0,     0,\n",
       "            0,     0,     0,     0,     0,     0,     0,    11,     6,\n",
       "           24,     1,   779,  3689,  2824,    20,     8,    14,    74,\n",
       "          325,  2738,    73,    90,     4,    27,    99,     2,   165,\n",
       "           68],\n",
       "       [   54,    10,    14,   116,    60,   798,   552,    71,   364,\n",
       "            5,     1,   730,     5,    66,  8129,     8,    14,    30,\n",
       "            4,   109,    99,    10,   293,    17,    60,   798,    19,\n",
       "           11,    14,     1,    64,    30,    69,  2500,    45,     4,\n",
       "          234,    93,    10,    68,   114,   108,  8129,   363,    43,\n",
       "         1009,     2,    10,    97,    28,  1431,    45,     1,   357,\n",
       "            4,    60,   110,   205,     8,    48,     3,  1930, 11078,\n",
       "            2,  2129,   354,   412,     4,    13,  6637,     2,  2981,\n",
       "         5148,  2123,  1370,     6,    30,     4,    60,   502,   875,\n",
       "           19,  8129,     6,    34,   227,     1,   247,   412,     4,\n",
       "          582,     4,    27,   599,     9,     1, 13962,   396,     4,\n",
       "        14212]])"
      ]
     },
     "execution_count": 36,
     "metadata": {},
     "output_type": "execute_result"
    }
   ],
   "source": [
    "features[:10,:100]"
   ]
  },
  {
   "cell_type": "markdown",
   "metadata": {},
   "source": [
    "If you build features correctly, it should look like that cell output below."
   ]
  },
  {
   "cell_type": "code",
   "execution_count": 13,
   "metadata": {},
   "outputs": [
    {
     "data": {
      "text/plain": [
       "array([[    0,     0,     0,     0,     0,     0,     0,     0,     0,\n",
       "            0,     0,     0,     0,     0,     0,     0,     0,     0,\n",
       "            0,     0,     0,     0,     0,     0,     0,     0,     0,\n",
       "            0,     0,     0,     0,     0,     0,     0,     0,     0,\n",
       "            0,     0,     0,     0,     0,     0,     0,     0,     0,\n",
       "            0,     0,     0,     0,     0,     0,     0,     0,     0,\n",
       "            0,     0,     0,     0,     0,     0, 21282,   308,     6,\n",
       "            3,  1050,   207,     8,  2143,    32,     1,   171,    57,\n",
       "           15,    49,    81,  5832,    44,   382,   110,   140,    15,\n",
       "         5236,    60,   154,     9,     1,  5014,  5899,   475,    71,\n",
       "            5,   260,    12, 21282,   308,    13,  1981,     6,    74,\n",
       "         2396],\n",
       "       [    0,     0,     0,     0,     0,     0,     0,     0,     0,\n",
       "            0,     0,     0,     0,     0,     0,     0,     0,     0,\n",
       "            0,     0,     0,     0,     0,     0,     0,     0,     0,\n",
       "            0,     0,     0,     0,     0,     0,     0,     0,     0,\n",
       "            0,     0,     0,     0,     0,     0,     0,     0,     0,\n",
       "            0,     0,     0,     0,     0,     0,     0,     0,     0,\n",
       "            0,     0,     0,     0,     0,     0,     0,     0,     0,\n",
       "            0,     0,     0,     0,     0,     0,     0,     0,     0,\n",
       "            0,     0,     0,     0,     0,     0,     0,     0,     0,\n",
       "            0,     0,     0,     0,     0,    63,     4,     3,   125,\n",
       "           36,    47,  7487,  1397,    16,     3,  4212,   505,    45,\n",
       "           17],\n",
       "       [23249,    42, 55982,    15,   707, 17288,  3398,    47,    77,\n",
       "           35,  1822,    16,   154,    19,   114,     3,  1308,     5,\n",
       "          336,   147,    22,     1,   857,    12,    70,   281,  1170,\n",
       "          399,    36,   120,   283,    38,   169,     5,   382,   158,\n",
       "           42,  2278,    16,     1,   541,    90,    78,   102,     4,\n",
       "            1,  3256,    15,    43,     3,   407,  1069,   136,  8165,\n",
       "           44,   182,   140,    15,  3054,     1,   321,    22,  4827,\n",
       "        28571,   346,     5,  3093,  2094,     1, 18970, 18062,    42,\n",
       "         8165,    46,    33,   236,    29,   370,     5,   130,    56,\n",
       "           22,     1,  1928,     7,     7,    19,    48,    46,    21,\n",
       "           70,   345,     3,  2102,     5,   408,    22,     1,  1928,\n",
       "           16],\n",
       "       [ 4504,   505,    15,     3,  3352,   162,  8369,  1655,     6,\n",
       "         4860,    56,    17,  4513,  5629,   140, 11938,     5,   996,\n",
       "         4969,  2947,  4464,   566,  1202,    36,     6,  1520,    96,\n",
       "            3,   744,     4, 28265,    13,     5,    27,  3464,     9,\n",
       "        10794,     4,     8,   111,  3024,     5,     1,  1027,    15,\n",
       "            3,  4400,    82,    22,  2058,     6,  4464,   538,  2773,\n",
       "         7123, 41932,    41,   463,     1,  8369, 62989,   302,   123,\n",
       "           15,  4230,    19,  1671,   923,     1,  1655,     6,  6166,\n",
       "        20692,    34,     1,   980,  1751, 22804,   646, 25292,    27,\n",
       "          106, 11901,    13, 14278, 15496, 18701,  2459,   466, 21189,\n",
       "           36,  3267,     1,  6436,  1020,    45,    17,  2700,  2500,\n",
       "           33],\n",
       "       [    0,     0,     0,     0,     0,     0,     0,     0,     0,\n",
       "            0,     0,     0,     0,     0,     0,     0,     0,     0,\n",
       "            0,     0,     0,     0,     0,     0,     0,     0,     0,\n",
       "            0,     0,     0,     0,     0,     0,     0,     0,     0,\n",
       "            0,     0,     0,     0,     0,     0,     0,     0,     0,\n",
       "            0,     0,     0,     0,     0,   520,   119,   113,    34,\n",
       "        16673,  1817,  3744,   117,   885, 22019,   721,    10,    28,\n",
       "          124,   108,     2,   115,   137,     9,  1626,  7742,    26,\n",
       "          330,     5,   590,     1,  6165,    22,   386,     6,     3,\n",
       "          349,    15,    50,    15,   231,     9,  7484, 11646,     1,\n",
       "          191,    22,  8994,     6,    82,   881,   101,   111,  3590,\n",
       "            4],\n",
       "       [    0,     0,     0,     0,     0,     0,     0,     0,     0,\n",
       "            0,     0,     0,     0,     0,     0,     0,     0,     0,\n",
       "            0,     0,     0,     0,     0,     0,     0,     0,     0,\n",
       "            0,     0,     0,     0,     0,     0,     0,     0,     0,\n",
       "            0,     0,     0,     0,     0,     0,     0,     0,     0,\n",
       "            0,     0,     0,     0,     0,     0,     0,     0,     0,\n",
       "           11,    20,  3662,   141,    10,   423,    23,   272,    60,\n",
       "         4362,    22,    32,    84,  3305,    22,     1,   172,     4,\n",
       "            1,   952,   507,    11,  4996,  5387,     5,   574,     4,\n",
       "         1154,    54,    53,  5328,     1,   261,    17,    41,   952,\n",
       "          125,    59,     1,   712,   137,   379,   627,    15,   111,\n",
       "         1511],\n",
       "       [    0,     0,     0,     0,     0,     0,     0,     0,     0,\n",
       "            0,     0,     0,     0,     0,     0,     0,     0,     0,\n",
       "            0,     0,     0,     0,     0,     0,     0,     0,     0,\n",
       "            0,     0,     0,     0,     0,     0,     0,     0,     0,\n",
       "            0,     0,     0,     0,     0,     0,     0,     0,     0,\n",
       "            0,     0,     0,     0,     0,     0,     0,     0,     0,\n",
       "            0,     0,     0,     0,     0,     0,     0,     0,     0,\n",
       "            0,     0,     0,     0,     0,     0,     0,     0,     0,\n",
       "            0,     0,     0,     0,    11,     6,   692,     1,    90,\n",
       "         2158,    20, 11793,     1,  2818,  5218,   249,    92,  3007,\n",
       "            8,   126,    24,   201,     3,   803,   634,     4, 23249,\n",
       "         1002],\n",
       "       [    0,     0,     0,     0,     0,     0,     0,     0,     0,\n",
       "            0,     0,     0,     0,     0,     0,     0,     0,     0,\n",
       "            0,     0,     0,     0,     0,     0,     0,     0,     0,\n",
       "            0,     0,     0,     0,     0,     0,     0,     0,     0,\n",
       "            0,     0,     0,     0,     0,     0,     0,     0,     0,\n",
       "            0,     0,   786,   295,    10,   122,    11,     6,   418,\n",
       "            5,    29,    35,   482,    20,    19,  1285,    33,   142,\n",
       "           28,  2667,    45,  1844,    32,     1,  2790,    37,    78,\n",
       "           97,  2439,    67,  3952,    45,     2,    24,   105,   256,\n",
       "            1,   134,  1572,     2, 12612,   452,    14,   319,    11,\n",
       "           63,     6,    98,  1322,     5,   105,     1,  3766,     4,\n",
       "            3],\n",
       "       [    0,     0,     0,     0,     0,     0,     0,     0,     0,\n",
       "            0,     0,     0,     0,     0,     0,     0,     0,     0,\n",
       "            0,     0,     0,     0,     0,     0,     0,     0,     0,\n",
       "            0,     0,     0,     0,     0,     0,     0,     0,     0,\n",
       "            0,     0,     0,     0,     0,     0,     0,     0,     0,\n",
       "            0,     0,     0,     0,     0,     0,     0,     0,     0,\n",
       "            0,     0,     0,     0,     0,     0,     0,     0,     0,\n",
       "            0,     0,     0,     0,     0,     0,     0,     0,     0,\n",
       "            0,     0,     0,     0,     0,     0,     0,    11,     6,\n",
       "           24,     1,   779,  3708,  2818,    20,     8,    14,    74,\n",
       "          325,  2739,    73,    90,     4,    27,    99,     2,   165,\n",
       "           68],\n",
       "       [   54,    10,    14,   116,    60,   798,   552,    71,   364,\n",
       "            5,     1,   731,     5,    66,  8089,     8,    14,    30,\n",
       "            4,   109,    99,    10,   293,    17,    60,   798,    19,\n",
       "           11,    14,     1,    64,    30,    69,  2506,    45,     4,\n",
       "          234,    93,    10,    68,   114,   108,  8089,   363,    43,\n",
       "         1009,     2,    10,    97,    28,  1431,    45,     1,   357,\n",
       "            4,    60,   110,   205,     8,    48,     3,  1929, 11029,\n",
       "            2,  2127,   354,   412,     4,    13,  6676,     2,  2975,\n",
       "         5174,  2125,  1371,     6,    30,     4,    60,   502,   876,\n",
       "           19,  8089,     6,    34,   227,     1,   247,   412,     4,\n",
       "          582,     4,    27,   599,     9,     1, 13829,   395,     4,\n",
       "        14175]])"
      ]
     },
     "execution_count": 13,
     "metadata": {},
     "output_type": "execute_result"
    }
   ],
   "source": [
    "features[:10,:100]"
   ]
  },
  {
   "cell_type": "markdown",
   "metadata": {},
   "source": [
    "## Training, Validation, Test\n",
    "\n"
   ]
  },
  {
   "cell_type": "markdown",
   "metadata": {},
   "source": [
    "With our data in nice shape, we'll split it into training, validation, and test sets.\n",
    "\n",
    "> **Exercise:** Create the training, validation, and test sets here. You'll need to create sets for the features and the labels, `train_x` and `train_y` for example. Define a split fraction, `split_frac` as the fraction of data to keep in the training set. Usually this is set to 0.8 or 0.9. The rest of the data will be split in half to create the validation and testing data."
   ]
  },
  {
   "cell_type": "code",
   "execution_count": 37,
   "metadata": {},
   "outputs": [
    {
     "name": "stdout",
     "output_type": "stream",
     "text": [
      "\t\t\tFeature Shapes:\n",
      "('Train set: \\t\\t(20000, 200)', '\\nValidation set: \\t(2500, 200)', '\\nTest set: \\t\\t(2500, 200)')\n"
     ]
    }
   ],
   "source": [
    "from sklearn.model_selection import train_test_split\n",
    "split_frac = 0.8\n",
    "\n",
    "train_x, val_x, train_y, val_y = train_test_split(features, labels, test_size=0.2, random_state=0)\n",
    "\n",
    "idx_half = len(val_y)//2\n",
    "\n",
    "val_x, test_x = val_x[0:idx_half], val_x[idx_half:]\n",
    "val_y, test_y = val_y[0:idx_half], val_y[idx_half:]\n",
    "\n",
    "print(\"\\t\\t\\tFeature Shapes:\")\n",
    "print(\"Train set: \\t\\t{}\".format(train_x.shape), \n",
    "      \"\\nValidation set: \\t{}\".format(val_x.shape),\n",
    "      \"\\nTest set: \\t\\t{}\".format(test_x.shape))"
   ]
  },
  {
   "cell_type": "markdown",
   "metadata": {},
   "source": [
    "With train, validation, and text fractions of 0.8, 0.1, 0.1, the final shapes should look like:\n",
    "```\n",
    "                    Feature Shapes:\n",
    "Train set: \t\t (20000, 200) \n",
    "Validation set: \t(2500, 200) \n",
    "Test set: \t\t  (2500, 200)\n",
    "```"
   ]
  },
  {
   "cell_type": "markdown",
   "metadata": {},
   "source": [
    "## Build the graph\n",
    "\n",
    "Here, we'll build the graph. First up, defining the hyperparameters.\n",
    "\n",
    "* `lstm_size`: Number of units in the hidden layers in the LSTM cells. Usually larger is better performance wise. Common values are 128, 256, 512, etc.\n",
    "* `lstm_layers`: Number of LSTM layers in the network. I'd start with 1, then add more if I'm underfitting.\n",
    "* `batch_size`: The number of reviews to feed the network in one training pass. Typically this should be set as high as you can go without running out of memory.\n",
    "* `learning_rate`: Learning rate"
   ]
  },
  {
   "cell_type": "code",
   "execution_count": 38,
   "metadata": {
    "collapsed": true
   },
   "outputs": [],
   "source": [
    "lstm_size = 512\n",
    "lstm_layers = 1\n",
    "batch_size = 64#500\n",
    "learning_rate = 0.001"
   ]
  },
  {
   "cell_type": "markdown",
   "metadata": {},
   "source": [
    "For the network itself, we'll be passing in our 200 element long review vectors. Each batch will be `batch_size` vectors. We'll also be using dropout on the LSTM layer, so we'll make a placeholder for the keep probability."
   ]
  },
  {
   "cell_type": "markdown",
   "metadata": {},
   "source": [
    "> **Exercise:** Create the `inputs_`, `labels_`, and drop out `keep_prob` placeholders using `tf.placeholder`. `labels_` needs to be two-dimensional to work with some functions later.  Since `keep_prob` is a scalar (a 0-dimensional tensor), you shouldn't provide a size to `tf.placeholder`."
   ]
  },
  {
   "cell_type": "code",
   "execution_count": 39,
   "metadata": {
    "collapsed": true
   },
   "outputs": [],
   "source": [
    "n_words = len(vocab_to_int) + 1 # Adding 1 because we use 0's for padding, dictionary started at 1\n",
    "\n",
    "# Create the graph object\n",
    "tf.reset_default_graph()\n",
    "graph = tf.Graph()\n",
    "\n",
    "# Add nodes to the graph\n",
    "with graph.as_default():\n",
    "    inputs_ = tf.placeholder(dtype=tf.int32, shape=[None, seq_len], name='inputs')\n",
    "    labels_ = tf.placeholder(dtype=tf.int32, shape=[None, 1], name='labels')\n",
    "    keep_prob = tf.placeholder(dtype=tf.float32, name='keep_prob')"
   ]
  },
  {
   "cell_type": "markdown",
   "metadata": {},
   "source": [
    "### Embedding\n",
    "\n",
    "Now we'll add an embedding layer. We need to do this because there are 74000 words in our vocabulary. It is massively inefficient to one-hot encode our classes here. You should remember dealing with this problem from the word2vec lesson. Instead of one-hot encoding, we can have an embedding layer and use that layer as a lookup table. You could train an embedding layer using word2vec, then load it here. But, it's fine to just make a new layer and let the network learn the weights.\n",
    "\n",
    "> **Exercise:** Create the embedding lookup matrix as a `tf.Variable`. Use that embedding matrix to get the embedded vectors to pass to the LSTM cell with [`tf.nn.embedding_lookup`](https://www.tensorflow.org/api_docs/python/tf/nn/embedding_lookup). This function takes the embedding matrix and an input tensor, such as the review vectors. Then, it'll return another tensor with the embedded vectors. So, if the embedding layer has 200 units, the function will return a tensor with size [batch_size, 200].\n",
    "\n"
   ]
  },
  {
   "cell_type": "markdown",
   "metadata": {},
   "source": [
    "### Use Global Vector of words to set embedding layer"
   ]
  },
  {
   "cell_type": "code",
   "execution_count": 40,
   "metadata": {
    "collapsed": true
   },
   "outputs": [],
   "source": [
    "'''\n",
    "Note: I'll try setting the vectors to word2vec or GloVe vectors.\n",
    "embedding is the weight matrix that converts from the one-hot encoded input words\n",
    "into vectorized representations of the words. \n",
    "\n",
    "Since the input is one-hot encoded, for each word (each row of the input),\n",
    "only one column has '1' and the others are all zero.\n",
    "So only one row of the weight matrix is multiplied by 1 for a given word.\n",
    "\n",
    "So embedding_lookup saves time by looking up each row of the weight matrix\n",
    "instead of multiplying all the other rows of the weight matrix by zero.\n",
    "\n",
    "According to the Stanford NLP course, embedding sizes of 200 to 300 work best.\n",
    "There is little improvement when going past 300.\n",
    "\n",
    "I downloaded the glove weights from https://github.com/stanfordnlp/GloVe\n",
    "I'm using glove.6B.300d.txt because it has vectors of length 300 per word.\n",
    "Each line is the word, followed by the vector values, separated by a space.\n",
    "\n",
    "I'll set a dictionary to lookup the GloVe vector based on the word.\n",
    "key is the word as a string, value is the word vector as a list of floats\n",
    "'''\n",
    "glove_file = 'data/glove.6B.300d.txt'\n",
    "glove_n_symbols_str = ! wc -l < {glove_file} #number of lines is number of words in the GloVe file"
   ]
  },
  {
   "cell_type": "code",
   "execution_count": 41,
   "metadata": {},
   "outputs": [
    {
     "data": {
      "text/plain": [
       "400000"
      ]
     },
     "execution_count": 41,
     "metadata": {},
     "output_type": "execute_result"
    }
   ],
   "source": [
    "glove_n_symbols = int(glove_n_symbols_str[0].strip())\n",
    "glove_n_symbols"
   ]
  },
  {
   "cell_type": "code",
   "execution_count": 42,
   "metadata": {
    "collapsed": true
   },
   "outputs": [],
   "source": [
    "embedding_dim = 300"
   ]
  },
  {
   "cell_type": "code",
   "execution_count": 43,
   "metadata": {
    "collapsed": true
   },
   "outputs": [],
   "source": [
    "glove_index_dict = {} #key is word, value is index (row) in glove_embedding_weights matrix\n",
    "glove_embedding_weights = np.empty((glove_n_symbols, embedding_dim)) #each row is one word's vector representation\n",
    "with open(glove_file, 'r') as file_reader:\n",
    "    idx = 0\n",
    "    for line in file_reader:\n",
    "        tokens = line.strip().split()\n",
    "        word = tokens[0]\n",
    "        glove_index_dict[word] = idx\n",
    "        word_lower = word.lower()\n",
    "        if word_lower != word: #save lower case version of word with the same vector representation\n",
    "            glove_index_dict[word_lower] = idx\n",
    "        glove_embedding_weights[idx,:] = np.array([float(v) for v in tokens[1:]])\n",
    "        idx += 1"
   ]
  },
  {
   "cell_type": "code",
   "execution_count": 44,
   "metadata": {
    "collapsed": true
   },
   "outputs": [],
   "source": [
    "'''\n",
    "create embedding for the words that exist in the data\n",
    "'''\n",
    "np.random.seed(0)\n",
    "shape = (n_words, embedding_dim)\n",
    "scale = glove_embedding_weights.std()*np.sqrt(12)/2 # uniform and not normal\n",
    "embedding_glove = np.random.uniform(low=-scale, high=scale, size=shape)"
   ]
  },
  {
   "cell_type": "code",
   "execution_count": 45,
   "metadata": {},
   "outputs": [
    {
     "name": "stdout",
     "output_type": "stream",
     "text": [
      "Number of words found in GloVe and in the data 59629\n"
     ]
    }
   ],
   "source": [
    "c = 0\n",
    "for word, i in vocab_to_int.items():\n",
    "    glove_idx = glove_index_dict.get(word, glove_index_dict.get(word.lower()))\n",
    "    if glove_idx is not None:\n",
    "        embedding_glove[i,:] = glove_embedding_weights[glove_idx,:]\n",
    "        c+=1\n",
    "        \n",
    "print(\"Number of words found in GloVe and in the data {}\".format(c))"
   ]
  },
  {
   "cell_type": "markdown",
   "metadata": {},
   "source": [
    "### Option 1: use GloVe to pre-set embedding layer"
   ]
  },
  {
   "cell_type": "code",
   "execution_count": 46,
   "metadata": {
    "collapsed": true
   },
   "outputs": [],
   "source": [
    "#Set the tensor with the pre-trained GloVe vectors\n",
    "with graph.as_default():\n",
    "    embedding = tf.Variable(embedding_glove, dtype=tf.float32, name='embedding')    \n",
    "    embed = tf.nn.embedding_lookup(embedding, inputs_)"
   ]
  },
  {
   "cell_type": "markdown",
   "metadata": {},
   "source": [
    "### Option 2: using random weights for embedding layer\n",
    "\n",
    "For comparison, I'll see how the model does with random weight initialization"
   ]
  },
  {
   "cell_type": "code",
   "execution_count": 59,
   "metadata": {
    "collapsed": true
   },
   "outputs": [],
   "source": [
    "# Size of the embedding vectors (number of units in the embedding layer)\n",
    "embed_size = 300 \n",
    "\n",
    "with graph.as_default():\n",
    "    embedding = tf.Variable(tf.random_uniform((n_words, embed_size), -1, 1))\n",
    "    embed = tf.nn.embedding_lookup(embedding, inputs_)"
   ]
  },
  {
   "cell_type": "code",
   "execution_count": null,
   "metadata": {
    "collapsed": true
   },
   "outputs": [],
   "source": []
  },
  {
   "cell_type": "markdown",
   "metadata": {},
   "source": [
    "### LSTM cell\n",
    "\n",
    "<img src=\"assets/network_diagram.png\" width=400px>\n",
    "\n",
    "Next, we'll create our LSTM cells to use in the recurrent network ([TensorFlow documentation](https://www.tensorflow.org/api_docs/python/tf/contrib/rnn)). Here we are just defining what the cells look like. This isn't actually building the graph, just defining the type of cells we want in our graph.\n",
    "\n",
    "To create a basic LSTM cell for the graph, you'll want to use `tf.contrib.rnn.BasicLSTMCell`. Looking at the function documentation:\n",
    "\n",
    "> **Exercise:** Below, use `tf.contrib.rnn.BasicLSTMCell` to create an LSTM cell. Then, add drop out to it with `tf.contrib.rnn.DropoutWrapper`. Finally, create multiple LSTM layers with `tf.contrib.rnn.MultiRNNCell`.\n",
    "\n",
    "Here is [a tutorial on building RNNs](https://www.tensorflow.org/tutorials/recurrent) that will help you out.\n"
   ]
  },
  {
   "cell_type": "code",
   "execution_count": 47,
   "metadata": {
    "collapsed": true
   },
   "outputs": [],
   "source": [
    " '''\n",
    "    Starting with tensorflow 1.1, MultiRNNCell requires us to build a new cell object\n",
    "    for each cell in the list, so we need a function to create an individual cell,\n",
    "    and we'll call it in a list comprehension (a loop) once for each unique cell that we want\n",
    "    \n",
    "    The lstm's num_units are num of hidden units for each of the gates/pathways within the lstm;\n",
    "    it's also the size of the tensor that is output from the lstm.\n",
    "\n",
    "'''\n",
    "\n",
    "def make_cell(lstm_size, keep_prob):\n",
    "    '''\n",
    "    Use this to create a single lstm cell, which represents one layer of the RNN.\n",
    "    This can be used for the encoding and decoding layers.\n",
    "    '''\n",
    "    lstm = tf.contrib.rnn.LSTMCell(num_units=lstm_size,\n",
    "                                       initializer=tf.random_uniform_initializer(minval=-0.1,\n",
    "                                                                                 maxval=0.1,\n",
    "                                                                                 seed=0))\n",
    "    drop = tf.contrib.rnn.DropoutWrapper(lstm, output_keep_prob=keep_prob)\n",
    "    return drop"
   ]
  },
  {
   "cell_type": "code",
   "execution_count": 48,
   "metadata": {
    "collapsed": true
   },
   "outputs": [],
   "source": [
    "with graph.as_default():\n",
    "    \n",
    "    # Stack up multiple LSTM layers, for deep learning\n",
    "    cell = tf.contrib.rnn.MultiRNNCell([make_cell(lstm_size, keep_prob) for _ in range(lstm_layers)])\n",
    "    \n",
    "    \n",
    "    '''\n",
    "    The initial state is the \"memory\" that gets modified by the gates within each lstm cell.\n",
    "    '''\n",
    "    # Getting an initial state of all zeros\n",
    "    initial_state = cell.zero_state(batch_size, tf.float32)"
   ]
  },
  {
   "cell_type": "markdown",
   "metadata": {},
   "source": [
    "### RNN forward pass\n",
    "\n",
    "<img src=\"assets/network_diagram.png\" width=400px>\n",
    "\n",
    "Now we need to actually run the data through the RNN nodes. You can use [`tf.nn.dynamic_rnn`](https://www.tensorflow.org/api_docs/python/tf/nn/dynamic_rnn) to do this. You'd pass in the RNN cell you created (our multiple layered LSTM `cell` for instance), and the inputs to the network.\n",
    "\n",
    "```\n",
    "outputs, final_state = tf.nn.dynamic_rnn(cell, inputs, initial_state=initial_state)\n",
    "```\n",
    "\n",
    "Above I created an initial state, `initial_state`, to pass to the RNN. This is the cell state that is passed between the hidden layers in successive time steps. `tf.nn.dynamic_rnn` takes care of most of the work for us. We pass in our cell and the input to the cell, then it does the unrolling and everything else for us. It returns outputs for each time step and the final_state of the hidden layer.\n",
    "\n",
    "> **Exercise:** Use `tf.nn.dynamic_rnn` to add the forward pass through the RNN. Remember that we're actually passing in vectors from the embedding layer, `embed`.\n",
    "\n"
   ]
  },
  {
   "cell_type": "code",
   "execution_count": 49,
   "metadata": {
    "collapsed": true
   },
   "outputs": [],
   "source": [
    "'''\n",
    "outputs is a list of the outputs as each word is fed into the RNN.\n",
    "Since we set the input to have 200 words, it should have 200 outputs.\n",
    "'''\n",
    "with graph.as_default():\n",
    "    outputs, final_state = tf.nn.dynamic_rnn(cell, embed,\n",
    "                                             initial_state=initial_state)"
   ]
  },
  {
   "cell_type": "markdown",
   "metadata": {},
   "source": [
    "### Output\n",
    "\n",
    "We only care about the final output, we'll be using that as our sentiment prediction. So we need to grab the last output with `outputs[:, -1]`, the calculate the cost from that and `labels_`."
   ]
  },
  {
   "cell_type": "code",
   "execution_count": 50,
   "metadata": {
    "collapsed": true
   },
   "outputs": [],
   "source": [
    "with graph.as_default():\n",
    "    predictions = tf.contrib.layers.fully_connected(outputs[:, -1], 1, activation_fn=tf.sigmoid)\n",
    "    cost = tf.losses.mean_squared_error(labels_, predictions)\n",
    "    \n",
    "    optimizer = tf.train.AdamOptimizer(learning_rate).minimize(cost)"
   ]
  },
  {
   "cell_type": "markdown",
   "metadata": {},
   "source": [
    "### Validation accuracy\n",
    "\n",
    "Here we can add a few nodes to calculate the accuracy which we'll use in the validation pass."
   ]
  },
  {
   "cell_type": "code",
   "execution_count": 51,
   "metadata": {
    "collapsed": true
   },
   "outputs": [],
   "source": [
    "with graph.as_default():\n",
    "    correct_pred = tf.equal(tf.cast(tf.round(predictions), tf.int32), labels_) #true if rounded pred equals label\n",
    "    accuracy = tf.reduce_mean(tf.cast(correct_pred, tf.float32)) #true = 1, false = 0"
   ]
  },
  {
   "cell_type": "markdown",
   "metadata": {},
   "source": [
    "### Batching\n",
    "\n",
    "This is a simple function for returning batches from our data. First it removes data such that we only have full batches. Then it iterates through the `x` and `y` arrays and returns slices out of those arrays with size `[batch_size]`."
   ]
  },
  {
   "cell_type": "code",
   "execution_count": 52,
   "metadata": {
    "collapsed": true
   },
   "outputs": [],
   "source": [
    "def get_batches(x, y, batch_size=100):\n",
    "    \n",
    "    n_batches = len(x)//batch_size\n",
    "    x, y = x[:n_batches*batch_size], y[:n_batches*batch_size]\n",
    "    for ii in range(0, len(x), batch_size):\n",
    "        yield x[ii:ii+batch_size], y[ii:ii+batch_size]"
   ]
  },
  {
   "cell_type": "markdown",
   "metadata": {},
   "source": [
    "## Training\n",
    "\n",
    "Below is the typical training code. If you want to do this yourself, feel free to delete all this code and implement it yourself. Before you run this, make sure the `checkpoints` directory exists."
   ]
  },
  {
   "cell_type": "code",
   "execution_count": 53,
   "metadata": {},
   "outputs": [
    {
     "name": "stdout",
     "output_type": "stream",
     "text": [
      "('Epoch: 0/3', 'Iteration: 5', 'Train loss: 0.228')\n",
      "('Epoch: 0/3', 'Iteration: 10', 'Train loss: 0.289')\n",
      "('Epoch: 0/3', 'Iteration: 15', 'Train loss: 0.271')\n",
      "('Epoch: 0/3', 'Iteration: 20', 'Train loss: 0.216')\n",
      "('Epoch: 0/3', 'Iteration: 25', 'Train loss: 0.247')\n",
      "Val acc: 0.532\n",
      "('Epoch: 0/3', 'Iteration: 30', 'Train loss: 0.263')\n",
      "('Epoch: 0/3', 'Iteration: 35', 'Train loss: 0.216')\n",
      "('Epoch: 0/3', 'Iteration: 40', 'Train loss: 0.253')\n",
      "('Epoch: 0/3', 'Iteration: 45', 'Train loss: 0.244')\n",
      "('Epoch: 0/3', 'Iteration: 50', 'Train loss: 0.225')\n",
      "Val acc: 0.596\n",
      "('Epoch: 0/3', 'Iteration: 55', 'Train loss: 0.226')\n",
      "('Epoch: 0/3', 'Iteration: 60', 'Train loss: 0.203')\n",
      "('Epoch: 0/3', 'Iteration: 65', 'Train loss: 0.246')\n",
      "('Epoch: 0/3', 'Iteration: 70', 'Train loss: 0.257')\n",
      "('Epoch: 0/3', 'Iteration: 75', 'Train loss: 0.253')\n",
      "Val acc: 0.581\n",
      "('Epoch: 0/3', 'Iteration: 80', 'Train loss: 0.243')\n",
      "('Epoch: 0/3', 'Iteration: 85', 'Train loss: 0.236')\n",
      "('Epoch: 0/3', 'Iteration: 90', 'Train loss: 0.226')\n",
      "('Epoch: 0/3', 'Iteration: 95', 'Train loss: 0.235')\n",
      "('Epoch: 0/3', 'Iteration: 100', 'Train loss: 0.220')\n",
      "Val acc: 0.656\n",
      "('Epoch: 0/3', 'Iteration: 105', 'Train loss: 0.220')\n",
      "('Epoch: 0/3', 'Iteration: 110', 'Train loss: 0.242')\n",
      "('Epoch: 0/3', 'Iteration: 115', 'Train loss: 0.242')\n",
      "('Epoch: 0/3', 'Iteration: 120', 'Train loss: 0.243')\n",
      "('Epoch: 0/3', 'Iteration: 125', 'Train loss: 0.233')\n",
      "Val acc: 0.523\n",
      "('Epoch: 0/3', 'Iteration: 130', 'Train loss: 0.226')\n",
      "('Epoch: 0/3', 'Iteration: 135', 'Train loss: 0.282')\n",
      "('Epoch: 0/3', 'Iteration: 140', 'Train loss: 0.217')\n",
      "('Epoch: 0/3', 'Iteration: 145', 'Train loss: 0.211')\n",
      "('Epoch: 0/3', 'Iteration: 150', 'Train loss: 0.194')\n",
      "Val acc: 0.704\n",
      "('Epoch: 0/3', 'Iteration: 155', 'Train loss: 0.223')\n",
      "('Epoch: 0/3', 'Iteration: 160', 'Train loss: 0.174')\n",
      "('Epoch: 0/3', 'Iteration: 165', 'Train loss: 0.192')\n",
      "('Epoch: 0/3', 'Iteration: 170', 'Train loss: 0.194')\n",
      "('Epoch: 0/3', 'Iteration: 175', 'Train loss: 0.151')\n",
      "Val acc: 0.770\n",
      "('Epoch: 0/3', 'Iteration: 180', 'Train loss: 0.156')\n",
      "('Epoch: 0/3', 'Iteration: 185', 'Train loss: 0.221')\n",
      "('Epoch: 0/3', 'Iteration: 190', 'Train loss: 0.265')\n",
      "('Epoch: 0/3', 'Iteration: 195', 'Train loss: 0.285')\n",
      "('Epoch: 0/3', 'Iteration: 200', 'Train loss: 0.261')\n",
      "Val acc: 0.546\n",
      "('Epoch: 0/3', 'Iteration: 205', 'Train loss: 0.227')\n",
      "('Epoch: 0/3', 'Iteration: 210', 'Train loss: 0.220')\n",
      "('Epoch: 0/3', 'Iteration: 215', 'Train loss: 0.227')\n",
      "('Epoch: 0/3', 'Iteration: 220', 'Train loss: 0.207')\n",
      "('Epoch: 0/3', 'Iteration: 225', 'Train loss: 0.216')\n",
      "Val acc: 0.708\n",
      "('Epoch: 0/3', 'Iteration: 230', 'Train loss: 0.190')\n",
      "('Epoch: 0/3', 'Iteration: 235', 'Train loss: 0.157')\n",
      "('Epoch: 0/3', 'Iteration: 240', 'Train loss: 0.196')\n",
      "('Epoch: 0/3', 'Iteration: 245', 'Train loss: 0.262')\n",
      "('Epoch: 0/3', 'Iteration: 250', 'Train loss: 0.153')\n",
      "Val acc: 0.710\n",
      "('Epoch: 0/3', 'Iteration: 255', 'Train loss: 0.137')\n",
      "('Epoch: 0/3', 'Iteration: 260', 'Train loss: 0.160')\n",
      "('Epoch: 0/3', 'Iteration: 265', 'Train loss: 0.153')\n",
      "('Epoch: 0/3', 'Iteration: 270', 'Train loss: 0.174')\n",
      "('Epoch: 0/3', 'Iteration: 275', 'Train loss: 0.229')\n",
      "Val acc: 0.767\n",
      "('Epoch: 0/3', 'Iteration: 280', 'Train loss: 0.150')\n",
      "('Epoch: 0/3', 'Iteration: 285', 'Train loss: 0.196')\n",
      "('Epoch: 0/3', 'Iteration: 290', 'Train loss: 0.087')\n",
      "('Epoch: 0/3', 'Iteration: 295', 'Train loss: 0.135')\n",
      "('Epoch: 0/3', 'Iteration: 300', 'Train loss: 0.170')\n",
      "Val acc: 0.750\n",
      "('Epoch: 0/3', 'Iteration: 305', 'Train loss: 0.210')\n",
      "('Epoch: 0/3', 'Iteration: 310', 'Train loss: 0.165')\n",
      "('Epoch: 1/3', 'Iteration: 315', 'Train loss: 0.141')\n",
      "('Epoch: 1/3', 'Iteration: 320', 'Train loss: 0.155')\n",
      "('Epoch: 1/3', 'Iteration: 325', 'Train loss: 0.155')\n",
      "Val acc: 0.803\n",
      "('Epoch: 1/3', 'Iteration: 330', 'Train loss: 0.163')\n",
      "('Epoch: 1/3', 'Iteration: 335', 'Train loss: 0.101')\n",
      "('Epoch: 1/3', 'Iteration: 340', 'Train loss: 0.171')\n",
      "('Epoch: 1/3', 'Iteration: 345', 'Train loss: 0.134')\n",
      "('Epoch: 1/3', 'Iteration: 350', 'Train loss: 0.079')\n",
      "Val acc: 0.815\n",
      "('Epoch: 1/3', 'Iteration: 355', 'Train loss: 0.160')\n",
      "('Epoch: 1/3', 'Iteration: 360', 'Train loss: 0.079')\n",
      "('Epoch: 1/3', 'Iteration: 365', 'Train loss: 0.129')\n",
      "('Epoch: 1/3', 'Iteration: 370', 'Train loss: 0.135')\n",
      "('Epoch: 1/3', 'Iteration: 375', 'Train loss: 0.124')\n",
      "Val acc: 0.822\n",
      "('Epoch: 1/3', 'Iteration: 380', 'Train loss: 0.120')\n",
      "('Epoch: 1/3', 'Iteration: 385', 'Train loss: 0.135')\n",
      "('Epoch: 1/3', 'Iteration: 390', 'Train loss: 0.133')\n",
      "('Epoch: 1/3', 'Iteration: 395', 'Train loss: 0.105')\n",
      "('Epoch: 1/3', 'Iteration: 400', 'Train loss: 0.125')\n",
      "Val acc: 0.809\n",
      "('Epoch: 1/3', 'Iteration: 405', 'Train loss: 0.106')\n",
      "('Epoch: 1/3', 'Iteration: 410', 'Train loss: 0.179')\n",
      "('Epoch: 1/3', 'Iteration: 415', 'Train loss: 0.118')\n",
      "('Epoch: 1/3', 'Iteration: 420', 'Train loss: 0.129')\n",
      "('Epoch: 1/3', 'Iteration: 425', 'Train loss: 0.138')\n",
      "Val acc: 0.801\n",
      "('Epoch: 1/3', 'Iteration: 430', 'Train loss: 0.082')\n",
      "('Epoch: 1/3', 'Iteration: 435', 'Train loss: 0.067')\n",
      "('Epoch: 1/3', 'Iteration: 440', 'Train loss: 0.190')\n",
      "('Epoch: 1/3', 'Iteration: 445', 'Train loss: 0.099')\n",
      "('Epoch: 1/3', 'Iteration: 450', 'Train loss: 0.146')\n",
      "Val acc: 0.810\n",
      "('Epoch: 1/3', 'Iteration: 455', 'Train loss: 0.100')\n",
      "('Epoch: 1/3', 'Iteration: 460', 'Train loss: 0.082')\n",
      "('Epoch: 1/3', 'Iteration: 465', 'Train loss: 0.159')\n",
      "('Epoch: 1/3', 'Iteration: 470', 'Train loss: 0.093')\n",
      "('Epoch: 1/3', 'Iteration: 475', 'Train loss: 0.096')\n",
      "Val acc: 0.821\n",
      "('Epoch: 1/3', 'Iteration: 480', 'Train loss: 0.083')\n",
      "('Epoch: 1/3', 'Iteration: 485', 'Train loss: 0.139')\n",
      "('Epoch: 1/3', 'Iteration: 490', 'Train loss: 0.054')\n",
      "('Epoch: 1/3', 'Iteration: 495', 'Train loss: 0.098')\n",
      "('Epoch: 1/3', 'Iteration: 500', 'Train loss: 0.064')\n",
      "Val acc: 0.834\n",
      "('Epoch: 1/3', 'Iteration: 505', 'Train loss: 0.134')\n",
      "('Epoch: 1/3', 'Iteration: 510', 'Train loss: 0.132')\n",
      "('Epoch: 1/3', 'Iteration: 515', 'Train loss: 0.156')\n",
      "('Epoch: 1/3', 'Iteration: 520', 'Train loss: 0.158')\n",
      "('Epoch: 1/3', 'Iteration: 525', 'Train loss: 0.104')\n",
      "Val acc: 0.826\n",
      "('Epoch: 1/3', 'Iteration: 530', 'Train loss: 0.146')\n",
      "('Epoch: 1/3', 'Iteration: 535', 'Train loss: 0.116')\n",
      "('Epoch: 1/3', 'Iteration: 540', 'Train loss: 0.068')\n",
      "('Epoch: 1/3', 'Iteration: 545', 'Train loss: 0.132')\n",
      "('Epoch: 1/3', 'Iteration: 550', 'Train loss: 0.030')\n",
      "Val acc: 0.845\n",
      "('Epoch: 1/3', 'Iteration: 555', 'Train loss: 0.136')\n",
      "('Epoch: 1/3', 'Iteration: 560', 'Train loss: 0.108')\n",
      "('Epoch: 1/3', 'Iteration: 565', 'Train loss: 0.110')\n",
      "('Epoch: 1/3', 'Iteration: 570', 'Train loss: 0.105')\n",
      "('Epoch: 1/3', 'Iteration: 575', 'Train loss: 0.035')\n",
      "Val acc: 0.846\n",
      "('Epoch: 1/3', 'Iteration: 580', 'Train loss: 0.075')\n",
      "('Epoch: 1/3', 'Iteration: 585', 'Train loss: 0.117')\n",
      "('Epoch: 1/3', 'Iteration: 590', 'Train loss: 0.081')\n",
      "('Epoch: 1/3', 'Iteration: 595', 'Train loss: 0.052')\n",
      "('Epoch: 1/3', 'Iteration: 600', 'Train loss: 0.085')\n",
      "Val acc: 0.843\n",
      "('Epoch: 1/3', 'Iteration: 605', 'Train loss: 0.164')\n",
      "('Epoch: 1/3', 'Iteration: 610', 'Train loss: 0.080')\n",
      "('Epoch: 1/3', 'Iteration: 615', 'Train loss: 0.074')\n",
      "('Epoch: 1/3', 'Iteration: 620', 'Train loss: 0.058')\n",
      "('Epoch: 2/3', 'Iteration: 625', 'Train loss: 0.038')\n",
      "Val acc: 0.851\n",
      "('Epoch: 2/3', 'Iteration: 630', 'Train loss: 0.078')\n",
      "('Epoch: 2/3', 'Iteration: 635', 'Train loss: 0.099')\n",
      "('Epoch: 2/3', 'Iteration: 640', 'Train loss: 0.044')\n",
      "('Epoch: 2/3', 'Iteration: 645', 'Train loss: 0.075')\n",
      "('Epoch: 2/3', 'Iteration: 650', 'Train loss: 0.053')\n",
      "Val acc: 0.847\n",
      "('Epoch: 2/3', 'Iteration: 655', 'Train loss: 0.047')\n",
      "('Epoch: 2/3', 'Iteration: 660', 'Train loss: 0.051')\n",
      "('Epoch: 2/3', 'Iteration: 665', 'Train loss: 0.026')\n",
      "('Epoch: 2/3', 'Iteration: 670', 'Train loss: 0.066')\n",
      "('Epoch: 2/3', 'Iteration: 675', 'Train loss: 0.061')\n",
      "Val acc: 0.853\n",
      "('Epoch: 2/3', 'Iteration: 680', 'Train loss: 0.090')\n",
      "('Epoch: 2/3', 'Iteration: 685', 'Train loss: 0.062')\n",
      "('Epoch: 2/3', 'Iteration: 690', 'Train loss: 0.054')\n",
      "('Epoch: 2/3', 'Iteration: 695', 'Train loss: 0.058')\n",
      "('Epoch: 2/3', 'Iteration: 700', 'Train loss: 0.033')\n",
      "Val acc: 0.851\n",
      "('Epoch: 2/3', 'Iteration: 705', 'Train loss: 0.021')\n",
      "('Epoch: 2/3', 'Iteration: 710', 'Train loss: 0.063')\n",
      "('Epoch: 2/3', 'Iteration: 715', 'Train loss: 0.045')\n",
      "('Epoch: 2/3', 'Iteration: 720', 'Train loss: 0.042')\n",
      "('Epoch: 2/3', 'Iteration: 725', 'Train loss: 0.045')\n"
     ]
    },
    {
     "name": "stdout",
     "output_type": "stream",
     "text": [
      "Val acc: 0.837\n",
      "('Epoch: 2/3', 'Iteration: 730', 'Train loss: 0.044')\n",
      "('Epoch: 2/3', 'Iteration: 735', 'Train loss: 0.023')\n",
      "('Epoch: 2/3', 'Iteration: 740', 'Train loss: 0.053')\n",
      "('Epoch: 2/3', 'Iteration: 745', 'Train loss: 0.025')\n",
      "('Epoch: 2/3', 'Iteration: 750', 'Train loss: 0.044')\n",
      "Val acc: 0.859\n",
      "('Epoch: 2/3', 'Iteration: 755', 'Train loss: 0.067')\n",
      "('Epoch: 2/3', 'Iteration: 760', 'Train loss: 0.066')\n",
      "('Epoch: 2/3', 'Iteration: 765', 'Train loss: 0.035')\n",
      "('Epoch: 2/3', 'Iteration: 770', 'Train loss: 0.035')\n",
      "('Epoch: 2/3', 'Iteration: 775', 'Train loss: 0.044')\n",
      "Val acc: 0.857\n",
      "('Epoch: 2/3', 'Iteration: 780', 'Train loss: 0.076')\n",
      "('Epoch: 2/3', 'Iteration: 785', 'Train loss: 0.032')\n",
      "('Epoch: 2/3', 'Iteration: 790', 'Train loss: 0.020')\n",
      "('Epoch: 2/3', 'Iteration: 795', 'Train loss: 0.050')\n",
      "('Epoch: 2/3', 'Iteration: 800', 'Train loss: 0.017')\n",
      "Val acc: 0.858\n",
      "('Epoch: 2/3', 'Iteration: 805', 'Train loss: 0.050')\n",
      "('Epoch: 2/3', 'Iteration: 810', 'Train loss: 0.043')\n",
      "('Epoch: 2/3', 'Iteration: 815', 'Train loss: 0.035')\n",
      "('Epoch: 2/3', 'Iteration: 820', 'Train loss: 0.077')\n",
      "('Epoch: 2/3', 'Iteration: 825', 'Train loss: 0.061')\n",
      "Val acc: 0.855\n",
      "('Epoch: 2/3', 'Iteration: 830', 'Train loss: 0.072')\n",
      "('Epoch: 2/3', 'Iteration: 835', 'Train loss: 0.056')\n",
      "('Epoch: 2/3', 'Iteration: 840', 'Train loss: 0.041')\n",
      "('Epoch: 2/3', 'Iteration: 845', 'Train loss: 0.028')\n",
      "('Epoch: 2/3', 'Iteration: 850', 'Train loss: 0.038')\n",
      "Val acc: 0.845\n",
      "('Epoch: 2/3', 'Iteration: 855', 'Train loss: 0.064')\n",
      "('Epoch: 2/3', 'Iteration: 860', 'Train loss: 0.051')\n",
      "('Epoch: 2/3', 'Iteration: 865', 'Train loss: 0.025')\n",
      "('Epoch: 2/3', 'Iteration: 870', 'Train loss: 0.014')\n",
      "('Epoch: 2/3', 'Iteration: 875', 'Train loss: 0.026')\n",
      "Val acc: 0.844\n",
      "('Epoch: 2/3', 'Iteration: 880', 'Train loss: 0.026')\n",
      "('Epoch: 2/3', 'Iteration: 885', 'Train loss: 0.034')\n",
      "('Epoch: 2/3', 'Iteration: 890', 'Train loss: 0.079')\n",
      "('Epoch: 2/3', 'Iteration: 895', 'Train loss: 0.025')\n",
      "('Epoch: 2/3', 'Iteration: 900', 'Train loss: 0.021')\n",
      "Val acc: 0.846\n",
      "('Epoch: 2/3', 'Iteration: 905', 'Train loss: 0.011')\n",
      "('Epoch: 2/3', 'Iteration: 910', 'Train loss: 0.013')\n",
      "('Epoch: 2/3', 'Iteration: 915', 'Train loss: 0.032')\n",
      "('Epoch: 2/3', 'Iteration: 920', 'Train loss: 0.011')\n",
      "('Epoch: 2/3', 'Iteration: 925', 'Train loss: 0.058')\n",
      "Val acc: 0.853\n",
      "('Epoch: 2/3', 'Iteration: 930', 'Train loss: 0.019')\n",
      "('Epoch: 2/3', 'Iteration: 935', 'Train loss: 0.045')\n"
     ]
    }
   ],
   "source": [
    "epochs = 3\n",
    "\n",
    "with graph.as_default():\n",
    "    saver = tf.train.Saver()\n",
    "\n",
    "with tf.Session(graph=graph) as sess:\n",
    "    sess.run(tf.global_variables_initializer())\n",
    "    iteration = 1\n",
    "    for e in range(epochs):\n",
    "        state = sess.run(initial_state)\n",
    "        \n",
    "        for ii, (x, y) in enumerate(get_batches(train_x, train_y, batch_size), 1):\n",
    "            feed = {inputs_: x,\n",
    "                    labels_: y[:, None],\n",
    "                    keep_prob: 0.5,\n",
    "                    initial_state: state}\n",
    "            loss, state, _ = sess.run([cost, final_state, optimizer], feed_dict=feed)\n",
    "            \n",
    "            if iteration%5==0:\n",
    "                print(\"Epoch: {}/{}\".format(e, epochs),\n",
    "                      \"Iteration: {}\".format(iteration),\n",
    "                      \"Train loss: {:.3f}\".format(loss))\n",
    "\n",
    "            if iteration%25==0:\n",
    "                val_acc = []\n",
    "                val_state = sess.run(cell.zero_state(batch_size, tf.float32))\n",
    "                for x, y in get_batches(val_x, val_y, batch_size):\n",
    "                    feed = {inputs_: x,\n",
    "                            labels_: y[:, None],\n",
    "                            keep_prob: 1,\n",
    "                            initial_state: val_state}\n",
    "                    batch_acc, val_state = sess.run([accuracy, final_state], feed_dict=feed)\n",
    "                    val_acc.append(batch_acc)\n",
    "                print(\"Val acc: {:.3f}\".format(np.mean(val_acc)))\n",
    "            iteration +=1\n",
    "    saver.save(sess, \"checkpoints/sentiment.ckpt\")"
   ]
  },
  {
   "cell_type": "markdown",
   "metadata": {},
   "source": [
    "Trial 5: 1 lstm layer does just as well as 2, and runs faster.  3 epochs is enough. LSTM size 512\n",
    "\n",
    "```\n",
    "Val acc: 0.853\n",
    "('Epoch: 2/3', 'Iteration: 930', 'Train loss: 0.019')\n",
    "('Epoch: 2/3', 'Iteration: 935', 'Train loss: 0.045')\n",
    "```"
   ]
  },
  {
   "cell_type": "markdown",
   "metadata": {},
   "source": [
    "Trial 5\n",
    "Removed stop words and replaced any remaining contractions with full words\n",
    "Used LSTM size 512 and 2 lstm layers\n",
    "\n",
    "Not much difference after removing stopwords and replacing contractions.\n",
    "It reaches a peak of 0.854 validation accuracy at epoch 3 and stays around 0.83 and 0.84 afterwards (for 10 epochs)\n",
    "```\n",
    "Val acc: 0.854\n",
    "('Epoch: 3/10', 'Iteration: 1005', 'Train loss: 0.053')\n",
    "('Epoch: 3/10', 'Iteration: 1010', 'Train loss: 0.014')\n",
    "('Epoch: 3/10', 'Iteration: 1015', 'Train loss: 0.057')\n",
    "('Epoch: 3/10', 'Iteration: 1020', 'Train loss: 0.012')\n",
    "('Epoch: 3/10', 'Iteration: 1025', 'Train loss: 0.022')\n",
    "Val acc: 0.851\n",
    "```"
   ]
  },
  {
   "cell_type": "markdown",
   "metadata": {},
   "source": [
    "Trial 4\n",
    "\n",
    "Used 3 lstm layers and GloVe embedding.\n",
    "Mostly no improvement over using 2 lstm layers, and it trains much more slowly.\n",
    "\n",
    "```\n",
    "Val acc: 0.847\n",
    "('Epoch: 3/10', 'Iteration: 1055', 'Train loss: 0.087')\n",
    "('Epoch: 3/10', 'Iteration: 1060', 'Train loss: 0.061')\n",
    "('Epoch: 3/10', 'Iteration: 1065', 'Train loss: 0.036')\n",
    "('Epoch: 3/10', 'Iteration: 1070', 'Train loss: 0.088')\n",
    "('Epoch: 3/10', 'Iteration: 1075', 'Train loss: 0.052')\n",
    "Val acc: 0.853\n",
    "```"
   ]
  },
  {
   "cell_type": "markdown",
   "metadata": {},
   "source": [
    "Trial 3\n",
    "\n",
    "Used 2 lstm layers and GLoVe embedding weights.  It hovers around 0.84 most of the time after epoch 2.\n",
    "So 2 lstm layers is slightly better than 1.\n",
    "```\n",
    "('Epoch: 2/10', 'Iteration: 730', 'Train loss: 0.082')\n",
    "('Epoch: 2/10', 'Iteration: 735', 'Train loss: 0.049')\n",
    "('Epoch: 2/10', 'Iteration: 740', 'Train loss: 0.090')\n",
    "('Epoch: 2/10', 'Iteration: 745', 'Train loss: 0.037')\n",
    "('Epoch: 2/10', 'Iteration: 750', 'Train loss: 0.065')\n",
    "Val acc: 0.851\n",
    "```"
   ]
  },
  {
   "cell_type": "markdown",
   "metadata": {},
   "source": [
    "Trial 2:\n",
    "I used random weights for embedding.  It took longer to reach 0.80 validation accuracy, and was at most 0.82\n",
    "So using GloVe weights performs better.\n",
    "\n",
    "Used 1 lstm layer\n",
    "```\n",
    "('Epoch: 7/10', 'Iteration: 2455', 'Train loss: 0.001')\n",
    "('Epoch: 7/10', 'Iteration: 2460', 'Train loss: 0.001')\n",
    "('Epoch: 7/10', 'Iteration: 2465', 'Train loss: 0.008')\n",
    "('Epoch: 7/10', 'Iteration: 2470', 'Train loss: 0.002')\n",
    "('Epoch: 7/10', 'Iteration: 2475', 'Train loss: 0.015')\n",
    "Val acc: 0.821\n",
    "```"
   ]
  },
  {
   "cell_type": "markdown",
   "metadata": {},
   "source": [
    "\n",
    "Trial 1: used GloVe for embedding.\n",
    "By epoch 2, validation accuracy reached its peak around .84 and stayed around .83 afterwards.\n",
    "\n",
    "1 lstm layer\n",
    "GloVe vectors for embedding\n",
    "\n",
    "```\n",
    "Val acc: 0.848\n",
    "('Epoch: 2/20', 'Iteration: 630', 'Train loss: 0.068')\n",
    "('Epoch: 2/20', 'Iteration: 635', 'Train loss: 0.110')\n",
    "('Epoch: 2/20', 'Iteration: 640', 'Train loss: 0.047')\n",
    "('Epoch: 2/20', 'Iteration: 645', 'Train loss: 0.063')\n",
    "('Epoch: 2/20', 'Iteration: 650', 'Train loss: 0.039')\n",
    "Val acc: 0.849\n",
    "\n",
    "```"
   ]
  },
  {
   "cell_type": "code",
   "execution_count": null,
   "metadata": {
    "collapsed": true
   },
   "outputs": [],
   "source": []
  },
  {
   "cell_type": "markdown",
   "metadata": {},
   "source": [
    "## Testing"
   ]
  },
  {
   "cell_type": "code",
   "execution_count": 54,
   "metadata": {},
   "outputs": [
    {
     "name": "stdout",
     "output_type": "stream",
     "text": [
      "INFO:tensorflow:Restoring parameters from checkpoints/sentiment.ckpt\n",
      "Test accuracy: 0.856\n"
     ]
    }
   ],
   "source": [
    "test_acc = []\n",
    "with tf.Session(graph=graph) as sess:\n",
    "    saver.restore(sess, tf.train.latest_checkpoint('checkpoints'))\n",
    "    test_state = sess.run(cell.zero_state(batch_size, tf.float32))\n",
    "    for ii, (x, y) in enumerate(get_batches(test_x, test_y, batch_size), 1):\n",
    "        feed = {inputs_: x,\n",
    "                labels_: y[:, None],\n",
    "                keep_prob: 1,\n",
    "                initial_state: test_state}\n",
    "        batch_acc, test_state = sess.run([accuracy, final_state], feed_dict=feed)\n",
    "        test_acc.append(batch_acc)\n",
    "    print(\"Test accuracy: {:.3f}\".format(np.mean(test_acc)))"
   ]
  },
  {
   "cell_type": "markdown",
   "metadata": {},
   "source": [
    "## Prediction"
   ]
  },
  {
   "cell_type": "markdown",
   "metadata": {},
   "source": [
    "### I'm using a review about the tv show \"The Good Place\". \n",
    "First I'll try a positive review"
   ]
  },
  {
   "cell_type": "code",
   "execution_count": 143,
   "metadata": {},
   "outputs": [
    {
     "data": {
      "text/plain": [
       "\"Just watched the double-episode pilot of The Good Place and I would say it's a Good Comedy. First of all the premise is original. Another newcomer of the season Kevin Can Wait is the epitome of family sitcoms. This is almost in every way new. Only downside: it would be more fitting for a movie than a (long-running?) series. At some point might seem repetitive or loose its initial spark. Second, it seems like it has high production values, I mean a wide set and good visuals. All bright and cheerful. The script holds a few surprises to keep you interested and the blunt editing from afterlife to life and back adds to the entertainment. I like Kristen Bell as the main character. The part suits her. The otherwise great Ted Danson is OK in this one, but I think the writers have to improve his lines. Overall: Because of its very distinct premise, some might love it, some might hate it. Personally I find it entertaining enough to continue watching. \""
      ]
     },
     "execution_count": 143,
     "metadata": {},
     "output_type": "execute_result"
    }
   ],
   "source": [
    "#sample_review = \"I'm only 4 episodes in, but it's already my favorite comedy on television right now. The premise is that the characters are in some \\\"Good place\\\" afterlife, but it's not quite endless bliss--in fact, the show wants you to think about what that phrase really means--are you endlessly happy because you are with a bunch of other do-gooder people that make you feel inferior? Are you happy eating frozen yogurt everyday? Or maybe, just maybe, endless bliss is a journey, kind of like life. Meanwhile, you're getting this while listening to snappy dialog and interesting and different characters. ('Toughen up, nerd' was one of Kristen Bell's lines from ep. 4.) Seriously, this is not your average comedy.\"\n",
    "sample_review = \"Just watched the double-episode pilot of The Good Place and I would say it's a Good Comedy. First of all the premise is original. Another newcomer of the season Kevin Can Wait is the epitome of family sitcoms. This is almost in every way new. Only downside: it would be more fitting for a movie than a (long-running?) series. At some point might seem repetitive or loose its initial spark. Second, it seems like it has high production values, I mean a wide set and good visuals. All bright and cheerful. The script holds a few surprises to keep you interested and the blunt editing from afterlife to life and back adds to the entertainment. I like Kristen Bell as the main character. The part suits her. The otherwise great Ted Danson is OK in this one, but I think the writers have to improve his lines. Overall: Because of its very distinct premise, some might love it, some might hate it. Personally I find it entertaining enough to continue watching. \"\n",
    "sample_review"
   ]
  },
  {
   "cell_type": "code",
   "execution_count": 144,
   "metadata": {},
   "outputs": [
    {
     "data": {
      "text/plain": [
       "(64, 1)"
      ]
     },
     "execution_count": 144,
     "metadata": {},
     "output_type": "execute_result"
    }
   ],
   "source": [
    "sample_label = np.zeros(shape=(batch_size,1))\n",
    "sample_label[0,0] = 1 #positive review\n",
    "sample_label.shape"
   ]
  },
  {
   "cell_type": "code",
   "execution_count": 145,
   "metadata": {},
   "outputs": [],
   "source": [
    "def prep_feature(text, seq_len=200, batch_size=64):\n",
    "    text = ' '.join([ contractions[word] if word in contractions else word for word in text.split('[ \\t]+') if word not in stopWords])\n",
    "    print(\"remove stop words and replace contractions\", text)\n",
    "    text = ''.join([c for c in text if c not in punctuation])\n",
    "    print(\"remove punctuation\", text)\n",
    "    text_int = [vocab_to_int.get(word,0) for word in text.split()]\n",
    "    print(\"text to int\", text_int)\n",
    "    if len(text_int) >= seq_len:\n",
    "        text_int = text_int[0:seq_len]\n",
    "    else:\n",
    "        zero_pad = [0] * (seq_len - len(text_int))\n",
    "        text_int = zero_pad + text_int\n",
    "    print(\"text padded \", text_int)\n",
    "    text_int = np.array(text_int).reshape([1,-1])\n",
    "    \n",
    "    feature_matrix = np.zeros(shape=(batch_size,seq_len))\n",
    "    feature_matrix[0,:] = text_int\n",
    "    return feature_matrix"
   ]
  },
  {
   "cell_type": "code",
   "execution_count": 146,
   "metadata": {},
   "outputs": [
    {
     "name": "stdout",
     "output_type": "stream",
     "text": [
      "('remove stop words and replace contractions', \"Just watched the double-episode pilot of The Good Place and I would say it's a Good Comedy. First of all the premise is original. Another newcomer of the season Kevin Can Wait is the epitome of family sitcoms. This is almost in every way new. Only downside: it would be more fitting for a movie than a (long-running?) series. At some point might seem repetitive or loose its initial spark. Second, it seems like it has high production values, I mean a wide set and good visuals. All bright and cheerful. The script holds a few surprises to keep you interested and the blunt editing from afterlife to life and back adds to the entertainment. I like Kristen Bell as the main character. The part suits her. The otherwise great Ted Danson is OK in this one, but I think the writers have to improve his lines. Overall: Because of its very distinct premise, some might love it, some might hate it. Personally I find it entertaining enough to continue watching. \")\n",
      "('remove punctuation', 'Just watched the doubleepisode pilot of The Good Place and I would say its a Good Comedy First of all the premise is original Another newcomer of the season Kevin Can Wait is the epitome of family sitcoms This is almost in every way new Only downside it would be more fitting for a movie than a longrunning series At some point might seem repetitive or loose its initial spark Second it seems like it has high production values I mean a wide set and good visuals All bright and cheerful The script holds a few surprises to keep you interested and the blunt editing from afterlife to life and back adds to the entertainment I like Kristen Bell as the main character The part suits her The otherwise great Ted Danson is OK in this one but I think the writers have to improve his lines Overall Because of its very distinct premise some might love it some might hate it Personally I find it entertaining enough to continue watching ')\n",
      "('text to int', [0, 293, 1, 0, 1753, 4, 0, 0, 0, 2, 0, 61, 133, 92, 3, 0, 0, 0, 4, 31, 1, 846, 6, 200, 0, 6730, 4, 1, 784, 0, 0, 0, 6, 1, 7992, 4, 212, 7613, 0, 6, 217, 9, 174, 94, 162, 0, 9528, 8, 61, 29, 52, 3308, 16, 3, 18, 73, 3, 0, 196, 0, 49, 210, 233, 306, 3590, 42, 1865, 92, 2374, 5132, 0, 8, 185, 39, 8, 47, 308, 360, 1205, 0, 377, 3, 1854, 265, 2, 50, 2041, 0, 1901, 2, 7642, 0, 226, 1752, 3, 170, 2425, 5, 395, 21, 909, 2, 1, 4487, 782, 38, 10980, 5, 110, 2, 144, 1593, 5, 1, 700, 0, 39, 0, 0, 15, 1, 290, 104, 0, 172, 3652, 41, 0, 880, 85, 0, 0, 6, 0, 9, 11, 30, 19, 0, 102, 1, 890, 28, 5, 4370, 27, 406, 0, 0, 4, 92, 55, 4913, 846, 49, 233, 115, 8, 49, 233, 770, 8, 0, 0, 168, 8, 440, 193, 5, 1717, 148])\n",
      "('text padded ', [0, 0, 0, 0, 0, 0, 0, 0, 0, 0, 0, 0, 0, 0, 0, 0, 0, 0, 0, 0, 0, 0, 0, 0, 0, 0, 0, 0, 0, 0, 293, 1, 0, 1753, 4, 0, 0, 0, 2, 0, 61, 133, 92, 3, 0, 0, 0, 4, 31, 1, 846, 6, 200, 0, 6730, 4, 1, 784, 0, 0, 0, 6, 1, 7992, 4, 212, 7613, 0, 6, 217, 9, 174, 94, 162, 0, 9528, 8, 61, 29, 52, 3308, 16, 3, 18, 73, 3, 0, 196, 0, 49, 210, 233, 306, 3590, 42, 1865, 92, 2374, 5132, 0, 8, 185, 39, 8, 47, 308, 360, 1205, 0, 377, 3, 1854, 265, 2, 50, 2041, 0, 1901, 2, 7642, 0, 226, 1752, 3, 170, 2425, 5, 395, 21, 909, 2, 1, 4487, 782, 38, 10980, 5, 110, 2, 144, 1593, 5, 1, 700, 0, 39, 0, 0, 15, 1, 290, 104, 0, 172, 3652, 41, 0, 880, 85, 0, 0, 6, 0, 9, 11, 30, 19, 0, 102, 1, 890, 28, 5, 4370, 27, 406, 0, 0, 4, 92, 55, 4913, 846, 49, 233, 115, 8, 49, 233, 770, 8, 0, 0, 168, 8, 440, 193, 5, 1717, 148])\n"
     ]
    }
   ],
   "source": [
    "sample_feature = prep_feature(sample_review)"
   ]
  },
  {
   "cell_type": "code",
   "execution_count": 147,
   "metadata": {},
   "outputs": [
    {
     "data": {
      "text/plain": [
       "(64, 200)"
      ]
     },
     "execution_count": 147,
     "metadata": {},
     "output_type": "execute_result"
    }
   ],
   "source": [
    "sample_feature.shape"
   ]
  },
  {
   "cell_type": "code",
   "execution_count": 148,
   "metadata": {},
   "outputs": [
    {
     "data": {
      "text/plain": [
       "(64, 1)"
      ]
     },
     "execution_count": 148,
     "metadata": {},
     "output_type": "execute_result"
    }
   ],
   "source": [
    "sample_label.shape"
   ]
  },
  {
   "cell_type": "code",
   "execution_count": 149,
   "metadata": {},
   "outputs": [
    {
     "name": "stdout",
     "output_type": "stream",
     "text": [
      "INFO:tensorflow:Restoring parameters from checkpoints/sentiment.ckpt\n"
     ]
    }
   ],
   "source": [
    "with tf.Session(graph=graph) as sess:\n",
    "    saver.restore(sess, tf.train.latest_checkpoint('checkpoints'))\n",
    "    test_state = sess.run(cell.zero_state(64, tf.float32)) #batch size, just one review\n",
    "    feed = {inputs_: sample_feature,\n",
    "            labels_: sample_label,\n",
    "            keep_prob: 1,\n",
    "            initial_state: test_state}\n",
    "    predictions_out = sess.run([predictions], feed_dict=feed)"
   ]
  },
  {
   "cell_type": "code",
   "execution_count": 151,
   "metadata": {},
   "outputs": [
    {
     "data": {
      "text/plain": [
       "array([ 0.80797893], dtype=float32)"
      ]
     },
     "execution_count": 151,
     "metadata": {},
     "output_type": "execute_result"
    }
   ],
   "source": [
    "predictions_out[0][0]"
   ]
  },
  {
   "cell_type": "markdown",
   "metadata": {},
   "source": [
    "In this sample, the prediction was 0.81. Since predictions 0.5 or greater are labeled as positive reviews, this review was labeled as positive."
   ]
  },
  {
   "cell_type": "markdown",
   "metadata": {},
   "source": [
    "### Try a negative review"
   ]
  },
  {
   "cell_type": "code",
   "execution_count": 152,
   "metadata": {},
   "outputs": [
    {
     "data": {
      "text/plain": [
       "\"When I saw this show advertised it looked good so I thought I'd give it a go. After three episodes, I couldn't watch it any more. Its just not funny. The main character played by Kristen Bell is so unlikeable and IMHO its William Jackson Harper who plays her matched partner who should have the lead. English actress Jameela Jamil who plays Bell's neighbour might look good but her character is annoying and you can tell she doesn't do much acting. Considering I watched The Good Place with a great deal of anticipation, to find out it was as funny as an emergency appointment at the dentist was disappointing. If you want to watch a new comedy that's genuinely funny, avoid this one. They may be in the good place but they're not in a funny place.\""
      ]
     },
     "execution_count": 152,
     "metadata": {},
     "output_type": "execute_result"
    }
   ],
   "source": [
    "sample_review = \"When I saw this show advertised it looked good so I thought I'd give it a go. After three episodes, I couldn't watch it any more. Its just not funny. The main character played by Kristen Bell is so unlikeable and IMHO its William Jackson Harper who plays her matched partner who should have the lead. English actress Jameela Jamil who plays Bell's neighbour might look good but her character is annoying and you can tell she doesn't do much acting. Considering I watched The Good Place with a great deal of anticipation, to find out it was as funny as an emergency appointment at the dentist was disappointing. If you want to watch a new comedy that's genuinely funny, avoid this one. They may be in the good place but they're not in a funny place.\"\n",
    "sample_review"
   ]
  },
  {
   "cell_type": "code",
   "execution_count": 153,
   "metadata": {},
   "outputs": [
    {
     "data": {
      "text/plain": [
       "(64, 1)"
      ]
     },
     "execution_count": 153,
     "metadata": {},
     "output_type": "execute_result"
    }
   ],
   "source": [
    "sample_label = np.zeros(shape=(batch_size,1))\n",
    "sample_label[0,0] = 0 #negative review\n",
    "sample_label.shape"
   ]
  },
  {
   "cell_type": "code",
   "execution_count": 154,
   "metadata": {},
   "outputs": [
    {
     "name": "stdout",
     "output_type": "stream",
     "text": [
      "('remove stop words and replace contractions', \"When I saw this show advertised it looked good so I thought I'd give it a go. After three episodes, I couldn't watch it any more. Its just not funny. The main character played by Kristen Bell is so unlikeable and IMHO its William Jackson Harper who plays her matched partner who should have the lead. English actress Jameela Jamil who plays Bell's neighbour might look good but her character is annoying and you can tell she doesn't do much acting. Considering I watched The Good Place with a great deal of anticipation, to find out it was as funny as an emergency appointment at the dentist was disappointing. If you want to watch a new comedy that's genuinely funny, avoid this one. They may be in the good place but they're not in a funny place.\")\n",
      "('remove punctuation', 'When I saw this show advertised it looked good so I thought Id give it a go After three episodes I couldnt watch it any more Its just not funny The main character played by Kristen Bell is so unlikeable and IMHO its William Jackson Harper who plays her matched partner who should have the lead English actress Jameela Jamil who plays Bells neighbour might look good but her character is annoying and you can tell she doesnt do much acting Considering I watched The Good Place with a great deal of anticipation to find out it was as funny as an emergency appointment at the dentist was disappointing If you want to watch a new comedy thats genuinely funny avoid this one They may be in the good place but theyre not in a funny place')\n",
      "('text to int', [0, 0, 216, 11, 121, 6066, 8, 597, 50, 37, 0, 195, 0, 201, 8, 3, 138, 0, 287, 656, 0, 16848, 105, 8, 100, 52, 0, 43, 24, 164, 0, 290, 104, 252, 34, 0, 0, 6, 37, 6058, 2, 0, 92, 0, 0, 0, 36, 296, 41, 4669, 1868, 36, 142, 28, 1, 475, 0, 507, 0, 0, 36, 296, 0, 12697, 233, 167, 50, 19, 41, 104, 6, 603, 2, 21, 51, 369, 53, 9212, 80, 74, 113, 0, 0, 293, 0, 0, 0, 17, 3, 85, 839, 4, 5466, 5, 168, 45, 8, 14, 15, 164, 15, 35, 10886, 17556, 32, 1, 3072, 14, 1313, 0, 21, 181, 5, 105, 3, 162, 207, 1440, 2044, 164, 781, 11, 30, 0, 199, 29, 9, 1, 50, 269, 19, 26108, 24, 9, 3, 164, 269])\n",
      "('text padded ', [0, 0, 0, 0, 0, 0, 0, 0, 0, 0, 0, 0, 0, 0, 0, 0, 0, 0, 0, 0, 0, 0, 0, 0, 0, 0, 0, 0, 0, 0, 0, 0, 0, 0, 0, 0, 0, 0, 0, 0, 0, 0, 0, 0, 0, 0, 0, 0, 0, 0, 0, 0, 0, 0, 0, 0, 0, 0, 0, 0, 0, 0, 0, 0, 0, 216, 11, 121, 6066, 8, 597, 50, 37, 0, 195, 0, 201, 8, 3, 138, 0, 287, 656, 0, 16848, 105, 8, 100, 52, 0, 43, 24, 164, 0, 290, 104, 252, 34, 0, 0, 6, 37, 6058, 2, 0, 92, 0, 0, 0, 36, 296, 41, 4669, 1868, 36, 142, 28, 1, 475, 0, 507, 0, 0, 36, 296, 0, 12697, 233, 167, 50, 19, 41, 104, 6, 603, 2, 21, 51, 369, 53, 9212, 80, 74, 113, 0, 0, 293, 0, 0, 0, 17, 3, 85, 839, 4, 5466, 5, 168, 45, 8, 14, 15, 164, 15, 35, 10886, 17556, 32, 1, 3072, 14, 1313, 0, 21, 181, 5, 105, 3, 162, 207, 1440, 2044, 164, 781, 11, 30, 0, 199, 29, 9, 1, 50, 269, 19, 26108, 24, 9, 3, 164, 269])\n"
     ]
    }
   ],
   "source": [
    "sample_feature = prep_feature(sample_review)"
   ]
  },
  {
   "cell_type": "code",
   "execution_count": 155,
   "metadata": {},
   "outputs": [
    {
     "name": "stdout",
     "output_type": "stream",
     "text": [
      "INFO:tensorflow:Restoring parameters from checkpoints/sentiment.ckpt\n"
     ]
    }
   ],
   "source": [
    "with tf.Session(graph=graph) as sess:\n",
    "    saver.restore(sess, tf.train.latest_checkpoint('checkpoints'))\n",
    "    test_state = sess.run(cell.zero_state(64, tf.float32)) #batch size, just one review\n",
    "    feed = {inputs_: sample_feature,\n",
    "            labels_: sample_label,\n",
    "            keep_prob: 1,\n",
    "            initial_state: test_state}\n",
    "    predictions_out = sess.run([predictions], feed_dict=feed)"
   ]
  },
  {
   "cell_type": "code",
   "execution_count": 156,
   "metadata": {},
   "outputs": [
    {
     "data": {
      "text/plain": [
       "array([ 0.44261706], dtype=float32)"
      ]
     },
     "execution_count": 156,
     "metadata": {},
     "output_type": "execute_result"
    }
   ],
   "source": [
    "predictions_out[0][0]"
   ]
  },
  {
   "cell_type": "markdown",
   "metadata": {},
   "source": [
    "Since the prediction was 0.44, it's rounded to 0, or a negative review."
   ]
  },
  {
   "cell_type": "code",
   "execution_count": null,
   "metadata": {
    "collapsed": true
   },
   "outputs": [],
   "source": []
  }
 ],
 "metadata": {
  "kernelspec": {
   "display_name": "Python 2",
   "language": "python",
   "name": "python2"
  },
  "language_info": {
   "codemirror_mode": {
    "name": "ipython",
    "version": 2
   },
   "file_extension": ".py",
   "mimetype": "text/x-python",
   "name": "python",
   "nbconvert_exporter": "python",
   "pygments_lexer": "ipython2",
   "version": "2.7.13"
  }
 },
 "nbformat": 4,
 "nbformat_minor": 2
}
